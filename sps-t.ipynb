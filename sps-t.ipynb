{
 "cells": [
  {
   "cell_type": "markdown",
   "id": "2a042cab",
   "metadata": {
    "_cell_guid": "36c2369a-e0fa-4821-b697-272dffebbcd5",
    "_uuid": "3b3aa305-4635-493a-b210-f4e1cc1360a2",
    "jp-MarkdownHeadingCollapsed": true,
    "papermill": {
     "duration": 0.028241,
     "end_time": "2024-02-03T23:02:25.976755",
     "exception": false,
     "start_time": "2024-02-03T23:02:25.948514",
     "status": "completed"
    },
    "tags": []
   },
   "source": [
    "# Spaceship Titanic\n",
    "### A kaggle competition\n",
    "In this notebook we will have a take at the [Spaceship Titanic competition](https://www.kaggle.com/competitions/spaceship-titanic) by Kaggle. \n",
    "We are provided with a dataset of fake data about passengers on a spaceship that disappeared in space. Half of its passenger vanished in an other dimension.\n",
    "We are tasked with predicting the transportation of passengers to an other dimension.  \n",
    "The data is split in two parts : train and test. The test set has no Transported category. We're supposed to make our predictions on the test set, make a csv of our test predictions and upload it to kaggle, which will evaluate our test predictions and give us a score."
   ]
  },
  {
   "cell_type": "markdown",
   "id": "238aeb88",
   "metadata": {
    "_cell_guid": "71548f6c-8dd2-4141-a42d-2652d38a4924",
    "_uuid": "6b3bec52-b71f-453a-8b1e-c79e0f4728c5",
    "jp-MarkdownHeadingCollapsed": true,
    "papermill": {
     "duration": 0.025738,
     "end_time": "2024-02-03T23:02:26.027998",
     "exception": false,
     "start_time": "2024-02-03T23:02:26.002260",
     "status": "completed"
    },
    "tags": []
   },
   "source": [
    "# Table of Contents\n",
    "\n",
    "## Contents\n",
    "\n",
    "1. [Imports](#Imports)\n",
    "2. [Data visualization](#Data-visualization)\n",
    "3. [Feature engineering](#Feature-engineering)\n",
    "4. [Feature selection](#Feature-selection)\n",
    "5. [Encoding feature values](#Encoding-feature-values)\n",
    "6. [Imputing NaN values](#Imputing-NaN-values)\n",
    "7. [Modeling](#Modeling)\n",
    "8. [Results](#Results)"
   ]
  },
  {
   "cell_type": "markdown",
   "id": "ac4f7cd9",
   "metadata": {
    "_cell_guid": "0aeb868e-956c-4739-a99c-370c8d56c705",
    "_uuid": "835e863c-3ce8-43de-87f4-a560661451cb",
    "papermill": {
     "duration": 0.024922,
     "end_time": "2024-02-03T23:02:26.078842",
     "exception": false,
     "start_time": "2024-02-03T23:02:26.053920",
     "status": "completed"
    },
    "tags": []
   },
   "source": [
    "# Imports"
   ]
  },
  {
   "cell_type": "code",
   "execution_count": 5,
   "id": "8512d0b5",
   "metadata": {
    "_cell_guid": "810d466c-32cc-4a8d-a166-c09d1f06a0c2",
    "_uuid": "124a480b-cf58-4b3a-a1d7-74693aa350a5",
    "collapsed": false,
    "jupyter": {
     "outputs_hidden": false
    },
    "papermill": {
     "duration": 2.950344,
     "end_time": "2024-02-03T23:02:29.054171",
     "exception": false,
     "start_time": "2024-02-03T23:02:26.103827",
     "status": "completed"
    },
    "tags": []
   },
   "outputs": [],
   "source": [
    "import pandas as pd\n",
    "import numpy as np\n",
    "import seaborn as sns\n",
    "import matplotlib.pyplot as plt\n",
    "import warnings\n",
    "warnings.filterwarnings(\"ignore\")\n",
    "from scipy.stats import zscore\n",
    "from sklearn.neighbors import KNeighborsClassifier\n",
    "from sklearn.ensemble import RandomForestClassifier\n",
    "from sklearn.preprocessing import OrdinalEncoder, LabelEncoder, OneHotEncoder\n",
    "from sklearn.impute import SimpleImputer, KNNImputer\n",
    "from sklearn.model_selection import train_test_split, GridSearchCV, cross_validate, cross_val_score, ShuffleSplit, RandomizedSearchCV, RandomizedSearchCV\n",
    "from sklearn.feature_selection import  chi2, SelectKBest\n",
    "from sklearn.pipeline import make_pipeline\n",
    "from sklearn.metrics import accuracy_score"
   ]
  },
  {
   "cell_type": "markdown",
   "id": "27559751",
   "metadata": {
    "_cell_guid": "44b7adc3-7256-436f-aec8-a492a100a81c",
    "_uuid": "c5eab162-d5da-4983-93c1-4ee751cb0c8d",
    "papermill": {
     "duration": 0.02485,
     "end_time": "2024-02-03T23:02:29.104269",
     "exception": false,
     "start_time": "2024-02-03T23:02:29.079419",
     "status": "completed"
    },
    "tags": []
   },
   "source": [
    "# Data visualization"
   ]
  },
  {
   "cell_type": "markdown",
   "id": "c07f287b",
   "metadata": {
    "_cell_guid": "ed23fab0-fcd8-40b3-96bd-166db693d71f",
    "_uuid": "b46eb3f6-82d5-446f-b9e3-036c1f318cb3",
    "papermill": {
     "duration": 0.024624,
     "end_time": "2024-02-03T23:02:29.154076",
     "exception": false,
     "start_time": "2024-02-03T23:02:29.129452",
     "status": "completed"
    },
    "tags": []
   },
   "source": [
    "We'll first visualize the data before manipulating the data.  \n",
    "Let's open the dataset. We'll combine both the training and the test data, so that our data manipulations and feature engineering applies to both the datasets."
   ]
  },
  {
   "cell_type": "code",
   "execution_count": 6,
   "id": "67f02d21",
   "metadata": {
    "_cell_guid": "6bff29a5-e334-4e54-b1e8-533aa1b5c2b7",
    "_uuid": "a7066b9a-d2cc-47c1-a698-6cba2d85626d",
    "collapsed": false,
    "jupyter": {
     "outputs_hidden": false
    },
    "papermill": {
     "duration": 0.162321,
     "end_time": "2024-02-03T23:02:29.341357",
     "exception": false,
     "start_time": "2024-02-03T23:02:29.179036",
     "status": "completed"
    },
    "tags": []
   },
   "outputs": [
    {
     "data": {
      "text/html": [
       "<div>\n",
       "<style scoped>\n",
       "    .dataframe tbody tr th:only-of-type {\n",
       "        vertical-align: middle;\n",
       "    }\n",
       "\n",
       "    .dataframe tbody tr th {\n",
       "        vertical-align: top;\n",
       "    }\n",
       "\n",
       "    .dataframe thead th {\n",
       "        text-align: right;\n",
       "    }\n",
       "</style>\n",
       "<table border=\"1\" class=\"dataframe\">\n",
       "  <thead>\n",
       "    <tr style=\"text-align: right;\">\n",
       "      <th></th>\n",
       "      <th>PassengerId</th>\n",
       "      <th>HomePlanet</th>\n",
       "      <th>CryoSleep</th>\n",
       "      <th>Cabin</th>\n",
       "      <th>Destination</th>\n",
       "      <th>Age</th>\n",
       "      <th>VIP</th>\n",
       "      <th>RoomService</th>\n",
       "      <th>FoodCourt</th>\n",
       "      <th>ShoppingMall</th>\n",
       "      <th>Spa</th>\n",
       "      <th>VRDeck</th>\n",
       "      <th>Name</th>\n",
       "      <th>Transported</th>\n",
       "    </tr>\n",
       "  </thead>\n",
       "  <tbody>\n",
       "    <tr>\n",
       "      <th>0</th>\n",
       "      <td>0001_01</td>\n",
       "      <td>Europa</td>\n",
       "      <td>False</td>\n",
       "      <td>B/0/P</td>\n",
       "      <td>TRAPPIST-1e</td>\n",
       "      <td>39.0</td>\n",
       "      <td>False</td>\n",
       "      <td>0.0</td>\n",
       "      <td>0.0</td>\n",
       "      <td>0.0</td>\n",
       "      <td>0.0</td>\n",
       "      <td>0.0</td>\n",
       "      <td>Maham Ofracculy</td>\n",
       "      <td>False</td>\n",
       "    </tr>\n",
       "    <tr>\n",
       "      <th>1</th>\n",
       "      <td>0002_01</td>\n",
       "      <td>Earth</td>\n",
       "      <td>False</td>\n",
       "      <td>F/0/S</td>\n",
       "      <td>TRAPPIST-1e</td>\n",
       "      <td>24.0</td>\n",
       "      <td>False</td>\n",
       "      <td>109.0</td>\n",
       "      <td>9.0</td>\n",
       "      <td>25.0</td>\n",
       "      <td>549.0</td>\n",
       "      <td>44.0</td>\n",
       "      <td>Juanna Vines</td>\n",
       "      <td>True</td>\n",
       "    </tr>\n",
       "    <tr>\n",
       "      <th>2</th>\n",
       "      <td>0003_01</td>\n",
       "      <td>Europa</td>\n",
       "      <td>False</td>\n",
       "      <td>A/0/S</td>\n",
       "      <td>TRAPPIST-1e</td>\n",
       "      <td>58.0</td>\n",
       "      <td>True</td>\n",
       "      <td>43.0</td>\n",
       "      <td>3576.0</td>\n",
       "      <td>0.0</td>\n",
       "      <td>6715.0</td>\n",
       "      <td>49.0</td>\n",
       "      <td>Altark Susent</td>\n",
       "      <td>False</td>\n",
       "    </tr>\n",
       "    <tr>\n",
       "      <th>3</th>\n",
       "      <td>0003_02</td>\n",
       "      <td>Europa</td>\n",
       "      <td>False</td>\n",
       "      <td>A/0/S</td>\n",
       "      <td>TRAPPIST-1e</td>\n",
       "      <td>33.0</td>\n",
       "      <td>False</td>\n",
       "      <td>0.0</td>\n",
       "      <td>1283.0</td>\n",
       "      <td>371.0</td>\n",
       "      <td>3329.0</td>\n",
       "      <td>193.0</td>\n",
       "      <td>Solam Susent</td>\n",
       "      <td>False</td>\n",
       "    </tr>\n",
       "    <tr>\n",
       "      <th>4</th>\n",
       "      <td>0004_01</td>\n",
       "      <td>Earth</td>\n",
       "      <td>False</td>\n",
       "      <td>F/1/S</td>\n",
       "      <td>TRAPPIST-1e</td>\n",
       "      <td>16.0</td>\n",
       "      <td>False</td>\n",
       "      <td>303.0</td>\n",
       "      <td>70.0</td>\n",
       "      <td>151.0</td>\n",
       "      <td>565.0</td>\n",
       "      <td>2.0</td>\n",
       "      <td>Willy Santantines</td>\n",
       "      <td>True</td>\n",
       "    </tr>\n",
       "    <tr>\n",
       "      <th>...</th>\n",
       "      <td>...</td>\n",
       "      <td>...</td>\n",
       "      <td>...</td>\n",
       "      <td>...</td>\n",
       "      <td>...</td>\n",
       "      <td>...</td>\n",
       "      <td>...</td>\n",
       "      <td>...</td>\n",
       "      <td>...</td>\n",
       "      <td>...</td>\n",
       "      <td>...</td>\n",
       "      <td>...</td>\n",
       "      <td>...</td>\n",
       "      <td>...</td>\n",
       "    </tr>\n",
       "    <tr>\n",
       "      <th>8688</th>\n",
       "      <td>9276_01</td>\n",
       "      <td>Europa</td>\n",
       "      <td>False</td>\n",
       "      <td>A/98/P</td>\n",
       "      <td>55 Cancri e</td>\n",
       "      <td>41.0</td>\n",
       "      <td>True</td>\n",
       "      <td>0.0</td>\n",
       "      <td>6819.0</td>\n",
       "      <td>0.0</td>\n",
       "      <td>1643.0</td>\n",
       "      <td>74.0</td>\n",
       "      <td>Gravior Noxnuther</td>\n",
       "      <td>False</td>\n",
       "    </tr>\n",
       "    <tr>\n",
       "      <th>8689</th>\n",
       "      <td>9278_01</td>\n",
       "      <td>Earth</td>\n",
       "      <td>True</td>\n",
       "      <td>G/1499/S</td>\n",
       "      <td>PSO J318.5-22</td>\n",
       "      <td>18.0</td>\n",
       "      <td>False</td>\n",
       "      <td>0.0</td>\n",
       "      <td>0.0</td>\n",
       "      <td>0.0</td>\n",
       "      <td>0.0</td>\n",
       "      <td>0.0</td>\n",
       "      <td>Kurta Mondalley</td>\n",
       "      <td>False</td>\n",
       "    </tr>\n",
       "    <tr>\n",
       "      <th>8690</th>\n",
       "      <td>9279_01</td>\n",
       "      <td>Earth</td>\n",
       "      <td>False</td>\n",
       "      <td>G/1500/S</td>\n",
       "      <td>TRAPPIST-1e</td>\n",
       "      <td>26.0</td>\n",
       "      <td>False</td>\n",
       "      <td>0.0</td>\n",
       "      <td>0.0</td>\n",
       "      <td>1872.0</td>\n",
       "      <td>1.0</td>\n",
       "      <td>0.0</td>\n",
       "      <td>Fayey Connon</td>\n",
       "      <td>True</td>\n",
       "    </tr>\n",
       "    <tr>\n",
       "      <th>8691</th>\n",
       "      <td>9280_01</td>\n",
       "      <td>Europa</td>\n",
       "      <td>False</td>\n",
       "      <td>E/608/S</td>\n",
       "      <td>55 Cancri e</td>\n",
       "      <td>32.0</td>\n",
       "      <td>False</td>\n",
       "      <td>0.0</td>\n",
       "      <td>1049.0</td>\n",
       "      <td>0.0</td>\n",
       "      <td>353.0</td>\n",
       "      <td>3235.0</td>\n",
       "      <td>Celeon Hontichre</td>\n",
       "      <td>False</td>\n",
       "    </tr>\n",
       "    <tr>\n",
       "      <th>8692</th>\n",
       "      <td>9280_02</td>\n",
       "      <td>Europa</td>\n",
       "      <td>False</td>\n",
       "      <td>E/608/S</td>\n",
       "      <td>TRAPPIST-1e</td>\n",
       "      <td>44.0</td>\n",
       "      <td>False</td>\n",
       "      <td>126.0</td>\n",
       "      <td>4688.0</td>\n",
       "      <td>0.0</td>\n",
       "      <td>0.0</td>\n",
       "      <td>12.0</td>\n",
       "      <td>Propsh Hontichre</td>\n",
       "      <td>True</td>\n",
       "    </tr>\n",
       "  </tbody>\n",
       "</table>\n",
       "<p>8693 rows × 14 columns</p>\n",
       "</div>"
      ],
      "text/plain": [
       "     PassengerId HomePlanet CryoSleep     Cabin    Destination   Age    VIP  \\\n",
       "0        0001_01     Europa     False     B/0/P    TRAPPIST-1e  39.0  False   \n",
       "1        0002_01      Earth     False     F/0/S    TRAPPIST-1e  24.0  False   \n",
       "2        0003_01     Europa     False     A/0/S    TRAPPIST-1e  58.0   True   \n",
       "3        0003_02     Europa     False     A/0/S    TRAPPIST-1e  33.0  False   \n",
       "4        0004_01      Earth     False     F/1/S    TRAPPIST-1e  16.0  False   \n",
       "...          ...        ...       ...       ...            ...   ...    ...   \n",
       "8688     9276_01     Europa     False    A/98/P    55 Cancri e  41.0   True   \n",
       "8689     9278_01      Earth      True  G/1499/S  PSO J318.5-22  18.0  False   \n",
       "8690     9279_01      Earth     False  G/1500/S    TRAPPIST-1e  26.0  False   \n",
       "8691     9280_01     Europa     False   E/608/S    55 Cancri e  32.0  False   \n",
       "8692     9280_02     Europa     False   E/608/S    TRAPPIST-1e  44.0  False   \n",
       "\n",
       "      RoomService  FoodCourt  ShoppingMall     Spa  VRDeck               Name  \\\n",
       "0             0.0        0.0           0.0     0.0     0.0    Maham Ofracculy   \n",
       "1           109.0        9.0          25.0   549.0    44.0       Juanna Vines   \n",
       "2            43.0     3576.0           0.0  6715.0    49.0      Altark Susent   \n",
       "3             0.0     1283.0         371.0  3329.0   193.0       Solam Susent   \n",
       "4           303.0       70.0         151.0   565.0     2.0  Willy Santantines   \n",
       "...           ...        ...           ...     ...     ...                ...   \n",
       "8688          0.0     6819.0           0.0  1643.0    74.0  Gravior Noxnuther   \n",
       "8689          0.0        0.0           0.0     0.0     0.0    Kurta Mondalley   \n",
       "8690          0.0        0.0        1872.0     1.0     0.0       Fayey Connon   \n",
       "8691          0.0     1049.0           0.0   353.0  3235.0   Celeon Hontichre   \n",
       "8692        126.0     4688.0           0.0     0.0    12.0   Propsh Hontichre   \n",
       "\n",
       "      Transported  \n",
       "0           False  \n",
       "1            True  \n",
       "2           False  \n",
       "3           False  \n",
       "4            True  \n",
       "...           ...  \n",
       "8688        False  \n",
       "8689        False  \n",
       "8690         True  \n",
       "8691        False  \n",
       "8692         True  \n",
       "\n",
       "[8693 rows x 14 columns]"
      ]
     },
     "execution_count": 6,
     "metadata": {},
     "output_type": "execute_result"
    }
   ],
   "source": [
    "df = pd.read_csv('train.csv')\n",
    "df"
   ]
  },
  {
   "cell_type": "code",
   "execution_count": 7,
   "id": "e49309d0",
   "metadata": {
    "_cell_guid": "24966c19-4bf0-43d7-9efc-e9db6ea7cc21",
    "_uuid": "751edb8e-78bf-46fd-ac10-dee798061586",
    "collapsed": false,
    "jupyter": {
     "outputs_hidden": false
    },
    "papermill": {
     "duration": 0.037682,
     "end_time": "2024-02-03T23:02:29.404852",
     "exception": false,
     "start_time": "2024-02-03T23:02:29.367170",
     "status": "completed"
    },
    "tags": []
   },
   "outputs": [
    {
     "data": {
      "text/plain": [
       "PassengerId      object\n",
       "HomePlanet       object\n",
       "CryoSleep        object\n",
       "Cabin            object\n",
       "Destination      object\n",
       "Age             float64\n",
       "VIP              object\n",
       "RoomService     float64\n",
       "FoodCourt       float64\n",
       "ShoppingMall    float64\n",
       "Spa             float64\n",
       "VRDeck          float64\n",
       "Name             object\n",
       "Transported        bool\n",
       "dtype: object"
      ]
     },
     "execution_count": 7,
     "metadata": {},
     "output_type": "execute_result"
    }
   ],
   "source": [
    "df.dtypes"
   ]
  },
  {
   "cell_type": "code",
   "execution_count": 8,
   "id": "b8059d41",
   "metadata": {
    "_cell_guid": "57a9c557-5d84-40e0-a8bc-86e8af110d57",
    "_uuid": "b7b8000d-663b-40d5-a202-39870fd668a5",
    "collapsed": false,
    "jupyter": {
     "outputs_hidden": false
    },
    "papermill": {
     "duration": 0.03623,
     "end_time": "2024-02-03T23:02:29.467009",
     "exception": false,
     "start_time": "2024-02-03T23:02:29.430779",
     "status": "completed"
    },
    "tags": []
   },
   "outputs": [
    {
     "data": {
      "text/plain": [
       "(8693, 14)"
      ]
     },
     "execution_count": 8,
     "metadata": {},
     "output_type": "execute_result"
    }
   ],
   "source": [
    "df.shape"
   ]
  },
  {
   "cell_type": "code",
   "execution_count": 9,
   "id": "9510182a",
   "metadata": {
    "_cell_guid": "4bd4cb38-711a-49e0-b821-030ef7f79cbc",
    "_uuid": "30c71634-9df4-4d11-9ad4-748a4dc5b2ed",
    "collapsed": false,
    "jupyter": {
     "outputs_hidden": false
    },
    "papermill": {
     "duration": 0.06726,
     "end_time": "2024-02-03T23:02:29.560408",
     "exception": false,
     "start_time": "2024-02-03T23:02:29.493148",
     "status": "completed"
    },
    "tags": []
   },
   "outputs": [
    {
     "data": {
      "text/html": [
       "<div>\n",
       "<style scoped>\n",
       "    .dataframe tbody tr th:only-of-type {\n",
       "        vertical-align: middle;\n",
       "    }\n",
       "\n",
       "    .dataframe tbody tr th {\n",
       "        vertical-align: top;\n",
       "    }\n",
       "\n",
       "    .dataframe thead th {\n",
       "        text-align: right;\n",
       "    }\n",
       "</style>\n",
       "<table border=\"1\" class=\"dataframe\">\n",
       "  <thead>\n",
       "    <tr style=\"text-align: right;\">\n",
       "      <th></th>\n",
       "      <th>Age</th>\n",
       "      <th>RoomService</th>\n",
       "      <th>FoodCourt</th>\n",
       "      <th>ShoppingMall</th>\n",
       "      <th>Spa</th>\n",
       "      <th>VRDeck</th>\n",
       "    </tr>\n",
       "  </thead>\n",
       "  <tbody>\n",
       "    <tr>\n",
       "      <th>count</th>\n",
       "      <td>8514.000000</td>\n",
       "      <td>8512.000000</td>\n",
       "      <td>8510.000000</td>\n",
       "      <td>8485.000000</td>\n",
       "      <td>8510.000000</td>\n",
       "      <td>8505.000000</td>\n",
       "    </tr>\n",
       "    <tr>\n",
       "      <th>mean</th>\n",
       "      <td>28.827930</td>\n",
       "      <td>224.687617</td>\n",
       "      <td>458.077203</td>\n",
       "      <td>173.729169</td>\n",
       "      <td>311.138778</td>\n",
       "      <td>304.854791</td>\n",
       "    </tr>\n",
       "    <tr>\n",
       "      <th>std</th>\n",
       "      <td>14.489021</td>\n",
       "      <td>666.717663</td>\n",
       "      <td>1611.489240</td>\n",
       "      <td>604.696458</td>\n",
       "      <td>1136.705535</td>\n",
       "      <td>1145.717189</td>\n",
       "    </tr>\n",
       "    <tr>\n",
       "      <th>min</th>\n",
       "      <td>0.000000</td>\n",
       "      <td>0.000000</td>\n",
       "      <td>0.000000</td>\n",
       "      <td>0.000000</td>\n",
       "      <td>0.000000</td>\n",
       "      <td>0.000000</td>\n",
       "    </tr>\n",
       "    <tr>\n",
       "      <th>25%</th>\n",
       "      <td>19.000000</td>\n",
       "      <td>0.000000</td>\n",
       "      <td>0.000000</td>\n",
       "      <td>0.000000</td>\n",
       "      <td>0.000000</td>\n",
       "      <td>0.000000</td>\n",
       "    </tr>\n",
       "    <tr>\n",
       "      <th>50%</th>\n",
       "      <td>27.000000</td>\n",
       "      <td>0.000000</td>\n",
       "      <td>0.000000</td>\n",
       "      <td>0.000000</td>\n",
       "      <td>0.000000</td>\n",
       "      <td>0.000000</td>\n",
       "    </tr>\n",
       "    <tr>\n",
       "      <th>75%</th>\n",
       "      <td>38.000000</td>\n",
       "      <td>47.000000</td>\n",
       "      <td>76.000000</td>\n",
       "      <td>27.000000</td>\n",
       "      <td>59.000000</td>\n",
       "      <td>46.000000</td>\n",
       "    </tr>\n",
       "    <tr>\n",
       "      <th>max</th>\n",
       "      <td>79.000000</td>\n",
       "      <td>14327.000000</td>\n",
       "      <td>29813.000000</td>\n",
       "      <td>23492.000000</td>\n",
       "      <td>22408.000000</td>\n",
       "      <td>24133.000000</td>\n",
       "    </tr>\n",
       "  </tbody>\n",
       "</table>\n",
       "</div>"
      ],
      "text/plain": [
       "               Age   RoomService     FoodCourt  ShoppingMall           Spa  \\\n",
       "count  8514.000000   8512.000000   8510.000000   8485.000000   8510.000000   \n",
       "mean     28.827930    224.687617    458.077203    173.729169    311.138778   \n",
       "std      14.489021    666.717663   1611.489240    604.696458   1136.705535   \n",
       "min       0.000000      0.000000      0.000000      0.000000      0.000000   \n",
       "25%      19.000000      0.000000      0.000000      0.000000      0.000000   \n",
       "50%      27.000000      0.000000      0.000000      0.000000      0.000000   \n",
       "75%      38.000000     47.000000     76.000000     27.000000     59.000000   \n",
       "max      79.000000  14327.000000  29813.000000  23492.000000  22408.000000   \n",
       "\n",
       "             VRDeck  \n",
       "count   8505.000000  \n",
       "mean     304.854791  \n",
       "std     1145.717189  \n",
       "min        0.000000  \n",
       "25%        0.000000  \n",
       "50%        0.000000  \n",
       "75%       46.000000  \n",
       "max    24133.000000  "
      ]
     },
     "execution_count": 9,
     "metadata": {},
     "output_type": "execute_result"
    }
   ],
   "source": [
    "df.describe()"
   ]
  },
  {
   "cell_type": "code",
   "execution_count": 10,
   "id": "ef7a30b0",
   "metadata": {
    "_cell_guid": "8383d1d9-0700-4a1e-b677-445db8f4884e",
    "_uuid": "44fc42f8-0ac9-45fb-81ef-ac93f237970b",
    "collapsed": false,
    "jupyter": {
     "outputs_hidden": false
    },
    "papermill": {
     "duration": 0.096903,
     "end_time": "2024-02-03T23:02:29.683997",
     "exception": false,
     "start_time": "2024-02-03T23:02:29.587094",
     "status": "completed"
    },
    "tags": []
   },
   "outputs": [
    {
     "data": {
      "text/plain": [
       "PassengerId      object\n",
       "HomePlanet       object\n",
       "CryoSleep        object\n",
       "Cabin            object\n",
       "Destination      object\n",
       "Age             float64\n",
       "VIP              object\n",
       "RoomService     float64\n",
       "FoodCourt       float64\n",
       "ShoppingMall    float64\n",
       "Spa             float64\n",
       "VRDeck          float64\n",
       "Name             object\n",
       "Transported        bool\n",
       "dtype: object"
      ]
     },
     "execution_count": 10,
     "metadata": {},
     "output_type": "execute_result"
    }
   ],
   "source": [
    "df.dtypes"
   ]
  },
  {
   "cell_type": "markdown",
   "id": "b87f9362",
   "metadata": {
    "_cell_guid": "6e06d9c4-ea1c-45cc-8248-1cbd23b2adcc",
    "_uuid": "3e7a9e5b-72a6-461c-a709-2f2f680a249d",
    "papermill": {
     "duration": 0.026488,
     "end_time": "2024-02-03T23:02:29.737251",
     "exception": false,
     "start_time": "2024-02-03T23:02:29.710763",
     "status": "completed"
    },
    "tags": []
   },
   "source": [
    "Let's check the distributions of the transported classes in relation to the features"
   ]
  },
  {
   "cell_type": "code",
   "execution_count": 11,
   "id": "ec249aa9",
   "metadata": {
    "_cell_guid": "32e2a18d-0650-49d1-af7e-381a8a918e7e",
    "_uuid": "233f9109-af8f-45f6-b0af-1560a46e2c5c",
    "collapsed": false,
    "jupyter": {
     "outputs_hidden": false
    },
    "papermill": {
     "duration": 0.043898,
     "end_time": "2024-02-03T23:02:29.807934",
     "exception": false,
     "start_time": "2024-02-03T23:02:29.764036",
     "status": "completed"
    },
    "tags": []
   },
   "outputs": [
    {
     "data": {
      "text/plain": [
       "True     4378\n",
       "False    4315\n",
       "Name: Transported, dtype: int64"
      ]
     },
     "execution_count": 11,
     "metadata": {},
     "output_type": "execute_result"
    }
   ],
   "source": [
    "target_value_counts = df['Transported'].value_counts()\n",
    "target_value_counts"
   ]
  },
  {
   "cell_type": "code",
   "execution_count": 12,
   "id": "c40855f8",
   "metadata": {
    "_cell_guid": "73394e09-02c2-4bd8-93ce-b1220faf6870",
    "_uuid": "689e30d5-2cef-4a49-9a98-144d32a89cd8",
    "collapsed": false,
    "jupyter": {
     "outputs_hidden": false
    },
    "papermill": {
     "duration": 0.179185,
     "end_time": "2024-02-03T23:02:30.014360",
     "exception": false,
     "start_time": "2024-02-03T23:02:29.835175",
     "status": "completed"
    },
    "tags": []
   },
   "outputs": [
    {
     "data": {
      "image/png": "[encoded data removed]",
      "text/plain": [
       "<Figure size 640x480 with 1 Axes>"
      ]
     },
     "metadata": {},
     "output_type": "display_data"
    }
   ],
   "source": [
    "plt.bar(['True', 'False'], target_value_counts)\n",
    "plt.show()"
   ]
  },
  {
   "cell_type": "markdown",
   "id": "533e3407",
   "metadata": {
    "_cell_guid": "368dc44c-f812-461c-872d-e70137560bef",
    "_uuid": "04fd0698-493c-44bb-8813-614d07a640f8",
    "papermill": {
     "duration": 0.028493,
     "end_time": "2024-02-03T23:02:30.070974",
     "exception": false,
     "start_time": "2024-02-03T23:02:30.042481",
     "status": "completed"
    },
    "tags": []
   },
   "source": [
    "The count of True and False values are around the same. The target labels are balanced."
   ]
  },
  {
   "cell_type": "markdown",
   "id": "2567295a",
   "metadata": {
    "_cell_guid": "ded7ed23-4b4f-4cb4-8653-4690ca8ab464",
    "_uuid": "14cfd2fd-403d-40fe-b69b-2397664e99b6",
    "papermill": {
     "duration": 0.027271,
     "end_time": "2024-02-03T23:02:30.126015",
     "exception": false,
     "start_time": "2024-02-03T23:02:30.098744",
     "status": "completed"
    },
    "tags": []
   },
   "source": [
    "We check the number of Transported people according to numerical features"
   ]
  },
  {
   "cell_type": "code",
   "execution_count": 13,
   "id": "c106ad00",
   "metadata": {
    "_cell_guid": "9230f22f-9cc3-4cf9-bf52-ea5c0bdb97a9",
    "_uuid": "b1d8eef5-1a67-42cd-aa89-b0c34d33ee82",
    "collapsed": false,
    "jupyter": {
     "outputs_hidden": false
    },
    "papermill": {
     "duration": 2.669944,
     "end_time": "2024-02-03T23:02:32.823647",
     "exception": false,
     "start_time": "2024-02-03T23:02:30.153703",
     "status": "completed"
    },
    "tags": []
   },
   "outputs": [
    {
     "data": {
      "image/png": "[encoded data removed]",
      "text/plain": [
       "<Figure size 2000x1700 with 6 Axes>"
      ]
     },
     "metadata": {},
     "output_type": "display_data"
    }
   ],
   "source": [
    "columns = ['Age', 'RoomService','FoodCourt','ShoppingMall','Spa','VRDeck']\n",
    "fig, axs = plt.subplots(nrows=3, ncols=2, figsize=(20,17))\n",
    "fig.tight_layout(pad=4)\n",
    "for i,col in enumerate(columns):\n",
    "    sns.histplot(data=df[[col,'Transported']].dropna(axis=0), x=col, hue=\"Transported\", ax=axs[i%3,i//3], bins=30)\n",
    "    #pos = df[df['Transported'] == 1][col]\n",
    "    #neg = df[df['Transported'] == 0][col]\n",
    "    #axs[i%3,i//3].hist(pos, label=\"Positive\")\n",
    "    #axs[i%3,i//3].hist(neg, label=\"Negative\")\n",
    "    #axs[i%3,i//3].legend()\n",
    "    #axs[i%3,i//3].set_title(col)\n",
    "\n",
    "plt.show()"
   ]
  },
  {
   "cell_type": "markdown",
   "id": "c1fc9d1f",
   "metadata": {
    "papermill": {
     "duration": 0.029532,
     "end_time": "2024-02-03T23:02:32.883467",
     "exception": false,
     "start_time": "2024-02-03T23:02:32.853935",
     "status": "completed"
    },
    "tags": []
   },
   "source": [
    "We notice that FoodCourt and ShoppingMall share the same distribution, whether or not the person has been transported. So we could try removing that column off of our dataframe."
   ]
  },
  {
   "cell_type": "markdown",
   "id": "8ba092e0-b485-4420-b2ef-838ee2d85f7d",
   "metadata": {},
   "source": [
    "Now we can clearly see that people who tended to spend more on didn't get transported"
   ]
  },
  {
   "cell_type": "code",
   "execution_count": 14,
   "id": "7b78fa8f",
   "metadata": {
    "_cell_guid": "c93843c7-e468-45b2-9890-93bc1870a15a",
    "_uuid": "b1d20ee0-847a-4aba-a225-389579e951bc",
    "collapsed": false,
    "jupyter": {
     "outputs_hidden": false
    },
    "papermill": {
     "duration": 0.370293,
     "end_time": "2024-02-03T23:02:33.283620",
     "exception": false,
     "start_time": "2024-02-03T23:02:32.913327",
     "status": "completed"
    },
    "tags": []
   },
   "outputs": [
    {
     "data": {
      "text/plain": [
       "<Axes: xlabel='Transported', ylabel='Age'>"
      ]
     },
     "execution_count": 14,
     "metadata": {},
     "output_type": "execute_result"
    },
    {
     "data": {
      "image/png": "[encoded data removed]",
      "text/plain": [
       "<Figure size 640x480 with 1 Axes>"
      ]
     },
     "metadata": {},
     "output_type": "display_data"
    }
   ],
   "source": [
    "sns.boxplot(data=df[['Age', 'Transported']].dropna(axis=0), y='Age', x='Transported', width=0.5)"
   ]
  },
  {
   "cell_type": "markdown",
   "id": "c7597b2f",
   "metadata": {
    "_cell_guid": "1f9af56c-2248-4a7a-ac52-d95f93b4e7be",
    "_uuid": "c3edcbca-3aac-4a42-9c81-993a2622add6",
    "papermill": {
     "duration": 0.030495,
     "end_time": "2024-02-03T23:02:33.344112",
     "exception": false,
     "start_time": "2024-02-03T23:02:33.313617",
     "status": "completed"
    },
    "tags": []
   },
   "source": [
    "Transported people tend to be younger. The quantiles are more spaced."
   ]
  },
  {
   "cell_type": "code",
   "execution_count": 15,
   "id": "9d62e1ba",
   "metadata": {
    "_cell_guid": "a7d6a527-f91e-4dfa-b6a4-8d7b49f2b227",
    "_uuid": "00659024-a0be-466e-ba6d-d8abd44a5111",
    "collapsed": false,
    "jupyter": {
     "outputs_hidden": false
    },
    "papermill": {
     "duration": 1.508587,
     "end_time": "2024-02-03T23:02:34.883457",
     "exception": false,
     "start_time": "2024-02-03T23:02:33.374870",
     "status": "completed"
    },
    "tags": []
   },
   "outputs": [
    {
     "data": {
      "image/png": "[encoded data removed]",
      "text/plain": [
       "<Figure size 1000x1700 with 8 Axes>"
      ]
     },
     "metadata": {},
     "output_type": "display_data"
    }
   ],
   "source": [
    "columns = ['HomePlanet','CryoSleep','Destination','VIP']\n",
    "fig, axs = plt.subplots(nrows=4, ncols=2, figsize=(10,17))\n",
    "fig.tight_layout(pad=10)\n",
    "for i,col in enumerate(columns):\n",
    "    axs[i%4,0].set_title(col+\" Transported\")\n",
    "    df[df['Transported'] == True][col].value_counts().plot(kind='bar', ax=axs[i%4,0])\n",
    "    \n",
    "    axs[i%4,1].set_title(col+\" Not Transported\")\n",
    "    df[df['Transported'] == False][col].value_counts().plot(kind='bar', ax=axs[i%4,1])\n",
    "\n",
    "plt.show()"
   ]
  },
  {
   "cell_type": "markdown",
   "id": "e8aa7117",
   "metadata": {
    "_cell_guid": "9002d612-02cd-4fa9-9757-cbddc70be9a7",
    "_uuid": "20750964-2b21-479c-bfff-ad64052f9711",
    "papermill": {
     "duration": 0.031727,
     "end_time": "2024-02-03T23:02:34.946803",
     "exception": false,
     "start_time": "2024-02-03T23:02:34.915076",
     "status": "completed"
    },
    "tags": []
   },
   "source": [
    "People in cryosleep were very less likely to be transported  \n",
    "VIP didn't change the proportions of transported people. Though slightly more Not Transported people were VIP."
   ]
  },
  {
   "cell_type": "markdown",
   "id": "5df5a5ea",
   "metadata": {
    "_cell_guid": "fc179980-aa97-469d-918c-94bc6f91cd48",
    "_uuid": "f25075b6-9f9c-467f-962b-1d54ffcff644",
    "jp-MarkdownHeadingCollapsed": true,
    "papermill": {
     "duration": 0.032179,
     "end_time": "2024-02-03T23:02:35.010816",
     "exception": false,
     "start_time": "2024-02-03T23:02:34.978637",
     "status": "completed"
    },
    "tags": []
   },
   "source": [
    "# Feature engineering"
   ]
  },
  {
   "cell_type": "code",
   "execution_count": 16,
   "id": "05c6d0ac",
   "metadata": {
    "_cell_guid": "c09616aa-5c21-4bc2-b5f5-186abe642e8d",
    "_uuid": "cb936987-8ed1-4714-b67d-a16d65cea1df",
    "collapsed": false,
    "jupyter": {
     "outputs_hidden": false
    },
    "papermill": {
     "duration": 0.068384,
     "end_time": "2024-02-03T23:02:35.110778",
     "exception": false,
     "start_time": "2024-02-03T23:02:35.042394",
     "status": "completed"
    },
    "tags": []
   },
   "outputs": [
    {
     "data": {
      "text/html": [
       "<div>\n",
       "<style scoped>\n",
       "    .dataframe tbody tr th:only-of-type {\n",
       "        vertical-align: middle;\n",
       "    }\n",
       "\n",
       "    .dataframe tbody tr th {\n",
       "        vertical-align: top;\n",
       "    }\n",
       "\n",
       "    .dataframe thead th {\n",
       "        text-align: right;\n",
       "    }\n",
       "</style>\n",
       "<table border=\"1\" class=\"dataframe\">\n",
       "  <thead>\n",
       "    <tr style=\"text-align: right;\">\n",
       "      <th></th>\n",
       "      <th>index</th>\n",
       "      <th>PassengerId</th>\n",
       "      <th>HomePlanet</th>\n",
       "      <th>CryoSleep</th>\n",
       "      <th>Cabin</th>\n",
       "      <th>Destination</th>\n",
       "      <th>Age</th>\n",
       "      <th>VIP</th>\n",
       "      <th>RoomService</th>\n",
       "      <th>FoodCourt</th>\n",
       "      <th>ShoppingMall</th>\n",
       "      <th>Spa</th>\n",
       "      <th>VRDeck</th>\n",
       "      <th>Name</th>\n",
       "      <th>Transported</th>\n",
       "    </tr>\n",
       "  </thead>\n",
       "  <tbody>\n",
       "    <tr>\n",
       "      <th>0</th>\n",
       "      <td>0</td>\n",
       "      <td>0001_01</td>\n",
       "      <td>Europa</td>\n",
       "      <td>False</td>\n",
       "      <td>B/0/P</td>\n",
       "      <td>TRAPPIST-1e</td>\n",
       "      <td>39.0</td>\n",
       "      <td>False</td>\n",
       "      <td>0.0</td>\n",
       "      <td>0.0</td>\n",
       "      <td>0.0</td>\n",
       "      <td>0.0</td>\n",
       "      <td>0.0</td>\n",
       "      <td>Maham Ofracculy</td>\n",
       "      <td>False</td>\n",
       "    </tr>\n",
       "    <tr>\n",
       "      <th>1</th>\n",
       "      <td>1</td>\n",
       "      <td>0002_01</td>\n",
       "      <td>Earth</td>\n",
       "      <td>False</td>\n",
       "      <td>F/0/S</td>\n",
       "      <td>TRAPPIST-1e</td>\n",
       "      <td>24.0</td>\n",
       "      <td>False</td>\n",
       "      <td>109.0</td>\n",
       "      <td>9.0</td>\n",
       "      <td>25.0</td>\n",
       "      <td>549.0</td>\n",
       "      <td>44.0</td>\n",
       "      <td>Juanna Vines</td>\n",
       "      <td>True</td>\n",
       "    </tr>\n",
       "    <tr>\n",
       "      <th>2</th>\n",
       "      <td>2</td>\n",
       "      <td>0003_01</td>\n",
       "      <td>Europa</td>\n",
       "      <td>False</td>\n",
       "      <td>A/0/S</td>\n",
       "      <td>TRAPPIST-1e</td>\n",
       "      <td>58.0</td>\n",
       "      <td>True</td>\n",
       "      <td>43.0</td>\n",
       "      <td>3576.0</td>\n",
       "      <td>0.0</td>\n",
       "      <td>6715.0</td>\n",
       "      <td>49.0</td>\n",
       "      <td>Altark Susent</td>\n",
       "      <td>False</td>\n",
       "    </tr>\n",
       "    <tr>\n",
       "      <th>3</th>\n",
       "      <td>3</td>\n",
       "      <td>0003_02</td>\n",
       "      <td>Europa</td>\n",
       "      <td>False</td>\n",
       "      <td>A/0/S</td>\n",
       "      <td>TRAPPIST-1e</td>\n",
       "      <td>33.0</td>\n",
       "      <td>False</td>\n",
       "      <td>0.0</td>\n",
       "      <td>1283.0</td>\n",
       "      <td>371.0</td>\n",
       "      <td>3329.0</td>\n",
       "      <td>193.0</td>\n",
       "      <td>Solam Susent</td>\n",
       "      <td>False</td>\n",
       "    </tr>\n",
       "    <tr>\n",
       "      <th>4</th>\n",
       "      <td>4</td>\n",
       "      <td>0004_01</td>\n",
       "      <td>Earth</td>\n",
       "      <td>False</td>\n",
       "      <td>F/1/S</td>\n",
       "      <td>TRAPPIST-1e</td>\n",
       "      <td>16.0</td>\n",
       "      <td>False</td>\n",
       "      <td>303.0</td>\n",
       "      <td>70.0</td>\n",
       "      <td>151.0</td>\n",
       "      <td>565.0</td>\n",
       "      <td>2.0</td>\n",
       "      <td>Willy Santantines</td>\n",
       "      <td>True</td>\n",
       "    </tr>\n",
       "    <tr>\n",
       "      <th>...</th>\n",
       "      <td>...</td>\n",
       "      <td>...</td>\n",
       "      <td>...</td>\n",
       "      <td>...</td>\n",
       "      <td>...</td>\n",
       "      <td>...</td>\n",
       "      <td>...</td>\n",
       "      <td>...</td>\n",
       "      <td>...</td>\n",
       "      <td>...</td>\n",
       "      <td>...</td>\n",
       "      <td>...</td>\n",
       "      <td>...</td>\n",
       "      <td>...</td>\n",
       "      <td>...</td>\n",
       "    </tr>\n",
       "    <tr>\n",
       "      <th>8688</th>\n",
       "      <td>8688</td>\n",
       "      <td>9276_01</td>\n",
       "      <td>Europa</td>\n",
       "      <td>False</td>\n",
       "      <td>A/98/P</td>\n",
       "      <td>55 Cancri e</td>\n",
       "      <td>41.0</td>\n",
       "      <td>True</td>\n",
       "      <td>0.0</td>\n",
       "      <td>6819.0</td>\n",
       "      <td>0.0</td>\n",
       "      <td>1643.0</td>\n",
       "      <td>74.0</td>\n",
       "      <td>Gravior Noxnuther</td>\n",
       "      <td>False</td>\n",
       "    </tr>\n",
       "    <tr>\n",
       "      <th>8689</th>\n",
       "      <td>8689</td>\n",
       "      <td>9278_01</td>\n",
       "      <td>Earth</td>\n",
       "      <td>True</td>\n",
       "      <td>G/1499/S</td>\n",
       "      <td>PSO J318.5-22</td>\n",
       "      <td>18.0</td>\n",
       "      <td>False</td>\n",
       "      <td>0.0</td>\n",
       "      <td>0.0</td>\n",
       "      <td>0.0</td>\n",
       "      <td>0.0</td>\n",
       "      <td>0.0</td>\n",
       "      <td>Kurta Mondalley</td>\n",
       "      <td>False</td>\n",
       "    </tr>\n",
       "    <tr>\n",
       "      <th>8690</th>\n",
       "      <td>8690</td>\n",
       "      <td>9279_01</td>\n",
       "      <td>Earth</td>\n",
       "      <td>False</td>\n",
       "      <td>G/1500/S</td>\n",
       "      <td>TRAPPIST-1e</td>\n",
       "      <td>26.0</td>\n",
       "      <td>False</td>\n",
       "      <td>0.0</td>\n",
       "      <td>0.0</td>\n",
       "      <td>1872.0</td>\n",
       "      <td>1.0</td>\n",
       "      <td>0.0</td>\n",
       "      <td>Fayey Connon</td>\n",
       "      <td>True</td>\n",
       "    </tr>\n",
       "    <tr>\n",
       "      <th>8691</th>\n",
       "      <td>8691</td>\n",
       "      <td>9280_01</td>\n",
       "      <td>Europa</td>\n",
       "      <td>False</td>\n",
       "      <td>E/608/S</td>\n",
       "      <td>55 Cancri e</td>\n",
       "      <td>32.0</td>\n",
       "      <td>False</td>\n",
       "      <td>0.0</td>\n",
       "      <td>1049.0</td>\n",
       "      <td>0.0</td>\n",
       "      <td>353.0</td>\n",
       "      <td>3235.0</td>\n",
       "      <td>Celeon Hontichre</td>\n",
       "      <td>False</td>\n",
       "    </tr>\n",
       "    <tr>\n",
       "      <th>8692</th>\n",
       "      <td>8692</td>\n",
       "      <td>9280_02</td>\n",
       "      <td>Europa</td>\n",
       "      <td>False</td>\n",
       "      <td>E/608/S</td>\n",
       "      <td>TRAPPIST-1e</td>\n",
       "      <td>44.0</td>\n",
       "      <td>False</td>\n",
       "      <td>126.0</td>\n",
       "      <td>4688.0</td>\n",
       "      <td>0.0</td>\n",
       "      <td>0.0</td>\n",
       "      <td>12.0</td>\n",
       "      <td>Propsh Hontichre</td>\n",
       "      <td>True</td>\n",
       "    </tr>\n",
       "  </tbody>\n",
       "</table>\n",
       "<p>8693 rows × 15 columns</p>\n",
       "</div>"
      ],
      "text/plain": [
       "      index PassengerId HomePlanet CryoSleep     Cabin    Destination   Age  \\\n",
       "0         0     0001_01     Europa     False     B/0/P    TRAPPIST-1e  39.0   \n",
       "1         1     0002_01      Earth     False     F/0/S    TRAPPIST-1e  24.0   \n",
       "2         2     0003_01     Europa     False     A/0/S    TRAPPIST-1e  58.0   \n",
       "3         3     0003_02     Europa     False     A/0/S    TRAPPIST-1e  33.0   \n",
       "4         4     0004_01      Earth     False     F/1/S    TRAPPIST-1e  16.0   \n",
       "...     ...         ...        ...       ...       ...            ...   ...   \n",
       "8688   8688     9276_01     Europa     False    A/98/P    55 Cancri e  41.0   \n",
       "8689   8689     9278_01      Earth      True  G/1499/S  PSO J318.5-22  18.0   \n",
       "8690   8690     9279_01      Earth     False  G/1500/S    TRAPPIST-1e  26.0   \n",
       "8691   8691     9280_01     Europa     False   E/608/S    55 Cancri e  32.0   \n",
       "8692   8692     9280_02     Europa     False   E/608/S    TRAPPIST-1e  44.0   \n",
       "\n",
       "        VIP  RoomService  FoodCourt  ShoppingMall     Spa  VRDeck  \\\n",
       "0     False          0.0        0.0           0.0     0.0     0.0   \n",
       "1     False        109.0        9.0          25.0   549.0    44.0   \n",
       "2      True         43.0     3576.0           0.0  6715.0    49.0   \n",
       "3     False          0.0     1283.0         371.0  3329.0   193.0   \n",
       "4     False        303.0       70.0         151.0   565.0     2.0   \n",
       "...     ...          ...        ...           ...     ...     ...   \n",
       "8688   True          0.0     6819.0           0.0  1643.0    74.0   \n",
       "8689  False          0.0        0.0           0.0     0.0     0.0   \n",
       "8690  False          0.0        0.0        1872.0     1.0     0.0   \n",
       "8691  False          0.0     1049.0           0.0   353.0  3235.0   \n",
       "8692  False        126.0     4688.0           0.0     0.0    12.0   \n",
       "\n",
       "                   Name  Transported  \n",
       "0       Maham Ofracculy        False  \n",
       "1          Juanna Vines         True  \n",
       "2         Altark Susent        False  \n",
       "3          Solam Susent        False  \n",
       "4     Willy Santantines         True  \n",
       "...                 ...          ...  \n",
       "8688  Gravior Noxnuther        False  \n",
       "8689    Kurta Mondalley        False  \n",
       "8690       Fayey Connon         True  \n",
       "8691   Celeon Hontichre        False  \n",
       "8692   Propsh Hontichre         True  \n",
       "\n",
       "[8693 rows x 15 columns]"
      ]
     },
     "execution_count": 16,
     "metadata": {},
     "output_type": "execute_result"
    }
   ],
   "source": [
    "df.reset_index()"
   ]
  },
  {
   "cell_type": "code",
   "execution_count": 17,
   "id": "246ab7d0",
   "metadata": {
    "_cell_guid": "7d9a5a38-93c9-4380-9943-06016a924ecf",
    "_uuid": "0b33118f-7fcd-4341-a6ed-8cabe3dc5898",
    "collapsed": false,
    "jupyter": {
     "outputs_hidden": false
    },
    "papermill": {
     "duration": 0.04845,
     "end_time": "2024-02-03T23:02:35.191973",
     "exception": false,
     "start_time": "2024-02-03T23:02:35.143523",
     "status": "completed"
    },
    "tags": []
   },
   "outputs": [],
   "source": [
    "df = df.reset_index().drop('index', axis=1)"
   ]
  },
  {
   "cell_type": "code",
   "execution_count": 18,
   "id": "970756a2",
   "metadata": {
    "_cell_guid": "2ebfb3c9-c320-4bc3-80f5-4e9d7dbfe7e6",
    "_uuid": "963837e8-b017-4bf1-97fd-28c83da0a41f",
    "collapsed": false,
    "jupyter": {
     "outputs_hidden": false
    },
    "papermill": {
     "duration": 0.058809,
     "end_time": "2024-02-03T23:02:35.284425",
     "exception": false,
     "start_time": "2024-02-03T23:02:35.225616",
     "status": "completed"
    },
    "tags": []
   },
   "outputs": [
    {
     "data": {
      "text/html": [
       "<div>\n",
       "<style scoped>\n",
       "    .dataframe tbody tr th:only-of-type {\n",
       "        vertical-align: middle;\n",
       "    }\n",
       "\n",
       "    .dataframe tbody tr th {\n",
       "        vertical-align: top;\n",
       "    }\n",
       "\n",
       "    .dataframe thead th {\n",
       "        text-align: right;\n",
       "    }\n",
       "</style>\n",
       "<table border=\"1\" class=\"dataframe\">\n",
       "  <thead>\n",
       "    <tr style=\"text-align: right;\">\n",
       "      <th></th>\n",
       "      <th>PassengerId</th>\n",
       "      <th>HomePlanet</th>\n",
       "      <th>CryoSleep</th>\n",
       "      <th>Cabin</th>\n",
       "      <th>Destination</th>\n",
       "      <th>Age</th>\n",
       "      <th>VIP</th>\n",
       "      <th>RoomService</th>\n",
       "      <th>FoodCourt</th>\n",
       "      <th>ShoppingMall</th>\n",
       "      <th>Spa</th>\n",
       "      <th>VRDeck</th>\n",
       "      <th>Name</th>\n",
       "      <th>Transported</th>\n",
       "    </tr>\n",
       "  </thead>\n",
       "  <tbody>\n",
       "    <tr>\n",
       "      <th>0</th>\n",
       "      <td>0001_01</td>\n",
       "      <td>Europa</td>\n",
       "      <td>False</td>\n",
       "      <td>B/0/P</td>\n",
       "      <td>TRAPPIST-1e</td>\n",
       "      <td>39.0</td>\n",
       "      <td>False</td>\n",
       "      <td>0.0</td>\n",
       "      <td>0.0</td>\n",
       "      <td>0.0</td>\n",
       "      <td>0.0</td>\n",
       "      <td>0.0</td>\n",
       "      <td>Maham Ofracculy</td>\n",
       "      <td>False</td>\n",
       "    </tr>\n",
       "    <tr>\n",
       "      <th>1</th>\n",
       "      <td>0002_01</td>\n",
       "      <td>Earth</td>\n",
       "      <td>False</td>\n",
       "      <td>F/0/S</td>\n",
       "      <td>TRAPPIST-1e</td>\n",
       "      <td>24.0</td>\n",
       "      <td>False</td>\n",
       "      <td>109.0</td>\n",
       "      <td>9.0</td>\n",
       "      <td>25.0</td>\n",
       "      <td>549.0</td>\n",
       "      <td>44.0</td>\n",
       "      <td>Juanna Vines</td>\n",
       "      <td>True</td>\n",
       "    </tr>\n",
       "    <tr>\n",
       "      <th>2</th>\n",
       "      <td>0003_01</td>\n",
       "      <td>Europa</td>\n",
       "      <td>False</td>\n",
       "      <td>A/0/S</td>\n",
       "      <td>TRAPPIST-1e</td>\n",
       "      <td>58.0</td>\n",
       "      <td>True</td>\n",
       "      <td>43.0</td>\n",
       "      <td>3576.0</td>\n",
       "      <td>0.0</td>\n",
       "      <td>6715.0</td>\n",
       "      <td>49.0</td>\n",
       "      <td>Altark Susent</td>\n",
       "      <td>False</td>\n",
       "    </tr>\n",
       "    <tr>\n",
       "      <th>3</th>\n",
       "      <td>0003_02</td>\n",
       "      <td>Europa</td>\n",
       "      <td>False</td>\n",
       "      <td>A/0/S</td>\n",
       "      <td>TRAPPIST-1e</td>\n",
       "      <td>33.0</td>\n",
       "      <td>False</td>\n",
       "      <td>0.0</td>\n",
       "      <td>1283.0</td>\n",
       "      <td>371.0</td>\n",
       "      <td>3329.0</td>\n",
       "      <td>193.0</td>\n",
       "      <td>Solam Susent</td>\n",
       "      <td>False</td>\n",
       "    </tr>\n",
       "    <tr>\n",
       "      <th>4</th>\n",
       "      <td>0004_01</td>\n",
       "      <td>Earth</td>\n",
       "      <td>False</td>\n",
       "      <td>F/1/S</td>\n",
       "      <td>TRAPPIST-1e</td>\n",
       "      <td>16.0</td>\n",
       "      <td>False</td>\n",
       "      <td>303.0</td>\n",
       "      <td>70.0</td>\n",
       "      <td>151.0</td>\n",
       "      <td>565.0</td>\n",
       "      <td>2.0</td>\n",
       "      <td>Willy Santantines</td>\n",
       "      <td>True</td>\n",
       "    </tr>\n",
       "  </tbody>\n",
       "</table>\n",
       "</div>"
      ],
      "text/plain": [
       "  PassengerId HomePlanet CryoSleep  Cabin  Destination   Age    VIP  \\\n",
       "0     0001_01     Europa     False  B/0/P  TRAPPIST-1e  39.0  False   \n",
       "1     0002_01      Earth     False  F/0/S  TRAPPIST-1e  24.0  False   \n",
       "2     0003_01     Europa     False  A/0/S  TRAPPIST-1e  58.0   True   \n",
       "3     0003_02     Europa     False  A/0/S  TRAPPIST-1e  33.0  False   \n",
       "4     0004_01      Earth     False  F/1/S  TRAPPIST-1e  16.0  False   \n",
       "\n",
       "   RoomService  FoodCourt  ShoppingMall     Spa  VRDeck               Name  \\\n",
       "0          0.0        0.0           0.0     0.0     0.0    Maham Ofracculy   \n",
       "1        109.0        9.0          25.0   549.0    44.0       Juanna Vines   \n",
       "2         43.0     3576.0           0.0  6715.0    49.0      Altark Susent   \n",
       "3          0.0     1283.0         371.0  3329.0   193.0       Solam Susent   \n",
       "4        303.0       70.0         151.0   565.0     2.0  Willy Santantines   \n",
       "\n",
       "   Transported  \n",
       "0        False  \n",
       "1         True  \n",
       "2        False  \n",
       "3        False  \n",
       "4         True  "
      ]
     },
     "execution_count": 18,
     "metadata": {},
     "output_type": "execute_result"
    }
   ],
   "source": [
    "df.head()"
   ]
  },
  {
   "cell_type": "code",
   "execution_count": 19,
   "id": "1764a99c",
   "metadata": {
    "_cell_guid": "2ff92841-4c91-4aed-bc4f-27cea1315996",
    "_uuid": "3100d260-e389-4ae1-b9f2-c8bcd6c13d4a",
    "collapsed": false,
    "jupyter": {
     "outputs_hidden": false
    },
    "papermill": {
     "duration": 0.070558,
     "end_time": "2024-02-03T23:02:35.388128",
     "exception": false,
     "start_time": "2024-02-03T23:02:35.317570",
     "status": "completed"
    },
    "tags": []
   },
   "outputs": [],
   "source": [
    "df['Group'] = df['PassengerId'].str.split('_', expand=True)[0].astype(str)"
   ]
  },
  {
   "cell_type": "code",
   "execution_count": 20,
   "id": "2b47b7c4",
   "metadata": {
    "_cell_guid": "e8bd98cb-ee83-4d75-a500-e073dbd89a5d",
    "_uuid": "6db14acc-6bc8-43dd-824f-977dbfc27baa",
    "collapsed": false,
    "jupyter": {
     "outputs_hidden": false
    },
    "papermill": {
     "duration": 0.047638,
     "end_time": "2024-02-03T23:02:35.468438",
     "exception": false,
     "start_time": "2024-02-03T23:02:35.420800",
     "status": "completed"
    },
    "tags": []
   },
   "outputs": [
    {
     "data": {
      "text/plain": [
       "0          B/0/P\n",
       "1          F/0/S\n",
       "2          A/0/S\n",
       "3          A/0/S\n",
       "4          F/1/S\n",
       "          ...   \n",
       "8688      A/98/P\n",
       "8689    G/1499/S\n",
       "8690    G/1500/S\n",
       "8691     E/608/S\n",
       "8692     E/608/S\n",
       "Name: Cabin, Length: 8693, dtype: object"
      ]
     },
     "execution_count": 20,
     "metadata": {},
     "output_type": "execute_result"
    }
   ],
   "source": [
    "df['Cabin']"
   ]
  },
  {
   "cell_type": "code",
   "execution_count": 21,
   "id": "023f9348",
   "metadata": {
    "_cell_guid": "be9494fc-52ba-4a78-a77b-25c9e03288d7",
    "_uuid": "b1d4b9b3-a98c-4d4b-86a7-0431fef55932",
    "collapsed": false,
    "jupyter": {
     "outputs_hidden": false
    },
    "papermill": {
     "duration": 0.066716,
     "end_time": "2024-02-03T23:02:35.568786",
     "exception": false,
     "start_time": "2024-02-03T23:02:35.502070",
     "status": "completed"
    },
    "tags": []
   },
   "outputs": [],
   "source": [
    "df[['Deck','CabinNumber','Side']] = df['Cabin'].str.split('/', expand=True)"
   ]
  },
  {
   "cell_type": "code",
   "execution_count": 22,
   "id": "f171fdbb",
   "metadata": {
    "_cell_guid": "f8651a0d-fc9f-479a-900e-836fc2df477b",
    "_uuid": "38905f95-969a-4a95-b7e7-4ba9d8a3ea9c",
    "collapsed": false,
    "jupyter": {
     "outputs_hidden": false
    },
    "papermill": {
     "duration": 0.061503,
     "end_time": "2024-02-03T23:02:35.663726",
     "exception": false,
     "start_time": "2024-02-03T23:02:35.602223",
     "status": "completed"
    },
    "tags": []
   },
   "outputs": [
    {
     "data": {
      "text/html": [
       "<div>\n",
       "<style scoped>\n",
       "    .dataframe tbody tr th:only-of-type {\n",
       "        vertical-align: middle;\n",
       "    }\n",
       "\n",
       "    .dataframe tbody tr th {\n",
       "        vertical-align: top;\n",
       "    }\n",
       "\n",
       "    .dataframe thead th {\n",
       "        text-align: right;\n",
       "    }\n",
       "</style>\n",
       "<table border=\"1\" class=\"dataframe\">\n",
       "  <thead>\n",
       "    <tr style=\"text-align: right;\">\n",
       "      <th></th>\n",
       "      <th>PassengerId</th>\n",
       "      <th>HomePlanet</th>\n",
       "      <th>CryoSleep</th>\n",
       "      <th>Cabin</th>\n",
       "      <th>Destination</th>\n",
       "      <th>Age</th>\n",
       "      <th>VIP</th>\n",
       "      <th>RoomService</th>\n",
       "      <th>FoodCourt</th>\n",
       "      <th>ShoppingMall</th>\n",
       "      <th>Spa</th>\n",
       "      <th>VRDeck</th>\n",
       "      <th>Name</th>\n",
       "      <th>Transported</th>\n",
       "      <th>Group</th>\n",
       "      <th>Deck</th>\n",
       "      <th>CabinNumber</th>\n",
       "      <th>Side</th>\n",
       "    </tr>\n",
       "  </thead>\n",
       "  <tbody>\n",
       "    <tr>\n",
       "      <th>0</th>\n",
       "      <td>0001_01</td>\n",
       "      <td>Europa</td>\n",
       "      <td>False</td>\n",
       "      <td>B/0/P</td>\n",
       "      <td>TRAPPIST-1e</td>\n",
       "      <td>39.0</td>\n",
       "      <td>False</td>\n",
       "      <td>0.0</td>\n",
       "      <td>0.0</td>\n",
       "      <td>0.0</td>\n",
       "      <td>0.0</td>\n",
       "      <td>0.0</td>\n",
       "      <td>Maham Ofracculy</td>\n",
       "      <td>False</td>\n",
       "      <td>0001</td>\n",
       "      <td>B</td>\n",
       "      <td>0</td>\n",
       "      <td>P</td>\n",
       "    </tr>\n",
       "    <tr>\n",
       "      <th>1</th>\n",
       "      <td>0002_01</td>\n",
       "      <td>Earth</td>\n",
       "      <td>False</td>\n",
       "      <td>F/0/S</td>\n",
       "      <td>TRAPPIST-1e</td>\n",
       "      <td>24.0</td>\n",
       "      <td>False</td>\n",
       "      <td>109.0</td>\n",
       "      <td>9.0</td>\n",
       "      <td>25.0</td>\n",
       "      <td>549.0</td>\n",
       "      <td>44.0</td>\n",
       "      <td>Juanna Vines</td>\n",
       "      <td>True</td>\n",
       "      <td>0002</td>\n",
       "      <td>F</td>\n",
       "      <td>0</td>\n",
       "      <td>S</td>\n",
       "    </tr>\n",
       "    <tr>\n",
       "      <th>2</th>\n",
       "      <td>0003_01</td>\n",
       "      <td>Europa</td>\n",
       "      <td>False</td>\n",
       "      <td>A/0/S</td>\n",
       "      <td>TRAPPIST-1e</td>\n",
       "      <td>58.0</td>\n",
       "      <td>True</td>\n",
       "      <td>43.0</td>\n",
       "      <td>3576.0</td>\n",
       "      <td>0.0</td>\n",
       "      <td>6715.0</td>\n",
       "      <td>49.0</td>\n",
       "      <td>Altark Susent</td>\n",
       "      <td>False</td>\n",
       "      <td>0003</td>\n",
       "      <td>A</td>\n",
       "      <td>0</td>\n",
       "      <td>S</td>\n",
       "    </tr>\n",
       "    <tr>\n",
       "      <th>3</th>\n",
       "      <td>0003_02</td>\n",
       "      <td>Europa</td>\n",
       "      <td>False</td>\n",
       "      <td>A/0/S</td>\n",
       "      <td>TRAPPIST-1e</td>\n",
       "      <td>33.0</td>\n",
       "      <td>False</td>\n",
       "      <td>0.0</td>\n",
       "      <td>1283.0</td>\n",
       "      <td>371.0</td>\n",
       "      <td>3329.0</td>\n",
       "      <td>193.0</td>\n",
       "      <td>Solam Susent</td>\n",
       "      <td>False</td>\n",
       "      <td>0003</td>\n",
       "      <td>A</td>\n",
       "      <td>0</td>\n",
       "      <td>S</td>\n",
       "    </tr>\n",
       "    <tr>\n",
       "      <th>4</th>\n",
       "      <td>0004_01</td>\n",
       "      <td>Earth</td>\n",
       "      <td>False</td>\n",
       "      <td>F/1/S</td>\n",
       "      <td>TRAPPIST-1e</td>\n",
       "      <td>16.0</td>\n",
       "      <td>False</td>\n",
       "      <td>303.0</td>\n",
       "      <td>70.0</td>\n",
       "      <td>151.0</td>\n",
       "      <td>565.0</td>\n",
       "      <td>2.0</td>\n",
       "      <td>Willy Santantines</td>\n",
       "      <td>True</td>\n",
       "      <td>0004</td>\n",
       "      <td>F</td>\n",
       "      <td>1</td>\n",
       "      <td>S</td>\n",
       "    </tr>\n",
       "  </tbody>\n",
       "</table>\n",
       "</div>"
      ],
      "text/plain": [
       "  PassengerId HomePlanet CryoSleep  Cabin  Destination   Age    VIP  \\\n",
       "0     0001_01     Europa     False  B/0/P  TRAPPIST-1e  39.0  False   \n",
       "1     0002_01      Earth     False  F/0/S  TRAPPIST-1e  24.0  False   \n",
       "2     0003_01     Europa     False  A/0/S  TRAPPIST-1e  58.0   True   \n",
       "3     0003_02     Europa     False  A/0/S  TRAPPIST-1e  33.0  False   \n",
       "4     0004_01      Earth     False  F/1/S  TRAPPIST-1e  16.0  False   \n",
       "\n",
       "   RoomService  FoodCourt  ShoppingMall     Spa  VRDeck               Name  \\\n",
       "0          0.0        0.0           0.0     0.0     0.0    Maham Ofracculy   \n",
       "1        109.0        9.0          25.0   549.0    44.0       Juanna Vines   \n",
       "2         43.0     3576.0           0.0  6715.0    49.0      Altark Susent   \n",
       "3          0.0     1283.0         371.0  3329.0   193.0       Solam Susent   \n",
       "4        303.0       70.0         151.0   565.0     2.0  Willy Santantines   \n",
       "\n",
       "   Transported Group Deck CabinNumber Side  \n",
       "0        False  0001    B           0    P  \n",
       "1         True  0002    F           0    S  \n",
       "2        False  0003    A           0    S  \n",
       "3        False  0003    A           0    S  \n",
       "4         True  0004    F           1    S  "
      ]
     },
     "execution_count": 22,
     "metadata": {},
     "output_type": "execute_result"
    }
   ],
   "source": [
    "df.head()"
   ]
  },
  {
   "cell_type": "code",
   "execution_count": 23,
   "id": "74edf759",
   "metadata": {
    "_cell_guid": "6e0e600a-00f0-40d8-a2d9-cf41e46f5572",
    "_uuid": "fd59b4ea-cdb4-427a-a2ce-606835a09db2",
    "collapsed": false,
    "jupyter": {
     "outputs_hidden": false
    },
    "papermill": {
     "duration": 0.043795,
     "end_time": "2024-02-03T23:02:35.741033",
     "exception": false,
     "start_time": "2024-02-03T23:02:35.697238",
     "status": "completed"
    },
    "tags": []
   },
   "outputs": [],
   "source": [
    "df['CabinNumber'] = df['CabinNumber'].astype(int, errors='ignore')"
   ]
  },
  {
   "cell_type": "code",
   "execution_count": 24,
   "id": "438e67a6",
   "metadata": {
    "_cell_guid": "ab56fbc5-c4be-4935-a3a6-7694ce1bbed4",
    "_uuid": "c4c9510f-ca82-4e8d-bdd2-224b6199dadd",
    "collapsed": false,
    "jupyter": {
     "outputs_hidden": false
    },
    "papermill": {
     "duration": 0.068597,
     "end_time": "2024-02-03T23:02:35.844043",
     "exception": false,
     "start_time": "2024-02-03T23:02:35.775446",
     "status": "completed"
    },
    "tags": []
   },
   "outputs": [],
   "source": [
    "df['LastName'] = df['Name'].str.split(' ', expand=True)[1]"
   ]
  },
  {
   "cell_type": "code",
   "execution_count": 25,
   "id": "43e2d2d7",
   "metadata": {
    "_cell_guid": "ad6ce76a-a8fe-4cc8-91a4-b6a1cd49a115",
    "_uuid": "76533d23-c54d-48d1-bc14-7c13ae6db009",
    "collapsed": false,
    "jupyter": {
     "outputs_hidden": false
    },
    "papermill": {
     "duration": 0.045152,
     "end_time": "2024-02-03T23:02:35.922833",
     "exception": false,
     "start_time": "2024-02-03T23:02:35.877681",
     "status": "completed"
    },
    "tags": []
   },
   "outputs": [
    {
     "data": {
      "text/plain": [
       "(8693, 19)"
      ]
     },
     "execution_count": 25,
     "metadata": {},
     "output_type": "execute_result"
    }
   ],
   "source": [
    "df.shape"
   ]
  },
  {
   "cell_type": "code",
   "execution_count": 26,
   "id": "6d8b3b6b",
   "metadata": {
    "_cell_guid": "646e314a-e13a-408c-a839-29d66a4a6622",
    "_uuid": "1c41c010-47cd-4046-a991-3f54643884d0",
    "collapsed": false,
    "jupyter": {
     "outputs_hidden": false
    },
    "papermill": {
     "duration": 0.043435,
     "end_time": "2024-02-03T23:02:36.000216",
     "exception": false,
     "start_time": "2024-02-03T23:02:35.956781",
     "status": "completed"
    },
    "tags": []
   },
   "outputs": [],
   "source": [
    "df.set_index('PassengerId', inplace=True)"
   ]
  },
  {
   "cell_type": "code",
   "execution_count": 27,
   "id": "0657ede2",
   "metadata": {
    "_cell_guid": "0f48da42-9e40-4ac8-9d21-3bb3a4284453",
    "_uuid": "5d3e4a99-1216-4eef-bd36-bf0296996ae7",
    "collapsed": false,
    "jupyter": {
     "outputs_hidden": false
    },
    "papermill": {
     "duration": 0.064313,
     "end_time": "2024-02-03T23:02:36.098715",
     "exception": false,
     "start_time": "2024-02-03T23:02:36.034402",
     "status": "completed"
    },
    "tags": []
   },
   "outputs": [
    {
     "data": {
      "text/html": [
       "<div>\n",
       "<style scoped>\n",
       "    .dataframe tbody tr th:only-of-type {\n",
       "        vertical-align: middle;\n",
       "    }\n",
       "\n",
       "    .dataframe tbody tr th {\n",
       "        vertical-align: top;\n",
       "    }\n",
       "\n",
       "    .dataframe thead th {\n",
       "        text-align: right;\n",
       "    }\n",
       "</style>\n",
       "<table border=\"1\" class=\"dataframe\">\n",
       "  <thead>\n",
       "    <tr style=\"text-align: right;\">\n",
       "      <th></th>\n",
       "      <th>HomePlanet</th>\n",
       "      <th>CryoSleep</th>\n",
       "      <th>Cabin</th>\n",
       "      <th>Destination</th>\n",
       "      <th>Age</th>\n",
       "      <th>VIP</th>\n",
       "      <th>RoomService</th>\n",
       "      <th>FoodCourt</th>\n",
       "      <th>ShoppingMall</th>\n",
       "      <th>Spa</th>\n",
       "      <th>VRDeck</th>\n",
       "      <th>Name</th>\n",
       "      <th>Transported</th>\n",
       "      <th>Group</th>\n",
       "      <th>Deck</th>\n",
       "      <th>CabinNumber</th>\n",
       "      <th>Side</th>\n",
       "      <th>LastName</th>\n",
       "    </tr>\n",
       "    <tr>\n",
       "      <th>PassengerId</th>\n",
       "      <th></th>\n",
       "      <th></th>\n",
       "      <th></th>\n",
       "      <th></th>\n",
       "      <th></th>\n",
       "      <th></th>\n",
       "      <th></th>\n",
       "      <th></th>\n",
       "      <th></th>\n",
       "      <th></th>\n",
       "      <th></th>\n",
       "      <th></th>\n",
       "      <th></th>\n",
       "      <th></th>\n",
       "      <th></th>\n",
       "      <th></th>\n",
       "      <th></th>\n",
       "      <th></th>\n",
       "    </tr>\n",
       "  </thead>\n",
       "  <tbody>\n",
       "    <tr>\n",
       "      <th>0001_01</th>\n",
       "      <td>Europa</td>\n",
       "      <td>False</td>\n",
       "      <td>B/0/P</td>\n",
       "      <td>TRAPPIST-1e</td>\n",
       "      <td>39.0</td>\n",
       "      <td>False</td>\n",
       "      <td>0.0</td>\n",
       "      <td>0.0</td>\n",
       "      <td>0.0</td>\n",
       "      <td>0.0</td>\n",
       "      <td>0.0</td>\n",
       "      <td>Maham Ofracculy</td>\n",
       "      <td>False</td>\n",
       "      <td>0001</td>\n",
       "      <td>B</td>\n",
       "      <td>0</td>\n",
       "      <td>P</td>\n",
       "      <td>Ofracculy</td>\n",
       "    </tr>\n",
       "    <tr>\n",
       "      <th>0002_01</th>\n",
       "      <td>Earth</td>\n",
       "      <td>False</td>\n",
       "      <td>F/0/S</td>\n",
       "      <td>TRAPPIST-1e</td>\n",
       "      <td>24.0</td>\n",
       "      <td>False</td>\n",
       "      <td>109.0</td>\n",
       "      <td>9.0</td>\n",
       "      <td>25.0</td>\n",
       "      <td>549.0</td>\n",
       "      <td>44.0</td>\n",
       "      <td>Juanna Vines</td>\n",
       "      <td>True</td>\n",
       "      <td>0002</td>\n",
       "      <td>F</td>\n",
       "      <td>0</td>\n",
       "      <td>S</td>\n",
       "      <td>Vines</td>\n",
       "    </tr>\n",
       "    <tr>\n",
       "      <th>0003_01</th>\n",
       "      <td>Europa</td>\n",
       "      <td>False</td>\n",
       "      <td>A/0/S</td>\n",
       "      <td>TRAPPIST-1e</td>\n",
       "      <td>58.0</td>\n",
       "      <td>True</td>\n",
       "      <td>43.0</td>\n",
       "      <td>3576.0</td>\n",
       "      <td>0.0</td>\n",
       "      <td>6715.0</td>\n",
       "      <td>49.0</td>\n",
       "      <td>Altark Susent</td>\n",
       "      <td>False</td>\n",
       "      <td>0003</td>\n",
       "      <td>A</td>\n",
       "      <td>0</td>\n",
       "      <td>S</td>\n",
       "      <td>Susent</td>\n",
       "    </tr>\n",
       "    <tr>\n",
       "      <th>0003_02</th>\n",
       "      <td>Europa</td>\n",
       "      <td>False</td>\n",
       "      <td>A/0/S</td>\n",
       "      <td>TRAPPIST-1e</td>\n",
       "      <td>33.0</td>\n",
       "      <td>False</td>\n",
       "      <td>0.0</td>\n",
       "      <td>1283.0</td>\n",
       "      <td>371.0</td>\n",
       "      <td>3329.0</td>\n",
       "      <td>193.0</td>\n",
       "      <td>Solam Susent</td>\n",
       "      <td>False</td>\n",
       "      <td>0003</td>\n",
       "      <td>A</td>\n",
       "      <td>0</td>\n",
       "      <td>S</td>\n",
       "      <td>Susent</td>\n",
       "    </tr>\n",
       "    <tr>\n",
       "      <th>0004_01</th>\n",
       "      <td>Earth</td>\n",
       "      <td>False</td>\n",
       "      <td>F/1/S</td>\n",
       "      <td>TRAPPIST-1e</td>\n",
       "      <td>16.0</td>\n",
       "      <td>False</td>\n",
       "      <td>303.0</td>\n",
       "      <td>70.0</td>\n",
       "      <td>151.0</td>\n",
       "      <td>565.0</td>\n",
       "      <td>2.0</td>\n",
       "      <td>Willy Santantines</td>\n",
       "      <td>True</td>\n",
       "      <td>0004</td>\n",
       "      <td>F</td>\n",
       "      <td>1</td>\n",
       "      <td>S</td>\n",
       "      <td>Santantines</td>\n",
       "    </tr>\n",
       "  </tbody>\n",
       "</table>\n",
       "</div>"
      ],
      "text/plain": [
       "            HomePlanet CryoSleep  Cabin  Destination   Age    VIP  \\\n",
       "PassengerId                                                         \n",
       "0001_01         Europa     False  B/0/P  TRAPPIST-1e  39.0  False   \n",
       "0002_01          Earth     False  F/0/S  TRAPPIST-1e  24.0  False   \n",
       "0003_01         Europa     False  A/0/S  TRAPPIST-1e  58.0   True   \n",
       "0003_02         Europa     False  A/0/S  TRAPPIST-1e  33.0  False   \n",
       "0004_01          Earth     False  F/1/S  TRAPPIST-1e  16.0  False   \n",
       "\n",
       "             RoomService  FoodCourt  ShoppingMall     Spa  VRDeck  \\\n",
       "PassengerId                                                         \n",
       "0001_01              0.0        0.0           0.0     0.0     0.0   \n",
       "0002_01            109.0        9.0          25.0   549.0    44.0   \n",
       "0003_01             43.0     3576.0           0.0  6715.0    49.0   \n",
       "0003_02              0.0     1283.0         371.0  3329.0   193.0   \n",
       "0004_01            303.0       70.0         151.0   565.0     2.0   \n",
       "\n",
       "                          Name  Transported Group Deck CabinNumber Side  \\\n",
       "PassengerId                                                               \n",
       "0001_01        Maham Ofracculy        False  0001    B           0    P   \n",
       "0002_01           Juanna Vines         True  0002    F           0    S   \n",
       "0003_01          Altark Susent        False  0003    A           0    S   \n",
       "0003_02           Solam Susent        False  0003    A           0    S   \n",
       "0004_01      Willy Santantines         True  0004    F           1    S   \n",
       "\n",
       "                LastName  \n",
       "PassengerId               \n",
       "0001_01        Ofracculy  \n",
       "0002_01            Vines  \n",
       "0003_01           Susent  \n",
       "0003_02           Susent  \n",
       "0004_01      Santantines  "
      ]
     },
     "execution_count": 27,
     "metadata": {},
     "output_type": "execute_result"
    }
   ],
   "source": [
    "df.head()"
   ]
  },
  {
   "cell_type": "code",
   "execution_count": 28,
   "id": "4a43ae15",
   "metadata": {
    "_cell_guid": "4ad49645-a678-4526-960c-e4005b14a40c",
    "_uuid": "c3f43f24-bd65-4105-89e3-f27404ecb0c8",
    "collapsed": false,
    "jupyter": {
     "outputs_hidden": false
    },
    "papermill": {
     "duration": 0.046917,
     "end_time": "2024-02-03T23:02:36.179929",
     "exception": false,
     "start_time": "2024-02-03T23:02:36.133012",
     "status": "completed"
    },
    "tags": []
   },
   "outputs": [
    {
     "data": {
      "text/plain": [
       "HomePlanet       object\n",
       "CryoSleep        object\n",
       "Cabin            object\n",
       "Destination      object\n",
       "Age             float64\n",
       "VIP              object\n",
       "RoomService     float64\n",
       "FoodCourt       float64\n",
       "ShoppingMall    float64\n",
       "Spa             float64\n",
       "VRDeck          float64\n",
       "Name             object\n",
       "Transported        bool\n",
       "Group            object\n",
       "Deck             object\n",
       "CabinNumber      object\n",
       "Side             object\n",
       "LastName         object\n",
       "dtype: object"
      ]
     },
     "execution_count": 28,
     "metadata": {},
     "output_type": "execute_result"
    }
   ],
   "source": [
    "df.dtypes"
   ]
  },
  {
   "cell_type": "markdown",
   "id": "1ce78540",
   "metadata": {
    "_cell_guid": "c57b105c-87a3-4deb-b785-5bede7a16b98",
    "_uuid": "e39ce829-2f88-4518-a339-f7466206a6f9",
    "papermill": {
     "duration": 0.035196,
     "end_time": "2024-02-03T23:02:36.637842",
     "exception": false,
     "start_time": "2024-02-03T23:02:36.602646",
     "status": "completed"
    },
    "tags": []
   },
   "source": [
    "We'll also count the number of people in each group and the number of family members"
   ]
  },
  {
   "cell_type": "code",
   "execution_count": 29,
   "id": "2b5fcb6e",
   "metadata": {
    "_cell_guid": "907c5fb9-defa-4c4b-93f0-24a7da4baed5",
    "_uuid": "ac4825ed-1f54-47ae-8339-34be0b8286b5",
    "collapsed": false,
    "jupyter": {
     "outputs_hidden": false
    },
    "papermill": {
     "duration": 0.06111,
     "end_time": "2024-02-03T23:02:36.733871",
     "exception": false,
     "start_time": "2024-02-03T23:02:36.672761",
     "status": "completed"
    },
    "tags": []
   },
   "outputs": [
    {
     "data": {
      "text/html": [
       "<div>\n",
       "<style scoped>\n",
       "    .dataframe tbody tr th:only-of-type {\n",
       "        vertical-align: middle;\n",
       "    }\n",
       "\n",
       "    .dataframe tbody tr th {\n",
       "        vertical-align: top;\n",
       "    }\n",
       "\n",
       "    .dataframe thead th {\n",
       "        text-align: right;\n",
       "    }\n",
       "</style>\n",
       "<table border=\"1\" class=\"dataframe\">\n",
       "  <thead>\n",
       "    <tr style=\"text-align: right;\">\n",
       "      <th></th>\n",
       "      <th>Group</th>\n",
       "      <th>N_group_members</th>\n",
       "    </tr>\n",
       "  </thead>\n",
       "  <tbody>\n",
       "    <tr>\n",
       "      <th>0</th>\n",
       "      <td>4256</td>\n",
       "      <td>8</td>\n",
       "    </tr>\n",
       "    <tr>\n",
       "      <th>1</th>\n",
       "      <td>5133</td>\n",
       "      <td>8</td>\n",
       "    </tr>\n",
       "    <tr>\n",
       "      <th>2</th>\n",
       "      <td>8956</td>\n",
       "      <td>8</td>\n",
       "    </tr>\n",
       "    <tr>\n",
       "      <th>3</th>\n",
       "      <td>8168</td>\n",
       "      <td>8</td>\n",
       "    </tr>\n",
       "    <tr>\n",
       "      <th>4</th>\n",
       "      <td>0984</td>\n",
       "      <td>8</td>\n",
       "    </tr>\n",
       "    <tr>\n",
       "      <th>...</th>\n",
       "      <td>...</td>\n",
       "      <td>...</td>\n",
       "    </tr>\n",
       "    <tr>\n",
       "      <th>6212</th>\n",
       "      <td>3469</td>\n",
       "      <td>1</td>\n",
       "    </tr>\n",
       "    <tr>\n",
       "      <th>6213</th>\n",
       "      <td>3468</td>\n",
       "      <td>1</td>\n",
       "    </tr>\n",
       "    <tr>\n",
       "      <th>6214</th>\n",
       "      <td>3467</td>\n",
       "      <td>1</td>\n",
       "    </tr>\n",
       "    <tr>\n",
       "      <th>6215</th>\n",
       "      <td>3465</td>\n",
       "      <td>1</td>\n",
       "    </tr>\n",
       "    <tr>\n",
       "      <th>6216</th>\n",
       "      <td>3491</td>\n",
       "      <td>1</td>\n",
       "    </tr>\n",
       "  </tbody>\n",
       "</table>\n",
       "<p>6217 rows × 2 columns</p>\n",
       "</div>"
      ],
      "text/plain": [
       "     Group  N_group_members\n",
       "0     4256                8\n",
       "1     5133                8\n",
       "2     8956                8\n",
       "3     8168                8\n",
       "4     0984                8\n",
       "...    ...              ...\n",
       "6212  3469                1\n",
       "6213  3468                1\n",
       "6214  3467                1\n",
       "6215  3465                1\n",
       "6216  3491                1\n",
       "\n",
       "[6217 rows x 2 columns]"
      ]
     },
     "execution_count": 29,
     "metadata": {},
     "output_type": "execute_result"
    }
   ],
   "source": [
    "n_group_members = df['Group'].value_counts().reset_index()\n",
    "n_group_members.columns = ['Group', 'N_group_members']\n",
    "n_group_members"
   ]
  },
  {
   "cell_type": "code",
   "execution_count": 30,
   "id": "861a6d00",
   "metadata": {
    "_cell_guid": "1bad6f58-ee31-49db-a748-be18a6de9f0b",
    "_uuid": "5933afa6-620d-48de-a985-19c393e2487f",
    "collapsed": false,
    "jupyter": {
     "outputs_hidden": false
    },
    "papermill": {
     "duration": 0.057894,
     "end_time": "2024-02-03T23:02:36.827356",
     "exception": false,
     "start_time": "2024-02-03T23:02:36.769462",
     "status": "completed"
    },
    "tags": []
   },
   "outputs": [
    {
     "data": {
      "text/html": [
       "<div>\n",
       "<style scoped>\n",
       "    .dataframe tbody tr th:only-of-type {\n",
       "        vertical-align: middle;\n",
       "    }\n",
       "\n",
       "    .dataframe tbody tr th {\n",
       "        vertical-align: top;\n",
       "    }\n",
       "\n",
       "    .dataframe thead th {\n",
       "        text-align: right;\n",
       "    }\n",
       "</style>\n",
       "<table border=\"1\" class=\"dataframe\">\n",
       "  <thead>\n",
       "    <tr style=\"text-align: right;\">\n",
       "      <th></th>\n",
       "      <th>LastName</th>\n",
       "      <th>N_family_members</th>\n",
       "    </tr>\n",
       "  </thead>\n",
       "  <tbody>\n",
       "    <tr>\n",
       "      <th>0</th>\n",
       "      <td>Casonston</td>\n",
       "      <td>18</td>\n",
       "    </tr>\n",
       "    <tr>\n",
       "      <th>1</th>\n",
       "      <td>Oneiles</td>\n",
       "      <td>16</td>\n",
       "    </tr>\n",
       "    <tr>\n",
       "      <th>2</th>\n",
       "      <td>Domington</td>\n",
       "      <td>15</td>\n",
       "    </tr>\n",
       "    <tr>\n",
       "      <th>3</th>\n",
       "      <td>Litthews</td>\n",
       "      <td>15</td>\n",
       "    </tr>\n",
       "    <tr>\n",
       "      <th>4</th>\n",
       "      <td>Cartez</td>\n",
       "      <td>14</td>\n",
       "    </tr>\n",
       "    <tr>\n",
       "      <th>...</th>\n",
       "      <td>...</td>\n",
       "      <td>...</td>\n",
       "    </tr>\n",
       "    <tr>\n",
       "      <th>2212</th>\n",
       "      <td>Ofracculy</td>\n",
       "      <td>1</td>\n",
       "    </tr>\n",
       "    <tr>\n",
       "      <th>2213</th>\n",
       "      <td>Clutcheed</td>\n",
       "      <td>1</td>\n",
       "    </tr>\n",
       "    <tr>\n",
       "      <th>2214</th>\n",
       "      <td>Bota</td>\n",
       "      <td>1</td>\n",
       "    </tr>\n",
       "    <tr>\n",
       "      <th>2215</th>\n",
       "      <td>Rupent</td>\n",
       "      <td>1</td>\n",
       "    </tr>\n",
       "    <tr>\n",
       "      <th>2216</th>\n",
       "      <td>Conablese</td>\n",
       "      <td>1</td>\n",
       "    </tr>\n",
       "  </tbody>\n",
       "</table>\n",
       "<p>2217 rows × 2 columns</p>\n",
       "</div>"
      ],
      "text/plain": [
       "       LastName  N_family_members\n",
       "0     Casonston                18\n",
       "1       Oneiles                16\n",
       "2     Domington                15\n",
       "3      Litthews                15\n",
       "4        Cartez                14\n",
       "...         ...               ...\n",
       "2212  Ofracculy                 1\n",
       "2213  Clutcheed                 1\n",
       "2214       Bota                 1\n",
       "2215     Rupent                 1\n",
       "2216  Conablese                 1\n",
       "\n",
       "[2217 rows x 2 columns]"
      ]
     },
     "execution_count": 30,
     "metadata": {},
     "output_type": "execute_result"
    }
   ],
   "source": [
    "n_family_members = df['LastName'].value_counts().reset_index()\n",
    "n_family_members.columns = ['LastName', 'N_family_members']\n",
    "n_family_members"
   ]
  },
  {
   "cell_type": "code",
   "execution_count": 31,
   "id": "9397e35a",
   "metadata": {
    "_cell_guid": "d979a24e-a5f9-4878-b8d5-a739c384e67a",
    "_uuid": "8b758dee-95a9-475a-bab3-79881e831d42",
    "collapsed": false,
    "jupyter": {
     "outputs_hidden": false
    },
    "papermill": {
     "duration": 0.075911,
     "end_time": "2024-02-03T23:02:36.938916",
     "exception": false,
     "start_time": "2024-02-03T23:02:36.863005",
     "status": "completed"
    },
    "tags": []
   },
   "outputs": [
    {
     "data": {
      "text/html": [
       "<div>\n",
       "<style scoped>\n",
       "    .dataframe tbody tr th:only-of-type {\n",
       "        vertical-align: middle;\n",
       "    }\n",
       "\n",
       "    .dataframe tbody tr th {\n",
       "        vertical-align: top;\n",
       "    }\n",
       "\n",
       "    .dataframe thead th {\n",
       "        text-align: right;\n",
       "    }\n",
       "</style>\n",
       "<table border=\"1\" class=\"dataframe\">\n",
       "  <thead>\n",
       "    <tr style=\"text-align: right;\">\n",
       "      <th></th>\n",
       "      <th>HomePlanet</th>\n",
       "      <th>CryoSleep</th>\n",
       "      <th>Cabin</th>\n",
       "      <th>Destination</th>\n",
       "      <th>Age</th>\n",
       "      <th>VIP</th>\n",
       "      <th>RoomService</th>\n",
       "      <th>FoodCourt</th>\n",
       "      <th>ShoppingMall</th>\n",
       "      <th>Spa</th>\n",
       "      <th>VRDeck</th>\n",
       "      <th>Name</th>\n",
       "      <th>Transported</th>\n",
       "      <th>Group</th>\n",
       "      <th>Deck</th>\n",
       "      <th>CabinNumber</th>\n",
       "      <th>Side</th>\n",
       "      <th>LastName</th>\n",
       "    </tr>\n",
       "    <tr>\n",
       "      <th>PassengerId</th>\n",
       "      <th></th>\n",
       "      <th></th>\n",
       "      <th></th>\n",
       "      <th></th>\n",
       "      <th></th>\n",
       "      <th></th>\n",
       "      <th></th>\n",
       "      <th></th>\n",
       "      <th></th>\n",
       "      <th></th>\n",
       "      <th></th>\n",
       "      <th></th>\n",
       "      <th></th>\n",
       "      <th></th>\n",
       "      <th></th>\n",
       "      <th></th>\n",
       "      <th></th>\n",
       "      <th></th>\n",
       "    </tr>\n",
       "  </thead>\n",
       "  <tbody>\n",
       "    <tr>\n",
       "      <th>0001_01</th>\n",
       "      <td>Europa</td>\n",
       "      <td>False</td>\n",
       "      <td>B/0/P</td>\n",
       "      <td>TRAPPIST-1e</td>\n",
       "      <td>39.0</td>\n",
       "      <td>False</td>\n",
       "      <td>0.0</td>\n",
       "      <td>0.0</td>\n",
       "      <td>0.0</td>\n",
       "      <td>0.0</td>\n",
       "      <td>0.0</td>\n",
       "      <td>Maham Ofracculy</td>\n",
       "      <td>False</td>\n",
       "      <td>0001</td>\n",
       "      <td>B</td>\n",
       "      <td>0</td>\n",
       "      <td>P</td>\n",
       "      <td>Ofracculy</td>\n",
       "    </tr>\n",
       "    <tr>\n",
       "      <th>0002_01</th>\n",
       "      <td>Earth</td>\n",
       "      <td>False</td>\n",
       "      <td>F/0/S</td>\n",
       "      <td>TRAPPIST-1e</td>\n",
       "      <td>24.0</td>\n",
       "      <td>False</td>\n",
       "      <td>109.0</td>\n",
       "      <td>9.0</td>\n",
       "      <td>25.0</td>\n",
       "      <td>549.0</td>\n",
       "      <td>44.0</td>\n",
       "      <td>Juanna Vines</td>\n",
       "      <td>True</td>\n",
       "      <td>0002</td>\n",
       "      <td>F</td>\n",
       "      <td>0</td>\n",
       "      <td>S</td>\n",
       "      <td>Vines</td>\n",
       "    </tr>\n",
       "    <tr>\n",
       "      <th>0003_01</th>\n",
       "      <td>Europa</td>\n",
       "      <td>False</td>\n",
       "      <td>A/0/S</td>\n",
       "      <td>TRAPPIST-1e</td>\n",
       "      <td>58.0</td>\n",
       "      <td>True</td>\n",
       "      <td>43.0</td>\n",
       "      <td>3576.0</td>\n",
       "      <td>0.0</td>\n",
       "      <td>6715.0</td>\n",
       "      <td>49.0</td>\n",
       "      <td>Altark Susent</td>\n",
       "      <td>False</td>\n",
       "      <td>0003</td>\n",
       "      <td>A</td>\n",
       "      <td>0</td>\n",
       "      <td>S</td>\n",
       "      <td>Susent</td>\n",
       "    </tr>\n",
       "    <tr>\n",
       "      <th>0003_02</th>\n",
       "      <td>Europa</td>\n",
       "      <td>False</td>\n",
       "      <td>A/0/S</td>\n",
       "      <td>TRAPPIST-1e</td>\n",
       "      <td>33.0</td>\n",
       "      <td>False</td>\n",
       "      <td>0.0</td>\n",
       "      <td>1283.0</td>\n",
       "      <td>371.0</td>\n",
       "      <td>3329.0</td>\n",
       "      <td>193.0</td>\n",
       "      <td>Solam Susent</td>\n",
       "      <td>False</td>\n",
       "      <td>0003</td>\n",
       "      <td>A</td>\n",
       "      <td>0</td>\n",
       "      <td>S</td>\n",
       "      <td>Susent</td>\n",
       "    </tr>\n",
       "    <tr>\n",
       "      <th>0004_01</th>\n",
       "      <td>Earth</td>\n",
       "      <td>False</td>\n",
       "      <td>F/1/S</td>\n",
       "      <td>TRAPPIST-1e</td>\n",
       "      <td>16.0</td>\n",
       "      <td>False</td>\n",
       "      <td>303.0</td>\n",
       "      <td>70.0</td>\n",
       "      <td>151.0</td>\n",
       "      <td>565.0</td>\n",
       "      <td>2.0</td>\n",
       "      <td>Willy Santantines</td>\n",
       "      <td>True</td>\n",
       "      <td>0004</td>\n",
       "      <td>F</td>\n",
       "      <td>1</td>\n",
       "      <td>S</td>\n",
       "      <td>Santantines</td>\n",
       "    </tr>\n",
       "    <tr>\n",
       "      <th>...</th>\n",
       "      <td>...</td>\n",
       "      <td>...</td>\n",
       "      <td>...</td>\n",
       "      <td>...</td>\n",
       "      <td>...</td>\n",
       "      <td>...</td>\n",
       "      <td>...</td>\n",
       "      <td>...</td>\n",
       "      <td>...</td>\n",
       "      <td>...</td>\n",
       "      <td>...</td>\n",
       "      <td>...</td>\n",
       "      <td>...</td>\n",
       "      <td>...</td>\n",
       "      <td>...</td>\n",
       "      <td>...</td>\n",
       "      <td>...</td>\n",
       "      <td>...</td>\n",
       "    </tr>\n",
       "    <tr>\n",
       "      <th>9276_01</th>\n",
       "      <td>Europa</td>\n",
       "      <td>False</td>\n",
       "      <td>A/98/P</td>\n",
       "      <td>55 Cancri e</td>\n",
       "      <td>41.0</td>\n",
       "      <td>True</td>\n",
       "      <td>0.0</td>\n",
       "      <td>6819.0</td>\n",
       "      <td>0.0</td>\n",
       "      <td>1643.0</td>\n",
       "      <td>74.0</td>\n",
       "      <td>Gravior Noxnuther</td>\n",
       "      <td>False</td>\n",
       "      <td>9276</td>\n",
       "      <td>A</td>\n",
       "      <td>98</td>\n",
       "      <td>P</td>\n",
       "      <td>Noxnuther</td>\n",
       "    </tr>\n",
       "    <tr>\n",
       "      <th>9278_01</th>\n",
       "      <td>Earth</td>\n",
       "      <td>True</td>\n",
       "      <td>G/1499/S</td>\n",
       "      <td>PSO J318.5-22</td>\n",
       "      <td>18.0</td>\n",
       "      <td>False</td>\n",
       "      <td>0.0</td>\n",
       "      <td>0.0</td>\n",
       "      <td>0.0</td>\n",
       "      <td>0.0</td>\n",
       "      <td>0.0</td>\n",
       "      <td>Kurta Mondalley</td>\n",
       "      <td>False</td>\n",
       "      <td>9278</td>\n",
       "      <td>G</td>\n",
       "      <td>1499</td>\n",
       "      <td>S</td>\n",
       "      <td>Mondalley</td>\n",
       "    </tr>\n",
       "    <tr>\n",
       "      <th>9279_01</th>\n",
       "      <td>Earth</td>\n",
       "      <td>False</td>\n",
       "      <td>G/1500/S</td>\n",
       "      <td>TRAPPIST-1e</td>\n",
       "      <td>26.0</td>\n",
       "      <td>False</td>\n",
       "      <td>0.0</td>\n",
       "      <td>0.0</td>\n",
       "      <td>1872.0</td>\n",
       "      <td>1.0</td>\n",
       "      <td>0.0</td>\n",
       "      <td>Fayey Connon</td>\n",
       "      <td>True</td>\n",
       "      <td>9279</td>\n",
       "      <td>G</td>\n",
       "      <td>1500</td>\n",
       "      <td>S</td>\n",
       "      <td>Connon</td>\n",
       "    </tr>\n",
       "    <tr>\n",
       "      <th>9280_01</th>\n",
       "      <td>Europa</td>\n",
       "      <td>False</td>\n",
       "      <td>E/608/S</td>\n",
       "      <td>55 Cancri e</td>\n",
       "      <td>32.0</td>\n",
       "      <td>False</td>\n",
       "      <td>0.0</td>\n",
       "      <td>1049.0</td>\n",
       "      <td>0.0</td>\n",
       "      <td>353.0</td>\n",
       "      <td>3235.0</td>\n",
       "      <td>Celeon Hontichre</td>\n",
       "      <td>False</td>\n",
       "      <td>9280</td>\n",
       "      <td>E</td>\n",
       "      <td>608</td>\n",
       "      <td>S</td>\n",
       "      <td>Hontichre</td>\n",
       "    </tr>\n",
       "    <tr>\n",
       "      <th>9280_02</th>\n",
       "      <td>Europa</td>\n",
       "      <td>False</td>\n",
       "      <td>E/608/S</td>\n",
       "      <td>TRAPPIST-1e</td>\n",
       "      <td>44.0</td>\n",
       "      <td>False</td>\n",
       "      <td>126.0</td>\n",
       "      <td>4688.0</td>\n",
       "      <td>0.0</td>\n",
       "      <td>0.0</td>\n",
       "      <td>12.0</td>\n",
       "      <td>Propsh Hontichre</td>\n",
       "      <td>True</td>\n",
       "      <td>9280</td>\n",
       "      <td>E</td>\n",
       "      <td>608</td>\n",
       "      <td>S</td>\n",
       "      <td>Hontichre</td>\n",
       "    </tr>\n",
       "  </tbody>\n",
       "</table>\n",
       "<p>8693 rows × 18 columns</p>\n",
       "</div>"
      ],
      "text/plain": [
       "            HomePlanet CryoSleep     Cabin    Destination   Age    VIP  \\\n",
       "PassengerId                                                              \n",
       "0001_01         Europa     False     B/0/P    TRAPPIST-1e  39.0  False   \n",
       "0002_01          Earth     False     F/0/S    TRAPPIST-1e  24.0  False   \n",
       "0003_01         Europa     False     A/0/S    TRAPPIST-1e  58.0   True   \n",
       "0003_02         Europa     False     A/0/S    TRAPPIST-1e  33.0  False   \n",
       "0004_01          Earth     False     F/1/S    TRAPPIST-1e  16.0  False   \n",
       "...                ...       ...       ...            ...   ...    ...   \n",
       "9276_01         Europa     False    A/98/P    55 Cancri e  41.0   True   \n",
       "9278_01          Earth      True  G/1499/S  PSO J318.5-22  18.0  False   \n",
       "9279_01          Earth     False  G/1500/S    TRAPPIST-1e  26.0  False   \n",
       "9280_01         Europa     False   E/608/S    55 Cancri e  32.0  False   \n",
       "9280_02         Europa     False   E/608/S    TRAPPIST-1e  44.0  False   \n",
       "\n",
       "             RoomService  FoodCourt  ShoppingMall     Spa  VRDeck  \\\n",
       "PassengerId                                                         \n",
       "0001_01              0.0        0.0           0.0     0.0     0.0   \n",
       "0002_01            109.0        9.0          25.0   549.0    44.0   \n",
       "0003_01             43.0     3576.0           0.0  6715.0    49.0   \n",
       "0003_02              0.0     1283.0         371.0  3329.0   193.0   \n",
       "0004_01            303.0       70.0         151.0   565.0     2.0   \n",
       "...                  ...        ...           ...     ...     ...   \n",
       "9276_01              0.0     6819.0           0.0  1643.0    74.0   \n",
       "9278_01              0.0        0.0           0.0     0.0     0.0   \n",
       "9279_01              0.0        0.0        1872.0     1.0     0.0   \n",
       "9280_01              0.0     1049.0           0.0   353.0  3235.0   \n",
       "9280_02            126.0     4688.0           0.0     0.0    12.0   \n",
       "\n",
       "                          Name  Transported Group Deck CabinNumber Side  \\\n",
       "PassengerId                                                               \n",
       "0001_01        Maham Ofracculy        False  0001    B           0    P   \n",
       "0002_01           Juanna Vines         True  0002    F           0    S   \n",
       "0003_01          Altark Susent        False  0003    A           0    S   \n",
       "0003_02           Solam Susent        False  0003    A           0    S   \n",
       "0004_01      Willy Santantines         True  0004    F           1    S   \n",
       "...                        ...          ...   ...  ...         ...  ...   \n",
       "9276_01      Gravior Noxnuther        False  9276    A          98    P   \n",
       "9278_01        Kurta Mondalley        False  9278    G        1499    S   \n",
       "9279_01           Fayey Connon         True  9279    G        1500    S   \n",
       "9280_01       Celeon Hontichre        False  9280    E         608    S   \n",
       "9280_02       Propsh Hontichre         True  9280    E         608    S   \n",
       "\n",
       "                LastName  \n",
       "PassengerId               \n",
       "0001_01        Ofracculy  \n",
       "0002_01            Vines  \n",
       "0003_01           Susent  \n",
       "0003_02           Susent  \n",
       "0004_01      Santantines  \n",
       "...                  ...  \n",
       "9276_01        Noxnuther  \n",
       "9278_01        Mondalley  \n",
       "9279_01           Connon  \n",
       "9280_01        Hontichre  \n",
       "9280_02        Hontichre  \n",
       "\n",
       "[8693 rows x 18 columns]"
      ]
     },
     "execution_count": 31,
     "metadata": {},
     "output_type": "execute_result"
    }
   ],
   "source": [
    "df"
   ]
  },
  {
   "cell_type": "code",
   "execution_count": 32,
   "id": "968113c2",
   "metadata": {
    "_cell_guid": "af4a72d2-8368-408c-b03b-e3916121720c",
    "_uuid": "746cb9f3-35e4-40a2-bf76-de0f17a530ee",
    "collapsed": false,
    "jupyter": {
     "outputs_hidden": false
    },
    "papermill": {
     "duration": 0.147171,
     "end_time": "2024-02-03T23:02:37.123037",
     "exception": false,
     "start_time": "2024-02-03T23:02:36.975866",
     "status": "completed"
    },
    "tags": []
   },
   "outputs": [
    {
     "data": {
      "text/html": [
       "<div>\n",
       "<style scoped>\n",
       "    .dataframe tbody tr th:only-of-type {\n",
       "        vertical-align: middle;\n",
       "    }\n",
       "\n",
       "    .dataframe tbody tr th {\n",
       "        vertical-align: top;\n",
       "    }\n",
       "\n",
       "    .dataframe thead th {\n",
       "        text-align: right;\n",
       "    }\n",
       "</style>\n",
       "<table border=\"1\" class=\"dataframe\">\n",
       "  <thead>\n",
       "    <tr style=\"text-align: right;\">\n",
       "      <th></th>\n",
       "      <th>HomePlanet</th>\n",
       "      <th>CryoSleep</th>\n",
       "      <th>Cabin</th>\n",
       "      <th>Destination</th>\n",
       "      <th>Age</th>\n",
       "      <th>VIP</th>\n",
       "      <th>RoomService</th>\n",
       "      <th>FoodCourt</th>\n",
       "      <th>ShoppingMall</th>\n",
       "      <th>Spa</th>\n",
       "      <th>VRDeck</th>\n",
       "      <th>Name</th>\n",
       "      <th>Transported</th>\n",
       "      <th>Group</th>\n",
       "      <th>Deck</th>\n",
       "      <th>CabinNumber</th>\n",
       "      <th>Side</th>\n",
       "      <th>LastName</th>\n",
       "      <th>N_family_members</th>\n",
       "      <th>N_group_members</th>\n",
       "    </tr>\n",
       "    <tr>\n",
       "      <th>PassengerId</th>\n",
       "      <th></th>\n",
       "      <th></th>\n",
       "      <th></th>\n",
       "      <th></th>\n",
       "      <th></th>\n",
       "      <th></th>\n",
       "      <th></th>\n",
       "      <th></th>\n",
       "      <th></th>\n",
       "      <th></th>\n",
       "      <th></th>\n",
       "      <th></th>\n",
       "      <th></th>\n",
       "      <th></th>\n",
       "      <th></th>\n",
       "      <th></th>\n",
       "      <th></th>\n",
       "      <th></th>\n",
       "      <th></th>\n",
       "      <th></th>\n",
       "    </tr>\n",
       "  </thead>\n",
       "  <tbody>\n",
       "    <tr>\n",
       "      <th>0001_01</th>\n",
       "      <td>Europa</td>\n",
       "      <td>False</td>\n",
       "      <td>B/0/P</td>\n",
       "      <td>TRAPPIST-1e</td>\n",
       "      <td>39.0</td>\n",
       "      <td>False</td>\n",
       "      <td>0.0</td>\n",
       "      <td>0.0</td>\n",
       "      <td>0.0</td>\n",
       "      <td>0.0</td>\n",
       "      <td>0.0</td>\n",
       "      <td>Maham Ofracculy</td>\n",
       "      <td>False</td>\n",
       "      <td>0001</td>\n",
       "      <td>B</td>\n",
       "      <td>0</td>\n",
       "      <td>P</td>\n",
       "      <td>Ofracculy</td>\n",
       "      <td>1.0</td>\n",
       "      <td>1</td>\n",
       "    </tr>\n",
       "    <tr>\n",
       "      <th>0002_01</th>\n",
       "      <td>Earth</td>\n",
       "      <td>False</td>\n",
       "      <td>F/0/S</td>\n",
       "      <td>TRAPPIST-1e</td>\n",
       "      <td>24.0</td>\n",
       "      <td>False</td>\n",
       "      <td>109.0</td>\n",
       "      <td>9.0</td>\n",
       "      <td>25.0</td>\n",
       "      <td>549.0</td>\n",
       "      <td>44.0</td>\n",
       "      <td>Juanna Vines</td>\n",
       "      <td>True</td>\n",
       "      <td>0002</td>\n",
       "      <td>F</td>\n",
       "      <td>0</td>\n",
       "      <td>S</td>\n",
       "      <td>Vines</td>\n",
       "      <td>4.0</td>\n",
       "      <td>1</td>\n",
       "    </tr>\n",
       "    <tr>\n",
       "      <th>0003_01</th>\n",
       "      <td>Europa</td>\n",
       "      <td>False</td>\n",
       "      <td>A/0/S</td>\n",
       "      <td>TRAPPIST-1e</td>\n",
       "      <td>58.0</td>\n",
       "      <td>True</td>\n",
       "      <td>43.0</td>\n",
       "      <td>3576.0</td>\n",
       "      <td>0.0</td>\n",
       "      <td>6715.0</td>\n",
       "      <td>49.0</td>\n",
       "      <td>Altark Susent</td>\n",
       "      <td>False</td>\n",
       "      <td>0003</td>\n",
       "      <td>A</td>\n",
       "      <td>0</td>\n",
       "      <td>S</td>\n",
       "      <td>Susent</td>\n",
       "      <td>6.0</td>\n",
       "      <td>2</td>\n",
       "    </tr>\n",
       "    <tr>\n",
       "      <th>0003_02</th>\n",
       "      <td>Europa</td>\n",
       "      <td>False</td>\n",
       "      <td>A/0/S</td>\n",
       "      <td>TRAPPIST-1e</td>\n",
       "      <td>33.0</td>\n",
       "      <td>False</td>\n",
       "      <td>0.0</td>\n",
       "      <td>1283.0</td>\n",
       "      <td>371.0</td>\n",
       "      <td>3329.0</td>\n",
       "      <td>193.0</td>\n",
       "      <td>Solam Susent</td>\n",
       "      <td>False</td>\n",
       "      <td>0003</td>\n",
       "      <td>A</td>\n",
       "      <td>0</td>\n",
       "      <td>S</td>\n",
       "      <td>Susent</td>\n",
       "      <td>6.0</td>\n",
       "      <td>2</td>\n",
       "    </tr>\n",
       "    <tr>\n",
       "      <th>0004_01</th>\n",
       "      <td>Earth</td>\n",
       "      <td>False</td>\n",
       "      <td>F/1/S</td>\n",
       "      <td>TRAPPIST-1e</td>\n",
       "      <td>16.0</td>\n",
       "      <td>False</td>\n",
       "      <td>303.0</td>\n",
       "      <td>70.0</td>\n",
       "      <td>151.0</td>\n",
       "      <td>565.0</td>\n",
       "      <td>2.0</td>\n",
       "      <td>Willy Santantines</td>\n",
       "      <td>True</td>\n",
       "      <td>0004</td>\n",
       "      <td>F</td>\n",
       "      <td>1</td>\n",
       "      <td>S</td>\n",
       "      <td>Santantines</td>\n",
       "      <td>6.0</td>\n",
       "      <td>1</td>\n",
       "    </tr>\n",
       "    <tr>\n",
       "      <th>...</th>\n",
       "      <td>...</td>\n",
       "      <td>...</td>\n",
       "      <td>...</td>\n",
       "      <td>...</td>\n",
       "      <td>...</td>\n",
       "      <td>...</td>\n",
       "      <td>...</td>\n",
       "      <td>...</td>\n",
       "      <td>...</td>\n",
       "      <td>...</td>\n",
       "      <td>...</td>\n",
       "      <td>...</td>\n",
       "      <td>...</td>\n",
       "      <td>...</td>\n",
       "      <td>...</td>\n",
       "      <td>...</td>\n",
       "      <td>...</td>\n",
       "      <td>...</td>\n",
       "      <td>...</td>\n",
       "      <td>...</td>\n",
       "    </tr>\n",
       "    <tr>\n",
       "      <th>9276_01</th>\n",
       "      <td>Europa</td>\n",
       "      <td>False</td>\n",
       "      <td>A/98/P</td>\n",
       "      <td>55 Cancri e</td>\n",
       "      <td>41.0</td>\n",
       "      <td>True</td>\n",
       "      <td>0.0</td>\n",
       "      <td>6819.0</td>\n",
       "      <td>0.0</td>\n",
       "      <td>1643.0</td>\n",
       "      <td>74.0</td>\n",
       "      <td>Gravior Noxnuther</td>\n",
       "      <td>False</td>\n",
       "      <td>9276</td>\n",
       "      <td>A</td>\n",
       "      <td>98</td>\n",
       "      <td>P</td>\n",
       "      <td>Noxnuther</td>\n",
       "      <td>3.0</td>\n",
       "      <td>1</td>\n",
       "    </tr>\n",
       "    <tr>\n",
       "      <th>9278_01</th>\n",
       "      <td>Earth</td>\n",
       "      <td>True</td>\n",
       "      <td>G/1499/S</td>\n",
       "      <td>PSO J318.5-22</td>\n",
       "      <td>18.0</td>\n",
       "      <td>False</td>\n",
       "      <td>0.0</td>\n",
       "      <td>0.0</td>\n",
       "      <td>0.0</td>\n",
       "      <td>0.0</td>\n",
       "      <td>0.0</td>\n",
       "      <td>Kurta Mondalley</td>\n",
       "      <td>False</td>\n",
       "      <td>9278</td>\n",
       "      <td>G</td>\n",
       "      <td>1499</td>\n",
       "      <td>S</td>\n",
       "      <td>Mondalley</td>\n",
       "      <td>2.0</td>\n",
       "      <td>1</td>\n",
       "    </tr>\n",
       "    <tr>\n",
       "      <th>9279_01</th>\n",
       "      <td>Earth</td>\n",
       "      <td>False</td>\n",
       "      <td>G/1500/S</td>\n",
       "      <td>TRAPPIST-1e</td>\n",
       "      <td>26.0</td>\n",
       "      <td>False</td>\n",
       "      <td>0.0</td>\n",
       "      <td>0.0</td>\n",
       "      <td>1872.0</td>\n",
       "      <td>1.0</td>\n",
       "      <td>0.0</td>\n",
       "      <td>Fayey Connon</td>\n",
       "      <td>True</td>\n",
       "      <td>9279</td>\n",
       "      <td>G</td>\n",
       "      <td>1500</td>\n",
       "      <td>S</td>\n",
       "      <td>Connon</td>\n",
       "      <td>6.0</td>\n",
       "      <td>1</td>\n",
       "    </tr>\n",
       "    <tr>\n",
       "      <th>9280_01</th>\n",
       "      <td>Europa</td>\n",
       "      <td>False</td>\n",
       "      <td>E/608/S</td>\n",
       "      <td>55 Cancri e</td>\n",
       "      <td>32.0</td>\n",
       "      <td>False</td>\n",
       "      <td>0.0</td>\n",
       "      <td>1049.0</td>\n",
       "      <td>0.0</td>\n",
       "      <td>353.0</td>\n",
       "      <td>3235.0</td>\n",
       "      <td>Celeon Hontichre</td>\n",
       "      <td>False</td>\n",
       "      <td>9280</td>\n",
       "      <td>E</td>\n",
       "      <td>608</td>\n",
       "      <td>S</td>\n",
       "      <td>Hontichre</td>\n",
       "      <td>6.0</td>\n",
       "      <td>2</td>\n",
       "    </tr>\n",
       "    <tr>\n",
       "      <th>9280_02</th>\n",
       "      <td>Europa</td>\n",
       "      <td>False</td>\n",
       "      <td>E/608/S</td>\n",
       "      <td>TRAPPIST-1e</td>\n",
       "      <td>44.0</td>\n",
       "      <td>False</td>\n",
       "      <td>126.0</td>\n",
       "      <td>4688.0</td>\n",
       "      <td>0.0</td>\n",
       "      <td>0.0</td>\n",
       "      <td>12.0</td>\n",
       "      <td>Propsh Hontichre</td>\n",
       "      <td>True</td>\n",
       "      <td>9280</td>\n",
       "      <td>E</td>\n",
       "      <td>608</td>\n",
       "      <td>S</td>\n",
       "      <td>Hontichre</td>\n",
       "      <td>6.0</td>\n",
       "      <td>2</td>\n",
       "    </tr>\n",
       "  </tbody>\n",
       "</table>\n",
       "<p>8693 rows × 20 columns</p>\n",
       "</div>"
      ],
      "text/plain": [
       "            HomePlanet CryoSleep     Cabin    Destination   Age    VIP  \\\n",
       "PassengerId                                                              \n",
       "0001_01         Europa     False     B/0/P    TRAPPIST-1e  39.0  False   \n",
       "0002_01          Earth     False     F/0/S    TRAPPIST-1e  24.0  False   \n",
       "0003_01         Europa     False     A/0/S    TRAPPIST-1e  58.0   True   \n",
       "0003_02         Europa     False     A/0/S    TRAPPIST-1e  33.0  False   \n",
       "0004_01          Earth     False     F/1/S    TRAPPIST-1e  16.0  False   \n",
       "...                ...       ...       ...            ...   ...    ...   \n",
       "9276_01         Europa     False    A/98/P    55 Cancri e  41.0   True   \n",
       "9278_01          Earth      True  G/1499/S  PSO J318.5-22  18.0  False   \n",
       "9279_01          Earth     False  G/1500/S    TRAPPIST-1e  26.0  False   \n",
       "9280_01         Europa     False   E/608/S    55 Cancri e  32.0  False   \n",
       "9280_02         Europa     False   E/608/S    TRAPPIST-1e  44.0  False   \n",
       "\n",
       "             RoomService  FoodCourt  ShoppingMall     Spa  VRDeck  \\\n",
       "PassengerId                                                         \n",
       "0001_01              0.0        0.0           0.0     0.0     0.0   \n",
       "0002_01            109.0        9.0          25.0   549.0    44.0   \n",
       "0003_01             43.0     3576.0           0.0  6715.0    49.0   \n",
       "0003_02              0.0     1283.0         371.0  3329.0   193.0   \n",
       "0004_01            303.0       70.0         151.0   565.0     2.0   \n",
       "...                  ...        ...           ...     ...     ...   \n",
       "9276_01              0.0     6819.0           0.0  1643.0    74.0   \n",
       "9278_01              0.0        0.0           0.0     0.0     0.0   \n",
       "9279_01              0.0        0.0        1872.0     1.0     0.0   \n",
       "9280_01              0.0     1049.0           0.0   353.0  3235.0   \n",
       "9280_02            126.0     4688.0           0.0     0.0    12.0   \n",
       "\n",
       "                          Name  Transported Group Deck CabinNumber Side  \\\n",
       "PassengerId                                                               \n",
       "0001_01        Maham Ofracculy        False  0001    B           0    P   \n",
       "0002_01           Juanna Vines         True  0002    F           0    S   \n",
       "0003_01          Altark Susent        False  0003    A           0    S   \n",
       "0003_02           Solam Susent        False  0003    A           0    S   \n",
       "0004_01      Willy Santantines         True  0004    F           1    S   \n",
       "...                        ...          ...   ...  ...         ...  ...   \n",
       "9276_01      Gravior Noxnuther        False  9276    A          98    P   \n",
       "9278_01        Kurta Mondalley        False  9278    G        1499    S   \n",
       "9279_01           Fayey Connon         True  9279    G        1500    S   \n",
       "9280_01       Celeon Hontichre        False  9280    E         608    S   \n",
       "9280_02       Propsh Hontichre         True  9280    E         608    S   \n",
       "\n",
       "                LastName  N_family_members  N_group_members  \n",
       "PassengerId                                                  \n",
       "0001_01        Ofracculy               1.0                1  \n",
       "0002_01            Vines               4.0                1  \n",
       "0003_01           Susent               6.0                2  \n",
       "0003_02           Susent               6.0                2  \n",
       "0004_01      Santantines               6.0                1  \n",
       "...                  ...               ...              ...  \n",
       "9276_01        Noxnuther               3.0                1  \n",
       "9278_01        Mondalley               2.0                1  \n",
       "9279_01           Connon               6.0                1  \n",
       "9280_01        Hontichre               6.0                2  \n",
       "9280_02        Hontichre               6.0                2  \n",
       "\n",
       "[8693 rows x 20 columns]"
      ]
     },
     "execution_count": 32,
     "metadata": {},
     "output_type": "execute_result"
    }
   ],
   "source": [
    "df = df.reset_index().merge(n_family_members, how = 'left', on = ['LastName'])\n",
    "df = df.merge(n_group_members, how = 'left', on = ['Group'])\n",
    "df = df.set_index('PassengerId')\n",
    "df"
   ]
  },
  {
   "cell_type": "markdown",
   "id": "f9e007f1-cc26-4172-9d8f-aa817733945d",
   "metadata": {
    "_cell_guid": "87e2da9b-c9cc-4754-b9c7-0ad6b666dda8",
    "_uuid": "12212859-6bf7-4e6a-aa09-62b8746d147b",
    "papermill": {
     "duration": 0.034976,
     "end_time": "2024-02-03T23:02:36.484734",
     "exception": false,
     "start_time": "2024-02-03T23:02:36.449758",
     "status": "completed"
    },
    "tags": []
   },
   "source": [
    "We create two more categories that sums the regular spendings and the luxury ones. And one that sums both for the total spendings."
   ]
  },
  {
   "cell_type": "code",
   "execution_count": 33,
   "id": "06700f1a",
   "metadata": {
    "_cell_guid": "f9a7426b-ef36-4c81-b71c-be1ee12c114e",
    "_uuid": "2ca90191-5662-462f-a64f-1cdb18497fb9",
    "collapsed": false,
    "jupyter": {
     "outputs_hidden": false
    },
    "papermill": {
     "duration": 0.047539,
     "end_time": "2024-02-03T23:02:36.567111",
     "exception": false,
     "start_time": "2024-02-03T23:02:36.519572",
     "status": "completed"
    },
    "tags": []
   },
   "outputs": [],
   "source": [
    "df[\"Regular\"] = df[\"FoodCourt\"] + df[\"ShoppingMall\"] \n",
    "df[\"Luxury\"] = df[\"RoomService\"] + df[\"Spa\"] + df[\"VRDeck\"]"
   ]
  },
  {
   "cell_type": "code",
   "execution_count": 34,
   "id": "cf66fd20",
   "metadata": {
    "_cell_guid": "632fee99-e6ad-4dfd-87ab-a45fb6d00dcc",
    "_uuid": "4cddab2a-b750-45d3-8e7c-ecf7777e3727",
    "collapsed": false,
    "jupyter": {
     "outputs_hidden": false
    },
    "papermill": {
     "duration": 0.104096,
     "end_time": "2024-02-03T23:02:37.264627",
     "exception": false,
     "start_time": "2024-02-03T23:02:37.160531",
     "status": "completed"
    },
    "tags": []
   },
   "outputs": [
    {
     "data": {
      "text/html": [
       "<div>\n",
       "<style scoped>\n",
       "    .dataframe tbody tr th:only-of-type {\n",
       "        vertical-align: middle;\n",
       "    }\n",
       "\n",
       "    .dataframe tbody tr th {\n",
       "        vertical-align: top;\n",
       "    }\n",
       "\n",
       "    .dataframe thead th {\n",
       "        text-align: right;\n",
       "    }\n",
       "</style>\n",
       "<table border=\"1\" class=\"dataframe\">\n",
       "  <thead>\n",
       "    <tr style=\"text-align: right;\">\n",
       "      <th></th>\n",
       "      <th>HomePlanet</th>\n",
       "      <th>CryoSleep</th>\n",
       "      <th>Cabin</th>\n",
       "      <th>Destination</th>\n",
       "      <th>Age</th>\n",
       "      <th>VIP</th>\n",
       "      <th>RoomService</th>\n",
       "      <th>FoodCourt</th>\n",
       "      <th>ShoppingMall</th>\n",
       "      <th>Spa</th>\n",
       "      <th>...</th>\n",
       "      <th>Group</th>\n",
       "      <th>Deck</th>\n",
       "      <th>CabinNumber</th>\n",
       "      <th>Side</th>\n",
       "      <th>LastName</th>\n",
       "      <th>N_family_members</th>\n",
       "      <th>N_group_members</th>\n",
       "      <th>Regular</th>\n",
       "      <th>Luxury</th>\n",
       "      <th>TotalSpendings</th>\n",
       "    </tr>\n",
       "    <tr>\n",
       "      <th>PassengerId</th>\n",
       "      <th></th>\n",
       "      <th></th>\n",
       "      <th></th>\n",
       "      <th></th>\n",
       "      <th></th>\n",
       "      <th></th>\n",
       "      <th></th>\n",
       "      <th></th>\n",
       "      <th></th>\n",
       "      <th></th>\n",
       "      <th></th>\n",
       "      <th></th>\n",
       "      <th></th>\n",
       "      <th></th>\n",
       "      <th></th>\n",
       "      <th></th>\n",
       "      <th></th>\n",
       "      <th></th>\n",
       "      <th></th>\n",
       "      <th></th>\n",
       "      <th></th>\n",
       "    </tr>\n",
       "  </thead>\n",
       "  <tbody>\n",
       "    <tr>\n",
       "      <th>0001_01</th>\n",
       "      <td>Europa</td>\n",
       "      <td>False</td>\n",
       "      <td>B/0/P</td>\n",
       "      <td>TRAPPIST-1e</td>\n",
       "      <td>39.0</td>\n",
       "      <td>False</td>\n",
       "      <td>0.0</td>\n",
       "      <td>0.0</td>\n",
       "      <td>0.0</td>\n",
       "      <td>0.0</td>\n",
       "      <td>...</td>\n",
       "      <td>0001</td>\n",
       "      <td>B</td>\n",
       "      <td>0</td>\n",
       "      <td>P</td>\n",
       "      <td>Ofracculy</td>\n",
       "      <td>1.0</td>\n",
       "      <td>1</td>\n",
       "      <td>0.0</td>\n",
       "      <td>0.0</td>\n",
       "      <td>0.0</td>\n",
       "    </tr>\n",
       "    <tr>\n",
       "      <th>0002_01</th>\n",
       "      <td>Earth</td>\n",
       "      <td>False</td>\n",
       "      <td>F/0/S</td>\n",
       "      <td>TRAPPIST-1e</td>\n",
       "      <td>24.0</td>\n",
       "      <td>False</td>\n",
       "      <td>109.0</td>\n",
       "      <td>9.0</td>\n",
       "      <td>25.0</td>\n",
       "      <td>549.0</td>\n",
       "      <td>...</td>\n",
       "      <td>0002</td>\n",
       "      <td>F</td>\n",
       "      <td>0</td>\n",
       "      <td>S</td>\n",
       "      <td>Vines</td>\n",
       "      <td>4.0</td>\n",
       "      <td>1</td>\n",
       "      <td>34.0</td>\n",
       "      <td>702.0</td>\n",
       "      <td>736.0</td>\n",
       "    </tr>\n",
       "    <tr>\n",
       "      <th>0003_01</th>\n",
       "      <td>Europa</td>\n",
       "      <td>False</td>\n",
       "      <td>A/0/S</td>\n",
       "      <td>TRAPPIST-1e</td>\n",
       "      <td>58.0</td>\n",
       "      <td>True</td>\n",
       "      <td>43.0</td>\n",
       "      <td>3576.0</td>\n",
       "      <td>0.0</td>\n",
       "      <td>6715.0</td>\n",
       "      <td>...</td>\n",
       "      <td>0003</td>\n",
       "      <td>A</td>\n",
       "      <td>0</td>\n",
       "      <td>S</td>\n",
       "      <td>Susent</td>\n",
       "      <td>6.0</td>\n",
       "      <td>2</td>\n",
       "      <td>3576.0</td>\n",
       "      <td>6807.0</td>\n",
       "      <td>10383.0</td>\n",
       "    </tr>\n",
       "    <tr>\n",
       "      <th>0003_02</th>\n",
       "      <td>Europa</td>\n",
       "      <td>False</td>\n",
       "      <td>A/0/S</td>\n",
       "      <td>TRAPPIST-1e</td>\n",
       "      <td>33.0</td>\n",
       "      <td>False</td>\n",
       "      <td>0.0</td>\n",
       "      <td>1283.0</td>\n",
       "      <td>371.0</td>\n",
       "      <td>3329.0</td>\n",
       "      <td>...</td>\n",
       "      <td>0003</td>\n",
       "      <td>A</td>\n",
       "      <td>0</td>\n",
       "      <td>S</td>\n",
       "      <td>Susent</td>\n",
       "      <td>6.0</td>\n",
       "      <td>2</td>\n",
       "      <td>1654.0</td>\n",
       "      <td>3522.0</td>\n",
       "      <td>5176.0</td>\n",
       "    </tr>\n",
       "    <tr>\n",
       "      <th>0004_01</th>\n",
       "      <td>Earth</td>\n",
       "      <td>False</td>\n",
       "      <td>F/1/S</td>\n",
       "      <td>TRAPPIST-1e</td>\n",
       "      <td>16.0</td>\n",
       "      <td>False</td>\n",
       "      <td>303.0</td>\n",
       "      <td>70.0</td>\n",
       "      <td>151.0</td>\n",
       "      <td>565.0</td>\n",
       "      <td>...</td>\n",
       "      <td>0004</td>\n",
       "      <td>F</td>\n",
       "      <td>1</td>\n",
       "      <td>S</td>\n",
       "      <td>Santantines</td>\n",
       "      <td>6.0</td>\n",
       "      <td>1</td>\n",
       "      <td>221.0</td>\n",
       "      <td>870.0</td>\n",
       "      <td>1091.0</td>\n",
       "    </tr>\n",
       "    <tr>\n",
       "      <th>...</th>\n",
       "      <td>...</td>\n",
       "      <td>...</td>\n",
       "      <td>...</td>\n",
       "      <td>...</td>\n",
       "      <td>...</td>\n",
       "      <td>...</td>\n",
       "      <td>...</td>\n",
       "      <td>...</td>\n",
       "      <td>...</td>\n",
       "      <td>...</td>\n",
       "      <td>...</td>\n",
       "      <td>...</td>\n",
       "      <td>...</td>\n",
       "      <td>...</td>\n",
       "      <td>...</td>\n",
       "      <td>...</td>\n",
       "      <td>...</td>\n",
       "      <td>...</td>\n",
       "      <td>...</td>\n",
       "      <td>...</td>\n",
       "      <td>...</td>\n",
       "    </tr>\n",
       "    <tr>\n",
       "      <th>9276_01</th>\n",
       "      <td>Europa</td>\n",
       "      <td>False</td>\n",
       "      <td>A/98/P</td>\n",
       "      <td>55 Cancri e</td>\n",
       "      <td>41.0</td>\n",
       "      <td>True</td>\n",
       "      <td>0.0</td>\n",
       "      <td>6819.0</td>\n",
       "      <td>0.0</td>\n",
       "      <td>1643.0</td>\n",
       "      <td>...</td>\n",
       "      <td>9276</td>\n",
       "      <td>A</td>\n",
       "      <td>98</td>\n",
       "      <td>P</td>\n",
       "      <td>Noxnuther</td>\n",
       "      <td>3.0</td>\n",
       "      <td>1</td>\n",
       "      <td>6819.0</td>\n",
       "      <td>1717.0</td>\n",
       "      <td>8536.0</td>\n",
       "    </tr>\n",
       "    <tr>\n",
       "      <th>9278_01</th>\n",
       "      <td>Earth</td>\n",
       "      <td>True</td>\n",
       "      <td>G/1499/S</td>\n",
       "      <td>PSO J318.5-22</td>\n",
       "      <td>18.0</td>\n",
       "      <td>False</td>\n",
       "      <td>0.0</td>\n",
       "      <td>0.0</td>\n",
       "      <td>0.0</td>\n",
       "      <td>0.0</td>\n",
       "      <td>...</td>\n",
       "      <td>9278</td>\n",
       "      <td>G</td>\n",
       "      <td>1499</td>\n",
       "      <td>S</td>\n",
       "      <td>Mondalley</td>\n",
       "      <td>2.0</td>\n",
       "      <td>1</td>\n",
       "      <td>0.0</td>\n",
       "      <td>0.0</td>\n",
       "      <td>0.0</td>\n",
       "    </tr>\n",
       "    <tr>\n",
       "      <th>9279_01</th>\n",
       "      <td>Earth</td>\n",
       "      <td>False</td>\n",
       "      <td>G/1500/S</td>\n",
       "      <td>TRAPPIST-1e</td>\n",
       "      <td>26.0</td>\n",
       "      <td>False</td>\n",
       "      <td>0.0</td>\n",
       "      <td>0.0</td>\n",
       "      <td>1872.0</td>\n",
       "      <td>1.0</td>\n",
       "      <td>...</td>\n",
       "      <td>9279</td>\n",
       "      <td>G</td>\n",
       "      <td>1500</td>\n",
       "      <td>S</td>\n",
       "      <td>Connon</td>\n",
       "      <td>6.0</td>\n",
       "      <td>1</td>\n",
       "      <td>1872.0</td>\n",
       "      <td>1.0</td>\n",
       "      <td>1873.0</td>\n",
       "    </tr>\n",
       "    <tr>\n",
       "      <th>9280_01</th>\n",
       "      <td>Europa</td>\n",
       "      <td>False</td>\n",
       "      <td>E/608/S</td>\n",
       "      <td>55 Cancri e</td>\n",
       "      <td>32.0</td>\n",
       "      <td>False</td>\n",
       "      <td>0.0</td>\n",
       "      <td>1049.0</td>\n",
       "      <td>0.0</td>\n",
       "      <td>353.0</td>\n",
       "      <td>...</td>\n",
       "      <td>9280</td>\n",
       "      <td>E</td>\n",
       "      <td>608</td>\n",
       "      <td>S</td>\n",
       "      <td>Hontichre</td>\n",
       "      <td>6.0</td>\n",
       "      <td>2</td>\n",
       "      <td>1049.0</td>\n",
       "      <td>3588.0</td>\n",
       "      <td>4637.0</td>\n",
       "    </tr>\n",
       "    <tr>\n",
       "      <th>9280_02</th>\n",
       "      <td>Europa</td>\n",
       "      <td>False</td>\n",
       "      <td>E/608/S</td>\n",
       "      <td>TRAPPIST-1e</td>\n",
       "      <td>44.0</td>\n",
       "      <td>False</td>\n",
       "      <td>126.0</td>\n",
       "      <td>4688.0</td>\n",
       "      <td>0.0</td>\n",
       "      <td>0.0</td>\n",
       "      <td>...</td>\n",
       "      <td>9280</td>\n",
       "      <td>E</td>\n",
       "      <td>608</td>\n",
       "      <td>S</td>\n",
       "      <td>Hontichre</td>\n",
       "      <td>6.0</td>\n",
       "      <td>2</td>\n",
       "      <td>4688.0</td>\n",
       "      <td>138.0</td>\n",
       "      <td>4826.0</td>\n",
       "    </tr>\n",
       "  </tbody>\n",
       "</table>\n",
       "<p>8693 rows × 23 columns</p>\n",
       "</div>"
      ],
      "text/plain": [
       "            HomePlanet CryoSleep     Cabin    Destination   Age    VIP  \\\n",
       "PassengerId                                                              \n",
       "0001_01         Europa     False     B/0/P    TRAPPIST-1e  39.0  False   \n",
       "0002_01          Earth     False     F/0/S    TRAPPIST-1e  24.0  False   \n",
       "0003_01         Europa     False     A/0/S    TRAPPIST-1e  58.0   True   \n",
       "0003_02         Europa     False     A/0/S    TRAPPIST-1e  33.0  False   \n",
       "0004_01          Earth     False     F/1/S    TRAPPIST-1e  16.0  False   \n",
       "...                ...       ...       ...            ...   ...    ...   \n",
       "9276_01         Europa     False    A/98/P    55 Cancri e  41.0   True   \n",
       "9278_01          Earth      True  G/1499/S  PSO J318.5-22  18.0  False   \n",
       "9279_01          Earth     False  G/1500/S    TRAPPIST-1e  26.0  False   \n",
       "9280_01         Europa     False   E/608/S    55 Cancri e  32.0  False   \n",
       "9280_02         Europa     False   E/608/S    TRAPPIST-1e  44.0  False   \n",
       "\n",
       "             RoomService  FoodCourt  ShoppingMall     Spa  ...  Group Deck  \\\n",
       "PassengerId                                                ...               \n",
       "0001_01              0.0        0.0           0.0     0.0  ...   0001    B   \n",
       "0002_01            109.0        9.0          25.0   549.0  ...   0002    F   \n",
       "0003_01             43.0     3576.0           0.0  6715.0  ...   0003    A   \n",
       "0003_02              0.0     1283.0         371.0  3329.0  ...   0003    A   \n",
       "0004_01            303.0       70.0         151.0   565.0  ...   0004    F   \n",
       "...                  ...        ...           ...     ...  ...    ...  ...   \n",
       "9276_01              0.0     6819.0           0.0  1643.0  ...   9276    A   \n",
       "9278_01              0.0        0.0           0.0     0.0  ...   9278    G   \n",
       "9279_01              0.0        0.0        1872.0     1.0  ...   9279    G   \n",
       "9280_01              0.0     1049.0           0.0   353.0  ...   9280    E   \n",
       "9280_02            126.0     4688.0           0.0     0.0  ...   9280    E   \n",
       "\n",
       "             CabinNumber Side     LastName N_family_members N_group_members  \\\n",
       "PassengerId                                                                   \n",
       "0001_01                0    P    Ofracculy              1.0               1   \n",
       "0002_01                0    S        Vines              4.0               1   \n",
       "0003_01                0    S       Susent              6.0               2   \n",
       "0003_02                0    S       Susent              6.0               2   \n",
       "0004_01                1    S  Santantines              6.0               1   \n",
       "...                  ...  ...          ...              ...             ...   \n",
       "9276_01               98    P    Noxnuther              3.0               1   \n",
       "9278_01             1499    S    Mondalley              2.0               1   \n",
       "9279_01             1500    S       Connon              6.0               1   \n",
       "9280_01              608    S    Hontichre              6.0               2   \n",
       "9280_02              608    S    Hontichre              6.0               2   \n",
       "\n",
       "            Regular  Luxury  TotalSpendings  \n",
       "PassengerId                                  \n",
       "0001_01         0.0     0.0             0.0  \n",
       "0002_01        34.0   702.0           736.0  \n",
       "0003_01      3576.0  6807.0         10383.0  \n",
       "0003_02      1654.0  3522.0          5176.0  \n",
       "0004_01       221.0   870.0          1091.0  \n",
       "...             ...     ...             ...  \n",
       "9276_01      6819.0  1717.0          8536.0  \n",
       "9278_01         0.0     0.0             0.0  \n",
       "9279_01      1872.0     1.0          1873.0  \n",
       "9280_01      1049.0  3588.0          4637.0  \n",
       "9280_02      4688.0   138.0          4826.0  \n",
       "\n",
       "[8693 rows x 23 columns]"
      ]
     },
     "execution_count": 34,
     "metadata": {},
     "output_type": "execute_result"
    }
   ],
   "source": [
    "df['TotalSpendings'] = df[['Luxury','Regular']].sum(axis=1)\n",
    "df"
   ]
  },
  {
   "cell_type": "markdown",
   "id": "c153beec",
   "metadata": {
    "_cell_guid": "e1200dff-d886-490d-9d44-56653034d467",
    "_uuid": "c98e853e-6315-4e92-8f10-42a4902f495f",
    "papermill": {
     "duration": 0.038234,
     "end_time": "2024-02-03T23:02:37.341302",
     "exception": false,
     "start_time": "2024-02-03T23:02:37.303068",
     "status": "completed"
    },
    "tags": []
   },
   "source": [
    "Cabin and Name are useless now. So we drop them."
   ]
  },
  {
   "cell_type": "code",
   "execution_count": 35,
   "id": "3a3e5f73",
   "metadata": {
    "_cell_guid": "9d3add14-545a-45ad-995a-8258ddf26f83",
    "_uuid": "4bb6c53a-abf5-438f-b07c-2bc93dbe540f",
    "collapsed": false,
    "jupyter": {
     "outputs_hidden": false
    },
    "papermill": {
     "duration": 0.103587,
     "end_time": "2024-02-03T23:02:37.485050",
     "exception": false,
     "start_time": "2024-02-03T23:02:37.381463",
     "status": "completed"
    },
    "tags": []
   },
   "outputs": [
    {
     "data": {
      "text/html": [
       "<div>\n",
       "<style scoped>\n",
       "    .dataframe tbody tr th:only-of-type {\n",
       "        vertical-align: middle;\n",
       "    }\n",
       "\n",
       "    .dataframe tbody tr th {\n",
       "        vertical-align: top;\n",
       "    }\n",
       "\n",
       "    .dataframe thead th {\n",
       "        text-align: right;\n",
       "    }\n",
       "</style>\n",
       "<table border=\"1\" class=\"dataframe\">\n",
       "  <thead>\n",
       "    <tr style=\"text-align: right;\">\n",
       "      <th></th>\n",
       "      <th>HomePlanet</th>\n",
       "      <th>CryoSleep</th>\n",
       "      <th>Destination</th>\n",
       "      <th>Age</th>\n",
       "      <th>VIP</th>\n",
       "      <th>RoomService</th>\n",
       "      <th>FoodCourt</th>\n",
       "      <th>ShoppingMall</th>\n",
       "      <th>Spa</th>\n",
       "      <th>VRDeck</th>\n",
       "      <th>...</th>\n",
       "      <th>Group</th>\n",
       "      <th>Deck</th>\n",
       "      <th>CabinNumber</th>\n",
       "      <th>Side</th>\n",
       "      <th>LastName</th>\n",
       "      <th>N_family_members</th>\n",
       "      <th>N_group_members</th>\n",
       "      <th>Regular</th>\n",
       "      <th>Luxury</th>\n",
       "      <th>TotalSpendings</th>\n",
       "    </tr>\n",
       "    <tr>\n",
       "      <th>PassengerId</th>\n",
       "      <th></th>\n",
       "      <th></th>\n",
       "      <th></th>\n",
       "      <th></th>\n",
       "      <th></th>\n",
       "      <th></th>\n",
       "      <th></th>\n",
       "      <th></th>\n",
       "      <th></th>\n",
       "      <th></th>\n",
       "      <th></th>\n",
       "      <th></th>\n",
       "      <th></th>\n",
       "      <th></th>\n",
       "      <th></th>\n",
       "      <th></th>\n",
       "      <th></th>\n",
       "      <th></th>\n",
       "      <th></th>\n",
       "      <th></th>\n",
       "      <th></th>\n",
       "    </tr>\n",
       "  </thead>\n",
       "  <tbody>\n",
       "    <tr>\n",
       "      <th>0001_01</th>\n",
       "      <td>Europa</td>\n",
       "      <td>False</td>\n",
       "      <td>TRAPPIST-1e</td>\n",
       "      <td>39.0</td>\n",
       "      <td>False</td>\n",
       "      <td>0.0</td>\n",
       "      <td>0.0</td>\n",
       "      <td>0.0</td>\n",
       "      <td>0.0</td>\n",
       "      <td>0.0</td>\n",
       "      <td>...</td>\n",
       "      <td>0001</td>\n",
       "      <td>B</td>\n",
       "      <td>0</td>\n",
       "      <td>P</td>\n",
       "      <td>Ofracculy</td>\n",
       "      <td>1.0</td>\n",
       "      <td>1</td>\n",
       "      <td>0.0</td>\n",
       "      <td>0.0</td>\n",
       "      <td>0.0</td>\n",
       "    </tr>\n",
       "    <tr>\n",
       "      <th>0002_01</th>\n",
       "      <td>Earth</td>\n",
       "      <td>False</td>\n",
       "      <td>TRAPPIST-1e</td>\n",
       "      <td>24.0</td>\n",
       "      <td>False</td>\n",
       "      <td>109.0</td>\n",
       "      <td>9.0</td>\n",
       "      <td>25.0</td>\n",
       "      <td>549.0</td>\n",
       "      <td>44.0</td>\n",
       "      <td>...</td>\n",
       "      <td>0002</td>\n",
       "      <td>F</td>\n",
       "      <td>0</td>\n",
       "      <td>S</td>\n",
       "      <td>Vines</td>\n",
       "      <td>4.0</td>\n",
       "      <td>1</td>\n",
       "      <td>34.0</td>\n",
       "      <td>702.0</td>\n",
       "      <td>736.0</td>\n",
       "    </tr>\n",
       "    <tr>\n",
       "      <th>0003_01</th>\n",
       "      <td>Europa</td>\n",
       "      <td>False</td>\n",
       "      <td>TRAPPIST-1e</td>\n",
       "      <td>58.0</td>\n",
       "      <td>True</td>\n",
       "      <td>43.0</td>\n",
       "      <td>3576.0</td>\n",
       "      <td>0.0</td>\n",
       "      <td>6715.0</td>\n",
       "      <td>49.0</td>\n",
       "      <td>...</td>\n",
       "      <td>0003</td>\n",
       "      <td>A</td>\n",
       "      <td>0</td>\n",
       "      <td>S</td>\n",
       "      <td>Susent</td>\n",
       "      <td>6.0</td>\n",
       "      <td>2</td>\n",
       "      <td>3576.0</td>\n",
       "      <td>6807.0</td>\n",
       "      <td>10383.0</td>\n",
       "    </tr>\n",
       "    <tr>\n",
       "      <th>0003_02</th>\n",
       "      <td>Europa</td>\n",
       "      <td>False</td>\n",
       "      <td>TRAPPIST-1e</td>\n",
       "      <td>33.0</td>\n",
       "      <td>False</td>\n",
       "      <td>0.0</td>\n",
       "      <td>1283.0</td>\n",
       "      <td>371.0</td>\n",
       "      <td>3329.0</td>\n",
       "      <td>193.0</td>\n",
       "      <td>...</td>\n",
       "      <td>0003</td>\n",
       "      <td>A</td>\n",
       "      <td>0</td>\n",
       "      <td>S</td>\n",
       "      <td>Susent</td>\n",
       "      <td>6.0</td>\n",
       "      <td>2</td>\n",
       "      <td>1654.0</td>\n",
       "      <td>3522.0</td>\n",
       "      <td>5176.0</td>\n",
       "    </tr>\n",
       "    <tr>\n",
       "      <th>0004_01</th>\n",
       "      <td>Earth</td>\n",
       "      <td>False</td>\n",
       "      <td>TRAPPIST-1e</td>\n",
       "      <td>16.0</td>\n",
       "      <td>False</td>\n",
       "      <td>303.0</td>\n",
       "      <td>70.0</td>\n",
       "      <td>151.0</td>\n",
       "      <td>565.0</td>\n",
       "      <td>2.0</td>\n",
       "      <td>...</td>\n",
       "      <td>0004</td>\n",
       "      <td>F</td>\n",
       "      <td>1</td>\n",
       "      <td>S</td>\n",
       "      <td>Santantines</td>\n",
       "      <td>6.0</td>\n",
       "      <td>1</td>\n",
       "      <td>221.0</td>\n",
       "      <td>870.0</td>\n",
       "      <td>1091.0</td>\n",
       "    </tr>\n",
       "    <tr>\n",
       "      <th>...</th>\n",
       "      <td>...</td>\n",
       "      <td>...</td>\n",
       "      <td>...</td>\n",
       "      <td>...</td>\n",
       "      <td>...</td>\n",
       "      <td>...</td>\n",
       "      <td>...</td>\n",
       "      <td>...</td>\n",
       "      <td>...</td>\n",
       "      <td>...</td>\n",
       "      <td>...</td>\n",
       "      <td>...</td>\n",
       "      <td>...</td>\n",
       "      <td>...</td>\n",
       "      <td>...</td>\n",
       "      <td>...</td>\n",
       "      <td>...</td>\n",
       "      <td>...</td>\n",
       "      <td>...</td>\n",
       "      <td>...</td>\n",
       "      <td>...</td>\n",
       "    </tr>\n",
       "    <tr>\n",
       "      <th>9276_01</th>\n",
       "      <td>Europa</td>\n",
       "      <td>False</td>\n",
       "      <td>55 Cancri e</td>\n",
       "      <td>41.0</td>\n",
       "      <td>True</td>\n",
       "      <td>0.0</td>\n",
       "      <td>6819.0</td>\n",
       "      <td>0.0</td>\n",
       "      <td>1643.0</td>\n",
       "      <td>74.0</td>\n",
       "      <td>...</td>\n",
       "      <td>9276</td>\n",
       "      <td>A</td>\n",
       "      <td>98</td>\n",
       "      <td>P</td>\n",
       "      <td>Noxnuther</td>\n",
       "      <td>3.0</td>\n",
       "      <td>1</td>\n",
       "      <td>6819.0</td>\n",
       "      <td>1717.0</td>\n",
       "      <td>8536.0</td>\n",
       "    </tr>\n",
       "    <tr>\n",
       "      <th>9278_01</th>\n",
       "      <td>Earth</td>\n",
       "      <td>True</td>\n",
       "      <td>PSO J318.5-22</td>\n",
       "      <td>18.0</td>\n",
       "      <td>False</td>\n",
       "      <td>0.0</td>\n",
       "      <td>0.0</td>\n",
       "      <td>0.0</td>\n",
       "      <td>0.0</td>\n",
       "      <td>0.0</td>\n",
       "      <td>...</td>\n",
       "      <td>9278</td>\n",
       "      <td>G</td>\n",
       "      <td>1499</td>\n",
       "      <td>S</td>\n",
       "      <td>Mondalley</td>\n",
       "      <td>2.0</td>\n",
       "      <td>1</td>\n",
       "      <td>0.0</td>\n",
       "      <td>0.0</td>\n",
       "      <td>0.0</td>\n",
       "    </tr>\n",
       "    <tr>\n",
       "      <th>9279_01</th>\n",
       "      <td>Earth</td>\n",
       "      <td>False</td>\n",
       "      <td>TRAPPIST-1e</td>\n",
       "      <td>26.0</td>\n",
       "      <td>False</td>\n",
       "      <td>0.0</td>\n",
       "      <td>0.0</td>\n",
       "      <td>1872.0</td>\n",
       "      <td>1.0</td>\n",
       "      <td>0.0</td>\n",
       "      <td>...</td>\n",
       "      <td>9279</td>\n",
       "      <td>G</td>\n",
       "      <td>1500</td>\n",
       "      <td>S</td>\n",
       "      <td>Connon</td>\n",
       "      <td>6.0</td>\n",
       "      <td>1</td>\n",
       "      <td>1872.0</td>\n",
       "      <td>1.0</td>\n",
       "      <td>1873.0</td>\n",
       "    </tr>\n",
       "    <tr>\n",
       "      <th>9280_01</th>\n",
       "      <td>Europa</td>\n",
       "      <td>False</td>\n",
       "      <td>55 Cancri e</td>\n",
       "      <td>32.0</td>\n",
       "      <td>False</td>\n",
       "      <td>0.0</td>\n",
       "      <td>1049.0</td>\n",
       "      <td>0.0</td>\n",
       "      <td>353.0</td>\n",
       "      <td>3235.0</td>\n",
       "      <td>...</td>\n",
       "      <td>9280</td>\n",
       "      <td>E</td>\n",
       "      <td>608</td>\n",
       "      <td>S</td>\n",
       "      <td>Hontichre</td>\n",
       "      <td>6.0</td>\n",
       "      <td>2</td>\n",
       "      <td>1049.0</td>\n",
       "      <td>3588.0</td>\n",
       "      <td>4637.0</td>\n",
       "    </tr>\n",
       "    <tr>\n",
       "      <th>9280_02</th>\n",
       "      <td>Europa</td>\n",
       "      <td>False</td>\n",
       "      <td>TRAPPIST-1e</td>\n",
       "      <td>44.0</td>\n",
       "      <td>False</td>\n",
       "      <td>126.0</td>\n",
       "      <td>4688.0</td>\n",
       "      <td>0.0</td>\n",
       "      <td>0.0</td>\n",
       "      <td>12.0</td>\n",
       "      <td>...</td>\n",
       "      <td>9280</td>\n",
       "      <td>E</td>\n",
       "      <td>608</td>\n",
       "      <td>S</td>\n",
       "      <td>Hontichre</td>\n",
       "      <td>6.0</td>\n",
       "      <td>2</td>\n",
       "      <td>4688.0</td>\n",
       "      <td>138.0</td>\n",
       "      <td>4826.0</td>\n",
       "    </tr>\n",
       "  </tbody>\n",
       "</table>\n",
       "<p>8693 rows × 21 columns</p>\n",
       "</div>"
      ],
      "text/plain": [
       "            HomePlanet CryoSleep    Destination   Age    VIP  RoomService  \\\n",
       "PassengerId                                                                 \n",
       "0001_01         Europa     False    TRAPPIST-1e  39.0  False          0.0   \n",
       "0002_01          Earth     False    TRAPPIST-1e  24.0  False        109.0   \n",
       "0003_01         Europa     False    TRAPPIST-1e  58.0   True         43.0   \n",
       "0003_02         Europa     False    TRAPPIST-1e  33.0  False          0.0   \n",
       "0004_01          Earth     False    TRAPPIST-1e  16.0  False        303.0   \n",
       "...                ...       ...            ...   ...    ...          ...   \n",
       "9276_01         Europa     False    55 Cancri e  41.0   True          0.0   \n",
       "9278_01          Earth      True  PSO J318.5-22  18.0  False          0.0   \n",
       "9279_01          Earth     False    TRAPPIST-1e  26.0  False          0.0   \n",
       "9280_01         Europa     False    55 Cancri e  32.0  False          0.0   \n",
       "9280_02         Europa     False    TRAPPIST-1e  44.0  False        126.0   \n",
       "\n",
       "             FoodCourt  ShoppingMall     Spa  VRDeck  ...  Group Deck  \\\n",
       "PassengerId                                           ...               \n",
       "0001_01            0.0           0.0     0.0     0.0  ...   0001    B   \n",
       "0002_01            9.0          25.0   549.0    44.0  ...   0002    F   \n",
       "0003_01         3576.0           0.0  6715.0    49.0  ...   0003    A   \n",
       "0003_02         1283.0         371.0  3329.0   193.0  ...   0003    A   \n",
       "0004_01           70.0         151.0   565.0     2.0  ...   0004    F   \n",
       "...                ...           ...     ...     ...  ...    ...  ...   \n",
       "9276_01         6819.0           0.0  1643.0    74.0  ...   9276    A   \n",
       "9278_01            0.0           0.0     0.0     0.0  ...   9278    G   \n",
       "9279_01            0.0        1872.0     1.0     0.0  ...   9279    G   \n",
       "9280_01         1049.0           0.0   353.0  3235.0  ...   9280    E   \n",
       "9280_02         4688.0           0.0     0.0    12.0  ...   9280    E   \n",
       "\n",
       "            CabinNumber Side     LastName N_family_members  N_group_members  \\\n",
       "PassengerId                                                                   \n",
       "0001_01               0    P    Ofracculy              1.0                1   \n",
       "0002_01               0    S        Vines              4.0                1   \n",
       "0003_01               0    S       Susent              6.0                2   \n",
       "0003_02               0    S       Susent              6.0                2   \n",
       "0004_01               1    S  Santantines              6.0                1   \n",
       "...                 ...  ...          ...              ...              ...   \n",
       "9276_01              98    P    Noxnuther              3.0                1   \n",
       "9278_01            1499    S    Mondalley              2.0                1   \n",
       "9279_01            1500    S       Connon              6.0                1   \n",
       "9280_01             608    S    Hontichre              6.0                2   \n",
       "9280_02             608    S    Hontichre              6.0                2   \n",
       "\n",
       "             Regular  Luxury  TotalSpendings  \n",
       "PassengerId                                   \n",
       "0001_01          0.0     0.0             0.0  \n",
       "0002_01         34.0   702.0           736.0  \n",
       "0003_01       3576.0  6807.0         10383.0  \n",
       "0003_02       1654.0  3522.0          5176.0  \n",
       "0004_01        221.0   870.0          1091.0  \n",
       "...              ...     ...             ...  \n",
       "9276_01       6819.0  1717.0          8536.0  \n",
       "9278_01          0.0     0.0             0.0  \n",
       "9279_01       1872.0     1.0          1873.0  \n",
       "9280_01       1049.0  3588.0          4637.0  \n",
       "9280_02       4688.0   138.0          4826.0  \n",
       "\n",
       "[8693 rows x 21 columns]"
      ]
     },
     "execution_count": 35,
     "metadata": {},
     "output_type": "execute_result"
    }
   ],
   "source": [
    "df = df.drop(['Cabin', 'Name'],axis=1)\n",
    "df"
   ]
  },
  {
   "cell_type": "code",
   "execution_count": 36,
   "id": "1744b2a4",
   "metadata": {
    "_cell_guid": "bbd3556a-5bcd-4be4-9413-4de0c3f16231",
    "_uuid": "f90972d5-ab4e-40d1-93e6-f54083b58b51",
    "collapsed": false,
    "jupyter": {
     "outputs_hidden": false
    },
    "papermill": {
     "duration": 0.053134,
     "end_time": "2024-02-03T23:02:37.577965",
     "exception": false,
     "start_time": "2024-02-03T23:02:37.524831",
     "status": "completed"
    },
    "tags": []
   },
   "outputs": [
    {
     "data": {
      "text/plain": [
       "HomePlanet           object\n",
       "CryoSleep            object\n",
       "Destination          object\n",
       "Age                 float64\n",
       "VIP                  object\n",
       "RoomService         float64\n",
       "FoodCourt           float64\n",
       "ShoppingMall        float64\n",
       "Spa                 float64\n",
       "VRDeck              float64\n",
       "Transported            bool\n",
       "Group                object\n",
       "Deck                 object\n",
       "CabinNumber          object\n",
       "Side                 object\n",
       "LastName             object\n",
       "N_family_members    float64\n",
       "N_group_members       int64\n",
       "Regular             float64\n",
       "Luxury              float64\n",
       "TotalSpendings      float64\n",
       "dtype: object"
      ]
     },
     "execution_count": 36,
     "metadata": {},
     "output_type": "execute_result"
    }
   ],
   "source": [
    "df.dtypes"
   ]
  },
  {
   "cell_type": "markdown",
   "id": "53a95b04",
   "metadata": {
    "_cell_guid": "df43b12f-3aa7-49eb-ac2d-8ca1b2193527",
    "_uuid": "ebef86ed-8ad7-4d3b-bacb-925e81712f8c",
    "papermill": {
     "duration": 0.038875,
     "end_time": "2024-02-03T23:02:37.656382",
     "exception": false,
     "start_time": "2024-02-03T23:02:37.617507",
     "status": "completed"
    },
    "tags": []
   },
   "source": [
    "We have many object types in our dataframe. We need to convert these values.  \n",
    "Let's start by converting the cabin number."
   ]
  },
  {
   "cell_type": "code",
   "execution_count": 37,
   "id": "3b97aa5e",
   "metadata": {
    "_cell_guid": "4261b15a-2b29-4e31-8eb6-f380027238bf",
    "_uuid": "7c3f8126-7d67-4f17-872e-a7d6ff1b456f",
    "papermill": {
     "duration": 0.055414,
     "end_time": "2024-02-03T23:02:37.751586",
     "exception": false,
     "start_time": "2024-02-03T23:02:37.696172",
     "status": "completed"
    },
    "tags": []
   },
   "outputs": [
    {
     "data": {
      "text/plain": [
       "PassengerId\n",
       "0001_01       0\n",
       "0002_01       0\n",
       "0003_01       0\n",
       "0003_02       0\n",
       "0004_01       1\n",
       "           ... \n",
       "9276_01      98\n",
       "9278_01    1499\n",
       "9279_01    1500\n",
       "9280_01     608\n",
       "9280_02     608\n",
       "Name: CabinNumber, Length: 8693, dtype: object"
      ]
     },
     "execution_count": 37,
     "metadata": {},
     "output_type": "execute_result"
    }
   ],
   "source": [
    "df['CabinNumber'] = df['CabinNumber'].astype(int, errors='ignore')\n",
    "df['CabinNumber']"
   ]
  },
  {
   "cell_type": "markdown",
   "id": "eb88b7f6",
   "metadata": {
    "_cell_guid": "3c16127c-897b-4900-982b-cd0b33a0bc7e",
    "_uuid": "d5e3d835-db0e-4dd9-b586-8c239590a7ff",
    "jp-MarkdownHeadingCollapsed": true,
    "papermill": {
     "duration": 0.03882,
     "end_time": "2024-02-03T23:02:37.830208",
     "exception": false,
     "start_time": "2024-02-03T23:02:37.791388",
     "status": "completed"
    },
    "tags": []
   },
   "source": [
    "# Feature selection"
   ]
  },
  {
   "cell_type": "markdown",
   "id": "449e6060",
   "metadata": {
    "_cell_guid": "8b29d3be-c00b-468c-ac1d-16f49199f1ad",
    "_uuid": "b8714a38-3922-4d6d-9d89-56c528bc38bf",
    "papermill": {
     "duration": 0.039556,
     "end_time": "2024-02-03T23:02:37.909802",
     "exception": false,
     "start_time": "2024-02-03T23:02:37.870246",
     "status": "completed"
    },
    "tags": []
   },
   "source": [
    "When we visualized the data. We saw some variables had the same distribution for the same output. So they would not influence the output."
   ]
  },
  {
   "cell_type": "markdown",
   "id": "6da7437f",
   "metadata": {
    "papermill": {
     "duration": 0.038921,
     "end_time": "2024-02-03T23:02:37.988713",
     "exception": false,
     "start_time": "2024-02-03T23:02:37.949792",
     "status": "completed"
    },
    "tags": []
   },
   "source": [
    "Let's observe the difference of the data distributions between luxury/regular vs services"
   ]
  },
  {
   "cell_type": "code",
   "execution_count": 38,
   "id": "782dbad1",
   "metadata": {
    "papermill": {
     "duration": 0.050281,
     "end_time": "2024-02-03T23:02:38.077996",
     "exception": false,
     "start_time": "2024-02-03T23:02:38.027715",
     "status": "completed"
    },
    "tags": []
   },
   "outputs": [
    {
     "data": {
      "text/plain": [
       "Index(['HomePlanet', 'CryoSleep', 'Destination', 'Age', 'VIP', 'RoomService',\n",
       "       'FoodCourt', 'ShoppingMall', 'Spa', 'VRDeck', 'Transported', 'Group',\n",
       "       'Deck', 'CabinNumber', 'Side', 'LastName', 'N_family_members',\n",
       "       'N_group_members', 'Regular', 'Luxury', 'TotalSpendings'],\n",
       "      dtype='object')"
      ]
     },
     "execution_count": 38,
     "metadata": {},
     "output_type": "execute_result"
    }
   ],
   "source": [
    "df.columns"
   ]
  },
  {
   "cell_type": "code",
   "execution_count": 39,
   "id": "21a237a5",
   "metadata": {
    "papermill": {
     "duration": 1.654944,
     "end_time": "2024-02-03T23:02:39.771945",
     "exception": false,
     "start_time": "2024-02-03T23:02:38.117001",
     "status": "completed"
    },
    "tags": []
   },
   "outputs": [
    {
     "data": {
      "image/png": "[encoded data removed]",
      "text/plain": [
       "<Figure size 1000x700 with 4 Axes>"
      ]
     },
     "metadata": {},
     "output_type": "display_data"
    }
   ],
   "source": [
    "fig, axs = plt.subplots(2,2, figsize=(10,7))\n",
    "sns.histplot(data=df[['Luxury','Transported']].dropna(axis=0), x='Luxury', hue='Transported', bins=30, ax=axs[0][0])\n",
    "sns.histplot(data=df[['Regular','Transported']].dropna(axis=0), x='Regular', hue='Transported', bins=30, ax=axs[0][1])\n",
    "sns.histplot(data=df[['Spa','Transported']].dropna(axis=0), x='Spa', hue='Transported', bins=30, ax=axs[1][0])\n",
    "sns.histplot(data=df[['FoodCourt','Transported']].dropna(axis=0), x='FoodCourt', hue='Transported', bins=30, ax=axs[1][1])\n",
    "plt.show()"
   ]
  },
  {
   "cell_type": "markdown",
   "id": "27ae3468",
   "metadata": {
    "papermill": {
     "duration": 0.041293,
     "end_time": "2024-02-03T23:02:39.853544",
     "exception": false,
     "start_time": "2024-02-03T23:02:39.812251",
     "status": "completed"
    },
    "tags": []
   },
   "source": [
    "The differences are more showing when comparing Luxury/Regular spendings vs service by service. As they're combinations of the same data, we can drop the services columns and keep the Luxury/Regular ones."
   ]
  },
  {
   "cell_type": "code",
   "execution_count": 40,
   "id": "f9b227fd",
   "metadata": {
    "papermill": {
     "duration": 0.053478,
     "end_time": "2024-02-03T23:02:39.947666",
     "exception": false,
     "start_time": "2024-02-03T23:02:39.894188",
     "status": "completed"
    },
    "tags": []
   },
   "outputs": [],
   "source": [
    "df = df.drop([\"RoomService\", \"FoodCourt\", \"ShoppingMall\", \"Spa\", \"VRDeck\"], axis=1)"
   ]
  },
  {
   "cell_type": "code",
   "execution_count": 41,
   "id": "1dc97fb2-51b2-4635-a1fb-93171e2490df",
   "metadata": {},
   "outputs": [
    {
     "data": {
      "text/plain": [
       "Index(['HomePlanet', 'CryoSleep', 'Destination', 'Age', 'VIP', 'Transported',\n",
       "       'Group', 'Deck', 'CabinNumber', 'Side', 'LastName', 'N_family_members',\n",
       "       'N_group_members', 'Regular', 'Luxury', 'TotalSpendings'],\n",
       "      dtype='object')"
      ]
     },
     "execution_count": 41,
     "metadata": {},
     "output_type": "execute_result"
    }
   ],
   "source": [
    "df.columns"
   ]
  },
  {
   "cell_type": "markdown",
   "id": "295c5ea5",
   "metadata": {
    "_cell_guid": "bfc3b91c-dafb-4cc9-8b7a-7095b30b9071",
    "_uuid": "2962c4a4-2065-4c4b-ba5e-44b5f4c308e9",
    "jp-MarkdownHeadingCollapsed": true,
    "papermill": {
     "duration": 0.040621,
     "end_time": "2024-02-03T23:02:40.028837",
     "exception": false,
     "start_time": "2024-02-03T23:02:39.988216",
     "status": "completed"
    },
    "tags": []
   },
   "source": [
    "# Encoding feature values"
   ]
  },
  {
   "cell_type": "markdown",
   "id": "87eec188",
   "metadata": {
    "_cell_guid": "a910771d-0630-45f0-b41d-be9ad4f2cea8",
    "_uuid": "b689f328-9f5a-4ae6-a848-405c0aa399d6",
    "papermill": {
     "duration": 0.040394,
     "end_time": "2024-02-03T23:02:40.110042",
     "exception": false,
     "start_time": "2024-02-03T23:02:40.069648",
     "status": "completed"
    },
    "tags": []
   },
   "source": [
    "We will now encode the string values to numerical values, using :\n",
    "- the LabelEncoder for the label (Transported column)\n",
    "- the OrdinalEncoder for non numerical values\n",
    "  \n",
    "OrdinalEncoder is usually used with data that can be ordered. In my case, because I want to use a RandomForest, I figured I can allow myself to use OrdinalEncoder for every categorical feature."
   ]
  },
  {
   "cell_type": "code",
   "execution_count": 42,
   "id": "ea69a61c",
   "metadata": {
    "_cell_guid": "f90d22b8-a08a-46c1-89d3-0bed1f759d54",
    "_uuid": "68b83b0b-9ae0-4c3a-ba7e-abd5313963aa",
    "collapsed": false,
    "jupyter": {
     "outputs_hidden": false
    },
    "papermill": {
     "duration": 0.050287,
     "end_time": "2024-02-03T23:02:40.201725",
     "exception": false,
     "start_time": "2024-02-03T23:02:40.151438",
     "status": "completed"
    },
    "tags": []
   },
   "outputs": [],
   "source": [
    "label_enc = LabelEncoder()\n",
    "ord_enc = OrdinalEncoder()\n",
    "oh_enc = OneHotEncoder(drop='first', sparse_output=False)"
   ]
  },
  {
   "cell_type": "markdown",
   "id": "e0d20f12",
   "metadata": {
    "_cell_guid": "08656d28-2ccf-48d3-89a2-2f210b9ac925",
    "_uuid": "254fb1bb-91b1-43c8-beb1-40b7ba734e94",
    "papermill": {
     "duration": 0.040174,
     "end_time": "2024-02-03T23:02:40.285055",
     "exception": false,
     "start_time": "2024-02-03T23:02:40.244881",
     "status": "completed"
    },
    "tags": []
   },
   "source": [
    "LabelEncoder encodes Nan values. However we need to keep them, in order to test them at the end. So we'll add an other category that will encode nan as well."
   ]
  },
  {
   "cell_type": "code",
   "execution_count": 43,
   "id": "629fbab7",
   "metadata": {
    "_cell_guid": "332b9870-bfc3-495d-96e7-c11daf19f21d",
    "_uuid": "1fd8531a-555b-4eca-a404-b518a4a1cbce",
    "collapsed": false,
    "jupyter": {
     "outputs_hidden": false
    },
    "papermill": {
     "duration": 0.056337,
     "end_time": "2024-02-03T23:02:40.382194",
     "exception": false,
     "start_time": "2024-02-03T23:02:40.325857",
     "status": "completed"
    },
    "tags": []
   },
   "outputs": [
    {
     "data": {
      "text/html": [
       "<style>#sk-container-id-1 {\n",
       "  /* Definition of color scheme common for light and dark mode */\n",
       "  --sklearn-color-text: black;\n",
       "  --sklearn-color-line: gray;\n",
       "  /* Definition of color scheme for unfitted estimators */\n",
       "  --sklearn-color-unfitted-level-0: #fff5e6;\n",
       "  --sklearn-color-unfitted-level-1: #f6e4d2;\n",
       "  --sklearn-color-unfitted-level-2: #ffe0b3;\n",
       "  --sklearn-color-unfitted-level-3: chocolate;\n",
       "  /* Definition of color scheme for fitted estimators */\n",
       "  --sklearn-color-fitted-level-0: #f0f8ff;\n",
       "  --sklearn-color-fitted-level-1: #d4ebff;\n",
       "  --sklearn-color-fitted-level-2: #b3dbfd;\n",
       "  --sklearn-color-fitted-level-3: cornflowerblue;\n",
       "\n",
       "  /* Specific color for light theme */\n",
       "  --sklearn-color-text-on-default-background: var(--sg-text-color, var(--theme-code-foreground, var(--jp-content-font-color1, black)));\n",
       "  --sklearn-color-background: var(--sg-background-color, var(--theme-background, var(--jp-layout-color0, white)));\n",
       "  --sklearn-color-border-box: var(--sg-text-color, var(--theme-code-foreground, var(--jp-content-font-color1, black)));\n",
       "  --sklearn-color-icon: #696969;\n",
       "\n",
       "  @media (prefers-color-scheme: dark) {\n",
       "    /* Redefinition of color scheme for dark theme */\n",
       "    --sklearn-color-text-on-default-background: var(--sg-text-color, var(--theme-code-foreground, var(--jp-content-font-color1, white)));\n",
       "    --sklearn-color-background: var(--sg-background-color, var(--theme-background, var(--jp-layout-color0, #111)));\n",
       "    --sklearn-color-border-box: var(--sg-text-color, var(--theme-code-foreground, var(--jp-content-font-color1, white)));\n",
       "    --sklearn-color-icon: #878787;\n",
       "  }\n",
       "}\n",
       "\n",
       "#sk-container-id-1 {\n",
       "  color: var(--sklearn-color-text);\n",
       "}\n",
       "\n",
       "#sk-container-id-1 pre {\n",
       "  padding: 0;\n",
       "}\n",
       "\n",
       "#sk-container-id-1 input.sk-hidden--visually {\n",
       "  border: 0;\n",
       "  clip: rect(1px 1px 1px 1px);\n",
       "  clip: rect(1px, 1px, 1px, 1px);\n",
       "  height: 1px;\n",
       "  margin: -1px;\n",
       "  overflow: hidden;\n",
       "  padding: 0;\n",
       "  position: absolute;\n",
       "  width: 1px;\n",
       "}\n",
       "\n",
       "#sk-container-id-1 div.sk-dashed-wrapped {\n",
       "  border: 1px dashed var(--sklearn-color-line);\n",
       "  margin: 0 0.4em 0.5em 0.4em;\n",
       "  box-sizing: border-box;\n",
       "  padding-bottom: 0.4em;\n",
       "  background-color: var(--sklearn-color-background);\n",
       "}\n",
       "\n",
       "#sk-container-id-1 div.sk-container {\n",
       "  /* jupyter's `normalize.less` sets `[hidden] { display: none; }`\n",
       "     but bootstrap.min.css set `[hidden] { display: none !important; }`\n",
       "     so we also need the `!important` here to be able to override the\n",
       "     default hidden behavior on the sphinx rendered scikit-learn.org.\n",
       "     See: https://github.com/scikit-learn/scikit-learn/issues/21755 */\n",
       "  display: inline-block !important;\n",
       "  position: relative;\n",
       "}\n",
       "\n",
       "#sk-container-id-1 div.sk-text-repr-fallback {\n",
       "  display: none;\n",
       "}\n",
       "\n",
       "div.sk-parallel-item,\n",
       "div.sk-serial,\n",
       "div.sk-item {\n",
       "  /* draw centered vertical line to link estimators */\n",
       "  background-image: linear-gradient(var(--sklearn-color-text-on-default-background), var(--sklearn-color-text-on-default-background));\n",
       "  background-size: 2px 100%;\n",
       "  background-repeat: no-repeat;\n",
       "  background-position: center center;\n",
       "}\n",
       "\n",
       "/* Parallel-specific style estimator block */\n",
       "\n",
       "#sk-container-id-1 div.sk-parallel-item::after {\n",
       "  content: \"\";\n",
       "  width: 100%;\n",
       "  border-bottom: 2px solid var(--sklearn-color-text-on-default-background);\n",
       "  flex-grow: 1;\n",
       "}\n",
       "\n",
       "#sk-container-id-1 div.sk-parallel {\n",
       "  display: flex;\n",
       "  align-items: stretch;\n",
       "  justify-content: center;\n",
       "  background-color: var(--sklearn-color-background);\n",
       "  position: relative;\n",
       "}\n",
       "\n",
       "#sk-container-id-1 div.sk-parallel-item {\n",
       "  display: flex;\n",
       "  flex-direction: column;\n",
       "}\n",
       "\n",
       "#sk-container-id-1 div.sk-parallel-item:first-child::after {\n",
       "  align-self: flex-end;\n",
       "  width: 50%;\n",
       "}\n",
       "\n",
       "#sk-container-id-1 div.sk-parallel-item:last-child::after {\n",
       "  align-self: flex-start;\n",
       "  width: 50%;\n",
       "}\n",
       "\n",
       "#sk-container-id-1 div.sk-parallel-item:only-child::after {\n",
       "  width: 0;\n",
       "}\n",
       "\n",
       "/* Serial-specific style estimator block */\n",
       "\n",
       "#sk-container-id-1 div.sk-serial {\n",
       "  display: flex;\n",
       "  flex-direction: column;\n",
       "  align-items: center;\n",
       "  background-color: var(--sklearn-color-background);\n",
       "  padding-right: 1em;\n",
       "  padding-left: 1em;\n",
       "}\n",
       "\n",
       "\n",
       "/* Toggleable style: style used for estimator/Pipeline/ColumnTransformer box that is\n",
       "clickable and can be expanded/collapsed.\n",
       "- Pipeline and ColumnTransformer use this feature and define the default style\n",
       "- Estimators will overwrite some part of the style using the `sk-estimator` class\n",
       "*/\n",
       "\n",
       "/* Pipeline and ColumnTransformer style (default) */\n",
       "\n",
       "#sk-container-id-1 div.sk-toggleable {\n",
       "  /* Default theme specific background. It is overwritten whether we have a\n",
       "  specific estimator or a Pipeline/ColumnTransformer */\n",
       "  background-color: var(--sklearn-color-background);\n",
       "}\n",
       "\n",
       "/* Toggleable label */\n",
       "#sk-container-id-1 label.sk-toggleable__label {\n",
       "  cursor: pointer;\n",
       "  display: block;\n",
       "  width: 100%;\n",
       "  margin-bottom: 0;\n",
       "  padding: 0.5em;\n",
       "  box-sizing: border-box;\n",
       "  text-align: center;\n",
       "}\n",
       "\n",
       "#sk-container-id-1 label.sk-toggleable__label-arrow:before {\n",
       "  /* Arrow on the left of the label */\n",
       "  content: \"▸\";\n",
       "  float: left;\n",
       "  margin-right: 0.25em;\n",
       "  color: var(--sklearn-color-icon);\n",
       "}\n",
       "\n",
       "#sk-container-id-1 label.sk-toggleable__label-arrow:hover:before {\n",
       "  color: var(--sklearn-color-text);\n",
       "}\n",
       "\n",
       "/* Toggleable content - dropdown */\n",
       "\n",
       "#sk-container-id-1 div.sk-toggleable__content {\n",
       "  max-height: 0;\n",
       "  max-width: 0;\n",
       "  overflow: hidden;\n",
       "  text-align: left;\n",
       "  /* unfitted */\n",
       "  background-color: var(--sklearn-color-unfitted-level-0);\n",
       "}\n",
       "\n",
       "#sk-container-id-1 div.sk-toggleable__content.fitted {\n",
       "  /* fitted */\n",
       "  background-color: var(--sklearn-color-fitted-level-0);\n",
       "}\n",
       "\n",
       "#sk-container-id-1 div.sk-toggleable__content pre {\n",
       "  margin: 0.2em;\n",
       "  border-radius: 0.25em;\n",
       "  color: var(--sklearn-color-text);\n",
       "  /* unfitted */\n",
       "  background-color: var(--sklearn-color-unfitted-level-0);\n",
       "}\n",
       "\n",
       "#sk-container-id-1 div.sk-toggleable__content.fitted pre {\n",
       "  /* unfitted */\n",
       "  background-color: var(--sklearn-color-fitted-level-0);\n",
       "}\n",
       "\n",
       "#sk-container-id-1 input.sk-toggleable__control:checked~div.sk-toggleable__content {\n",
       "  /* Expand drop-down */\n",
       "  max-height: 200px;\n",
       "  max-width: 100%;\n",
       "  overflow: auto;\n",
       "}\n",
       "\n",
       "#sk-container-id-1 input.sk-toggleable__control:checked~label.sk-toggleable__label-arrow:before {\n",
       "  content: \"▾\";\n",
       "}\n",
       "\n",
       "/* Pipeline/ColumnTransformer-specific style */\n",
       "\n",
       "#sk-container-id-1 div.sk-label input.sk-toggleable__control:checked~label.sk-toggleable__label {\n",
       "  color: var(--sklearn-color-text);\n",
       "  background-color: var(--sklearn-color-unfitted-level-2);\n",
       "}\n",
       "\n",
       "#sk-container-id-1 div.sk-label.fitted input.sk-toggleable__control:checked~label.sk-toggleable__label {\n",
       "  background-color: var(--sklearn-color-fitted-level-2);\n",
       "}\n",
       "\n",
       "/* Estimator-specific style */\n",
       "\n",
       "/* Colorize estimator box */\n",
       "#sk-container-id-1 div.sk-estimator input.sk-toggleable__control:checked~label.sk-toggleable__label {\n",
       "  /* unfitted */\n",
       "  background-color: var(--sklearn-color-unfitted-level-2);\n",
       "}\n",
       "\n",
       "#sk-container-id-1 div.sk-estimator.fitted input.sk-toggleable__control:checked~label.sk-toggleable__label {\n",
       "  /* fitted */\n",
       "  background-color: var(--sklearn-color-fitted-level-2);\n",
       "}\n",
       "\n",
       "#sk-container-id-1 div.sk-label label.sk-toggleable__label,\n",
       "#sk-container-id-1 div.sk-label label {\n",
       "  /* The background is the default theme color */\n",
       "  color: var(--sklearn-color-text-on-default-background);\n",
       "}\n",
       "\n",
       "/* On hover, darken the color of the background */\n",
       "#sk-container-id-1 div.sk-label:hover label.sk-toggleable__label {\n",
       "  color: var(--sklearn-color-text);\n",
       "  background-color: var(--sklearn-color-unfitted-level-2);\n",
       "}\n",
       "\n",
       "/* Label box, darken color on hover, fitted */\n",
       "#sk-container-id-1 div.sk-label.fitted:hover label.sk-toggleable__label.fitted {\n",
       "  color: var(--sklearn-color-text);\n",
       "  background-color: var(--sklearn-color-fitted-level-2);\n",
       "}\n",
       "\n",
       "/* Estimator label */\n",
       "\n",
       "#sk-container-id-1 div.sk-label label {\n",
       "  font-family: monospace;\n",
       "  font-weight: bold;\n",
       "  display: inline-block;\n",
       "  line-height: 1.2em;\n",
       "}\n",
       "\n",
       "#sk-container-id-1 div.sk-label-container {\n",
       "  text-align: center;\n",
       "}\n",
       "\n",
       "/* Estimator-specific */\n",
       "#sk-container-id-1 div.sk-estimator {\n",
       "  font-family: monospace;\n",
       "  border: 1px dotted var(--sklearn-color-border-box);\n",
       "  border-radius: 0.25em;\n",
       "  box-sizing: border-box;\n",
       "  margin-bottom: 0.5em;\n",
       "  /* unfitted */\n",
       "  background-color: var(--sklearn-color-unfitted-level-0);\n",
       "}\n",
       "\n",
       "#sk-container-id-1 div.sk-estimator.fitted {\n",
       "  /* fitted */\n",
       "  background-color: var(--sklearn-color-fitted-level-0);\n",
       "}\n",
       "\n",
       "/* on hover */\n",
       "#sk-container-id-1 div.sk-estimator:hover {\n",
       "  /* unfitted */\n",
       "  background-color: var(--sklearn-color-unfitted-level-2);\n",
       "}\n",
       "\n",
       "#sk-container-id-1 div.sk-estimator.fitted:hover {\n",
       "  /* fitted */\n",
       "  background-color: var(--sklearn-color-fitted-level-2);\n",
       "}\n",
       "\n",
       "/* Specification for estimator info (e.g. \"i\" and \"?\") */\n",
       "\n",
       "/* Common style for \"i\" and \"?\" */\n",
       "\n",
       ".sk-estimator-doc-link,\n",
       "a:link.sk-estimator-doc-link,\n",
       "a:visited.sk-estimator-doc-link {\n",
       "  float: right;\n",
       "  font-size: smaller;\n",
       "  line-height: 1em;\n",
       "  font-family: monospace;\n",
       "  background-color: var(--sklearn-color-background);\n",
       "  border-radius: 1em;\n",
       "  height: 1em;\n",
       "  width: 1em;\n",
       "  text-decoration: none !important;\n",
       "  margin-left: 1ex;\n",
       "  /* unfitted */\n",
       "  border: var(--sklearn-color-unfitted-level-1) 1pt solid;\n",
       "  color: var(--sklearn-color-unfitted-level-1);\n",
       "}\n",
       "\n",
       ".sk-estimator-doc-link.fitted,\n",
       "a:link.sk-estimator-doc-link.fitted,\n",
       "a:visited.sk-estimator-doc-link.fitted {\n",
       "  /* fitted */\n",
       "  border: var(--sklearn-color-fitted-level-1) 1pt solid;\n",
       "  color: var(--sklearn-color-fitted-level-1);\n",
       "}\n",
       "\n",
       "/* On hover */\n",
       "div.sk-estimator:hover .sk-estimator-doc-link:hover,\n",
       ".sk-estimator-doc-link:hover,\n",
       "div.sk-label-container:hover .sk-estimator-doc-link:hover,\n",
       ".sk-estimator-doc-link:hover {\n",
       "  /* unfitted */\n",
       "  background-color: var(--sklearn-color-unfitted-level-3);\n",
       "  color: var(--sklearn-color-background);\n",
       "  text-decoration: none;\n",
       "}\n",
       "\n",
       "div.sk-estimator.fitted:hover .sk-estimator-doc-link.fitted:hover,\n",
       ".sk-estimator-doc-link.fitted:hover,\n",
       "div.sk-label-container:hover .sk-estimator-doc-link.fitted:hover,\n",
       ".sk-estimator-doc-link.fitted:hover {\n",
       "  /* fitted */\n",
       "  background-color: var(--sklearn-color-fitted-level-3);\n",
       "  color: var(--sklearn-color-background);\n",
       "  text-decoration: none;\n",
       "}\n",
       "\n",
       "/* Span, style for the box shown on hovering the info icon */\n",
       ".sk-estimator-doc-link span {\n",
       "  display: none;\n",
       "  z-index: 9999;\n",
       "  position: relative;\n",
       "  font-weight: normal;\n",
       "  right: .2ex;\n",
       "  padding: .5ex;\n",
       "  margin: .5ex;\n",
       "  width: min-content;\n",
       "  min-width: 20ex;\n",
       "  max-width: 50ex;\n",
       "  color: var(--sklearn-color-text);\n",
       "  box-shadow: 2pt 2pt 4pt #999;\n",
       "  /* unfitted */\n",
       "  background: var(--sklearn-color-unfitted-level-0);\n",
       "  border: .5pt solid var(--sklearn-color-unfitted-level-3);\n",
       "}\n",
       "\n",
       ".sk-estimator-doc-link.fitted span {\n",
       "  /* fitted */\n",
       "  background: var(--sklearn-color-fitted-level-0);\n",
       "  border: var(--sklearn-color-fitted-level-3);\n",
       "}\n",
       "\n",
       ".sk-estimator-doc-link:hover span {\n",
       "  display: block;\n",
       "}\n",
       "\n",
       "/* \"?\"-specific style due to the `<a>` HTML tag */\n",
       "\n",
       "#sk-container-id-1 a.estimator_doc_link {\n",
       "  float: right;\n",
       "  font-size: 1rem;\n",
       "  line-height: 1em;\n",
       "  font-family: monospace;\n",
       "  background-color: var(--sklearn-color-background);\n",
       "  border-radius: 1rem;\n",
       "  height: 1rem;\n",
       "  width: 1rem;\n",
       "  text-decoration: none;\n",
       "  /* unfitted */\n",
       "  color: var(--sklearn-color-unfitted-level-1);\n",
       "  border: var(--sklearn-color-unfitted-level-1) 1pt solid;\n",
       "}\n",
       "\n",
       "#sk-container-id-1 a.estimator_doc_link.fitted {\n",
       "  /* fitted */\n",
       "  border: var(--sklearn-color-fitted-level-1) 1pt solid;\n",
       "  color: var(--sklearn-color-fitted-level-1);\n",
       "}\n",
       "\n",
       "/* On hover */\n",
       "#sk-container-id-1 a.estimator_doc_link:hover {\n",
       "  /* unfitted */\n",
       "  background-color: var(--sklearn-color-unfitted-level-3);\n",
       "  color: var(--sklearn-color-background);\n",
       "  text-decoration: none;\n",
       "}\n",
       "\n",
       "#sk-container-id-1 a.estimator_doc_link.fitted:hover {\n",
       "  /* fitted */\n",
       "  background-color: var(--sklearn-color-fitted-level-3);\n",
       "}\n",
       "</style><div id=\"sk-container-id-1\" class=\"sk-top-container\"><div class=\"sk-text-repr-fallback\"><pre>LabelEncoder()</pre><b>In a Jupyter environment, please rerun this cell to show the HTML representation or trust the notebook. <br />On GitHub, the HTML representation is unable to render, please try loading this page with nbviewer.org.</b></div><div class=\"sk-container\" hidden><div class=\"sk-item\"><div class=\"sk-estimator fitted sk-toggleable\"><input class=\"sk-toggleable__control sk-hidden--visually\" id=\"sk-estimator-id-1\" type=\"checkbox\" checked><label for=\"sk-estimator-id-1\" class=\"sk-toggleable__label fitted sk-toggleable__label-arrow fitted\">&nbsp;&nbsp;LabelEncoder<a class=\"sk-estimator-doc-link fitted\" rel=\"noreferrer\" target=\"_blank\" href=\"https://scikit-learn.org/1.4/modules/generated/sklearn.preprocessing.LabelEncoder.html\">?<span>Documentation for LabelEncoder</span></a><span class=\"sk-estimator-doc-link fitted\">i<span>Fitted</span></span></label><div class=\"sk-toggleable__content fitted\"><pre>LabelEncoder()</pre></div> </div></div></div></div>"
      ],
      "text/plain": [
       "LabelEncoder()"
      ]
     },
     "execution_count": 43,
     "metadata": {},
     "output_type": "execute_result"
    }
   ],
   "source": [
    "label_enc.fit([True,False])"
   ]
  },
  {
   "cell_type": "code",
   "execution_count": 44,
   "id": "8c3df97c",
   "metadata": {
    "_cell_guid": "75d987fd-c28d-4283-a209-69b20202fa9e",
    "_uuid": "02b81e53-b176-4ca7-b866-0ffadc5fe321",
    "collapsed": false,
    "jupyter": {
     "outputs_hidden": false
    },
    "papermill": {
     "duration": 0.054441,
     "end_time": "2024-02-03T23:02:40.477753",
     "exception": false,
     "start_time": "2024-02-03T23:02:40.423312",
     "status": "completed"
    },
    "tags": []
   },
   "outputs": [
    {
     "data": {
      "text/plain": [
       "(array([False,  True]), array([0, 1]))"
      ]
     },
     "execution_count": 44,
     "metadata": {},
     "output_type": "execute_result"
    }
   ],
   "source": [
    "label_enc.classes_, label_enc.transform(label_enc.classes_)"
   ]
  },
  {
   "cell_type": "code",
   "execution_count": 45,
   "id": "facbac60",
   "metadata": {
    "_cell_guid": "eecea883-c34e-4afb-bc64-843ee26e05bd",
    "_uuid": "3f5a0ddc-be30-42ab-92eb-f31f30aa8d2e",
    "collapsed": false,
    "jupyter": {
     "outputs_hidden": false
    },
    "papermill": {
     "duration": 0.29356,
     "end_time": "2024-02-03T23:02:40.812965",
     "exception": false,
     "start_time": "2024-02-03T23:02:40.519405",
     "status": "completed"
    },
    "tags": []
   },
   "outputs": [
    {
     "data": {
      "text/plain": [
       "(8693, 0)"
      ]
     },
     "execution_count": 45,
     "metadata": {},
     "output_type": "execute_result"
    }
   ],
   "source": [
    "df = df.apply(lambda series: pd.Series(\n",
    "    LabelEncoder().fit_transform(series[series.notnull()]),\n",
    "    index=series[series.notnull()].index\n",
    "))\n",
    "df['Transported'].notna().sum(), df['Transported'].isna().sum()"
   ]
  },
  {
   "cell_type": "markdown",
   "id": "0ee51db2",
   "metadata": {
    "_cell_guid": "0ef87879-4a93-483f-9e91-cc347ca3a69b",
    "_uuid": "2624d8f8-606c-4a8b-b36d-e9ce38051e20",
    "papermill": {
     "duration": 0.04178,
     "end_time": "2024-02-03T23:02:40.896973",
     "exception": false,
     "start_time": "2024-02-03T23:02:40.855193",
     "status": "completed"
    },
    "tags": []
   },
   "source": [
    "Then we'll encode and transform with the ordinal encoder to encode the categorical values into numbers. Because I plan on making a Random Forest, I allow myself to use the ordinal encoder also for unordered values, as they'll just be grouped in each node and compared"
   ]
  },
  {
   "cell_type": "code",
   "execution_count": 46,
   "id": "49b4be9c",
   "metadata": {
    "_cell_guid": "ef1bc551-7b35-4082-b75d-675eacce479b",
    "_uuid": "f570faf6-df72-499b-9586-bd6eb0f5ebe2",
    "collapsed": false,
    "jupyter": {
     "outputs_hidden": false
    },
    "papermill": {
     "duration": 0.077534,
     "end_time": "2024-02-03T23:02:41.016406",
     "exception": false,
     "start_time": "2024-02-03T23:02:40.938872",
     "status": "completed"
    },
    "tags": []
   },
   "outputs": [],
   "source": [
    "df[['HomePlanet','CryoSleep','Destination','LastName','Deck','Side','VIP']] = ord_enc.fit_transform(df[['HomePlanet','CryoSleep','Destination','LastName','Deck','Side','VIP']])"
   ]
  },
  {
   "cell_type": "markdown",
   "id": "9f2af8c2",
   "metadata": {
    "_cell_guid": "8da33157-6e0e-43c6-b407-33d40d398cbd",
    "_uuid": "6918604e-06a5-44e4-b9cc-24611dddc188",
    "papermill": {
     "duration": 0.042686,
     "end_time": "2024-02-03T23:02:41.101211",
     "exception": false,
     "start_time": "2024-02-03T23:02:41.058525",
     "status": "completed"
    },
    "tags": []
   },
   "source": [
    "We finally split the dataframe back into the test and train sets."
   ]
  },
  {
   "cell_type": "markdown",
   "id": "c6182a42",
   "metadata": {
    "_cell_guid": "be40d3f9-8b98-4db0-a9f3-2385c2421cc7",
    "_uuid": "fe0663bd-43cd-4881-8e86-bc432e5756b0",
    "papermill": {
     "duration": 0.041449,
     "end_time": "2024-02-03T23:02:41.184474",
     "exception": false,
     "start_time": "2024-02-03T23:02:41.143025",
     "status": "completed"
    },
    "tags": []
   },
   "source": [
    "# Imputing NaN values"
   ]
  },
  {
   "cell_type": "code",
   "execution_count": 47,
   "id": "6bc0a949",
   "metadata": {
    "_cell_guid": "48e06113-c979-4194-b40f-6ab0caf9db91",
    "_uuid": "1b1c0e20-1e1a-4122-8f1d-4109fefce29e",
    "collapsed": false,
    "jupyter": {
     "outputs_hidden": false
    },
    "papermill": {
     "duration": 0.068809,
     "end_time": "2024-02-03T23:02:41.294756",
     "exception": false,
     "start_time": "2024-02-03T23:02:41.225947",
     "status": "completed"
    },
    "tags": []
   },
   "outputs": [
    {
     "data": {
      "text/plain": [
       "CryoSleep  TotalSpendings\n",
       "0.0        0                  557\n",
       "           403                 51\n",
       "           383                 38\n",
       "           398                 36\n",
       "           397                 34\n",
       "                             ... \n",
       "           2315                 1\n",
       "           2316                 1\n",
       "           2317                 1\n",
       "           2302                 1\n",
       "1.0        0                 3037\n",
       "Length: 2320, dtype: int64"
      ]
     },
     "execution_count": 47,
     "metadata": {},
     "output_type": "execute_result"
    }
   ],
   "source": [
    "df[['TotalSpendings','CryoSleep']].groupby('CryoSleep').value_counts()"
   ]
  },
  {
   "cell_type": "markdown",
   "id": "3c3e1d78",
   "metadata": {
    "_cell_guid": "45996d94-590f-41f2-a6b7-389a25647d57",
    "_uuid": "c50b95d3-13c7-4e81-99cb-376d8aab3b65",
    "papermill": {
     "duration": 0.043316,
     "end_time": "2024-02-03T23:02:41.379701",
     "exception": false,
     "start_time": "2024-02-03T23:02:41.336385",
     "status": "completed"
    },
    "tags": []
   },
   "source": [
    "People in CryoSleep couldn't spend money on the starship, so NaN values in the spendings columns will be 0"
   ]
  },
  {
   "cell_type": "code",
   "execution_count": 48,
   "id": "0ca953a8",
   "metadata": {
    "papermill": {
     "duration": 0.055084,
     "end_time": "2024-02-03T23:02:41.476693",
     "exception": false,
     "start_time": "2024-02-03T23:02:41.421609",
     "status": "completed"
    },
    "tags": []
   },
   "outputs": [
    {
     "data": {
      "text/plain": [
       "0"
      ]
     },
     "execution_count": 48,
     "metadata": {},
     "output_type": "execute_result"
    }
   ],
   "source": [
    "df[df['Age'] < 13]['TotalSpendings'].sum()"
   ]
  },
  {
   "cell_type": "markdown",
   "id": "d0aa0480",
   "metadata": {
    "_cell_guid": "6d9b95af-6c41-48de-b6eb-337292b7b3bc",
    "_uuid": "f0a25a07-87a5-4992-9993-7ba06e3c75bf",
    "papermill": {
     "duration": 0.041849,
     "end_time": "2024-02-03T23:02:41.560572",
     "exception": false,
     "start_time": "2024-02-03T23:02:41.518723",
     "status": "completed"
    },
    "tags": []
   },
   "source": [
    "Children couldn't spend money either, so it goes the same for them."
   ]
  },
  {
   "cell_type": "code",
   "execution_count": 49,
   "id": "0d6ea7f2",
   "metadata": {
    "_cell_guid": "0a789727-788f-4dbe-9d04-d2a0e52ee56d",
    "_uuid": "327b33f4-4b25-4826-9fa0-b568495acc4f",
    "collapsed": false,
    "jupyter": {
     "outputs_hidden": false
    },
    "papermill": {
     "duration": 0.068492,
     "end_time": "2024-02-03T23:02:41.671696",
     "exception": false,
     "start_time": "2024-02-03T23:02:41.603204",
     "status": "completed"
    },
    "tags": []
   },
   "outputs": [
    {
     "name": "stdout",
     "output_type": "stream",
     "text": [
      "Luxury            0.0\n",
      "TotalSpendings    0.0\n",
      "Regular           0.0\n",
      "dtype: float64\n",
      "Luxury            0.0\n",
      "TotalSpendings    0.0\n",
      "Regular           0.0\n",
      "dtype: float64\n"
     ]
    }
   ],
   "source": [
    "df[\"Luxury\"] = np.where((df[\"Age\"] < 13) | (df[\"CryoSleep\"] == True), 0.0, df[\"Luxury\"].astype(float))\n",
    "df[\"Regular\"] = np.where((df[\"Age\"] < 13) | (df[\"CryoSleep\"] == True), 0.0, df[\"Regular\"].astype(float))\n",
    "df[\"TotalSpendings\"] = np.where((df[\"Age\"] < 13) | (df[\"CryoSleep\"] == True), 0.0, df[\"TotalSpendings\"].astype(float))\n",
    "print(df[df['CryoSleep'] == True][['Luxury', 'TotalSpendings', 'Regular']].sum())\n",
    "print(df[df['Age'] < 13][['Luxury', 'TotalSpendings', 'Regular']].sum())"
   ]
  },
  {
   "cell_type": "markdown",
   "id": "81acc21c-1909-461e-8b17-ebdd2cd12811",
   "metadata": {},
   "source": [
    "We also saw that the majority of people didn't spend on Luxury and regular services. So the majority of NaNs should be low in Luxury low in Regular."
   ]
  },
  {
   "cell_type": "markdown",
   "id": "7e6c5a6a-4f44-4283-aa11-a79dd54cc806",
   "metadata": {},
   "source": [
    "We'll now take a look at the distributions of Luxury and Regular features : "
   ]
  },
  {
   "cell_type": "code",
   "execution_count": 50,
   "id": "fedd8d09-5d43-45dc-8700-b50a141e4814",
   "metadata": {},
   "outputs": [
    {
     "data": {
      "text/plain": [
       "[]"
      ]
     },
     "execution_count": 50,
     "metadata": {},
     "output_type": "execute_result"
    },
    {
     "data": {
      "image/png": "[encoded data removed]",
      "text/plain": [
       "<Figure size 1500x400 with 2 Axes>"
      ]
     },
     "metadata": {},
     "output_type": "display_data"
    }
   ],
   "source": [
    "fig, axs = plt.subplots(1, 2, figsize=(15,4))\n",
    "\n",
    "axs[0].hist(df[\"Luxury\"], bins=30)\n",
    "axs[0].axvline(df[\"Luxury\"].mean(), c=\"purple\")\n",
    "axs[0].axvline(df[\"Luxury\"].median(), c=\"red\")\n",
    "axs[0].axvline(df[\"Luxury\"].quantile(0.25), c=\"orange\")\n",
    "axs[0].axvline(df[\"Luxury\"].quantile(0.75), c=\"orange\")\n",
    "axs[0].set_title(\"Luxury\")\n",
    "\n",
    "axs[1].hist(df[\"Regular\"], bins=30)\n",
    "axs[1].axvline(df[\"Regular\"].mean(), c=\"purple\")\n",
    "axs[1].axvline(df[\"Regular\"].median(), c=\"red\")\n",
    "axs[1].axvline(df[\"Regular\"].quantile(0.25), c=\"orange\")\n",
    "axs[1].axvline(df[\"Regular\"].quantile(0.75), c=\"orange\")\n",
    "axs[1].set_title(\"Regular\")\n",
    "\n",
    "plt.plot()"
   ]
  },
  {
   "cell_type": "markdown",
   "id": "04caf9b6-c8f0-43a6-a10f-bbad54fb9e8e",
   "metadata": {},
   "source": [
    "The issue with these hists is that there is a majority of people in CryoSleep & children that couldn't spend any money. So we shouldn't take them into account."
   ]
  },
  {
   "cell_type": "code",
   "execution_count": 51,
   "id": "99856a3a-f990-4420-9883-f74372e017d3",
   "metadata": {},
   "outputs": [
    {
     "data": {
      "text/plain": [
       "[]"
      ]
     },
     "execution_count": 51,
     "metadata": {},
     "output_type": "execute_result"
    },
    {
     "data": {
      "image/png": "[encoded data removed]",
      "text/plain": [
       "<Figure size 1500x400 with 2 Axes>"
      ]
     },
     "metadata": {},
     "output_type": "display_data"
    }
   ],
   "source": [
    "df_money = df[df[\"CryoSleep\"] == False]\n",
    "df_money = df_money[df_money[\"Age\"] >= 13]\n",
    "\n",
    "fig, axs = plt.subplots(1, 2, figsize=(15,4))\n",
    "\n",
    "axs[0].hist(df_money[\"Luxury\"], bins=30)\n",
    "axs[0].axvline(df_money[\"Luxury\"].mean(), c=\"purple\")\n",
    "axs[0].axvline(df_money[\"Luxury\"].median(), c=\"red\")\n",
    "axs[0].axvline(df_money[\"Luxury\"].quantile(0.25), c=\"orange\")\n",
    "axs[0].axvline(df_money[\"Luxury\"].quantile(0.75), c=\"orange\")\n",
    "axs[0].set_title(\"Luxury\")\n",
    "\n",
    "axs[1].hist(df_money[\"Regular\"], bins=30)\n",
    "axs[1].axvline(df_money[\"Regular\"].mean(), c=\"purple\")\n",
    "axs[1].axvline(df_money[\"Regular\"].median(), c=\"red\")\n",
    "axs[1].axvline(df_money[\"Regular\"].quantile(0.25), c=\"orange\")\n",
    "axs[1].axvline(df_money[\"Regular\"].quantile(0.75), c=\"orange\")\n",
    "axs[1].set_title(\"Regular\")\n",
    "\n",
    "plt.plot()"
   ]
  },
  {
   "cell_type": "code",
   "execution_count": 52,
   "id": "538a8462-3608-46b3-ae02-4aabca1bd92f",
   "metadata": {},
   "outputs": [
    {
     "name": "stdout",
     "output_type": "stream",
     "text": [
      "Luxury spendings of adults mean is 793.763777825805 and median is 684.0\n",
      "Regular spendings mean of adults is 543.7213080168776 and regular median is 392.0\n"
     ]
    }
   ],
   "source": [
    "print(f'Luxury spendings of adults mean is {df_money[\"Luxury\"].mean()} and median is {df_money[\"Luxury\"].median()}')\n",
    "print(f'Regular spendings mean of adults is {df_money[\"Regular\"].mean()} and regular median is {df_money[\"Regular\"].median()}')"
   ]
  },
  {
   "cell_type": "markdown",
   "id": "229ce296-ad53-40fa-8d12-428a1faafc5c",
   "metadata": {},
   "source": [
    "Now we see the real distributions of customers on the ship. Let's now plot them according to their Transported status."
   ]
  },
  {
   "cell_type": "code",
   "execution_count": 53,
   "id": "b9102f1b-86cc-428c-b602-765fe472dc01",
   "metadata": {},
   "outputs": [
    {
     "data": {
      "text/plain": [
       "[]"
      ]
     },
     "execution_count": 53,
     "metadata": {},
     "output_type": "execute_result"
    },
    {
     "data": {
      "image/png": "[encoded data removed]",
      "text/plain": [
       "<Figure size 1500x500 with 2 Axes>"
      ]
     },
     "metadata": {},
     "output_type": "display_data"
    }
   ],
   "source": [
    "fig, axs = plt.subplots(1, 2, figsize=(15,5))\n",
    "sns.histplot(data=df_money, x=\"Luxury\", hue=\"Transported\", ax=axs[0], bins=30, palette=\"bright\")\n",
    "sns.histplot(data=df_money, x=\"Regular\", hue=\"Transported\", ax=axs[1], bins=30, palette=\"bright\")\n",
    "\n",
    "axs[0].axvline(df_money[\"Luxury\"].mean(), c=\"purple\")\n",
    "axs[0].axvline(df_money[\"Luxury\"].median(), c=\"red\")\n",
    "axs[0].set_title(\"Luxury\")\n",
    "\n",
    "axs[1].axvline(df_money[\"Regular\"].mean(), c=\"purple\")\n",
    "axs[1].axvline(df_money[\"Regular\"].median(), c=\"red\")\n",
    "axs[1].set_title(\"Regular\")\n",
    "\n",
    "plt.plot()"
   ]
  },
  {
   "cell_type": "markdown",
   "id": "a5f0066b-6efd-4a94-86a0-d1d52cd5a233",
   "metadata": {},
   "source": [
    "80 % of people spent less than 1800€ in luxury services and less than 1350 in regular services. So we should imput NaN values in these columns at these values.  \n",
    "So it is most likely that people with NaN values in these categories would have a Luxury value between 0 and 1800€ and a regular value between 0 and 1350€"
   ]
  },
  {
   "cell_type": "code",
   "execution_count": 54,
   "id": "3dc89763-afd9-4d9f-918a-d7b27e505f72",
   "metadata": {},
   "outputs": [
    {
     "data": {
      "image/png": "[encoded data removed]",
      "text/plain": [
       "<Figure size 1500x500 with 2 Axes>"
      ]
     },
     "metadata": {},
     "output_type": "display_data"
    }
   ],
   "source": [
    "fig, axs = plt.subplots(1,2, figsize=(15,5))\n",
    "sns.ecdfplot(data=df_money[\"Luxury\"], ax=axs[0])\n",
    "sns.ecdfplot(data=df_money[\"Regular\"], ax=axs[1])\n",
    "\n",
    "axs[0].axvline(df_money[\"Luxury\"].mean(), c=\"purple\")\n",
    "axs[0].axvline(df_money[\"Luxury\"].median(), c=\"red\")\n",
    "axs[0].axvline(df_money[\"Luxury\"].quantile(0.25), c=\"orange\")\n",
    "axs[0].axvline(df_money[\"Luxury\"].quantile(0.75), c=\"orange\")\n",
    "\n",
    "axs[1].axvline(df_money[\"Regular\"].mean(), c=\"purple\")\n",
    "axs[1].axvline(df_money[\"Regular\"].median(), c=\"red\")\n",
    "axs[1].axvline(df_money[\"Regular\"].quantile(0.25), c=\"orange\")\n",
    "axs[1].axvline(df_money[\"Regular\"].quantile(0.75), c=\"orange\")\n",
    "\n",
    "plt.show()"
   ]
  },
  {
   "cell_type": "code",
   "execution_count": 55,
   "id": "7a1c4fea-179b-4491-8180-c147449e73c4",
   "metadata": {},
   "outputs": [
    {
     "data": {
      "text/html": [
       "<div>\n",
       "<style scoped>\n",
       "    .dataframe tbody tr th:only-of-type {\n",
       "        vertical-align: middle;\n",
       "    }\n",
       "\n",
       "    .dataframe tbody tr th {\n",
       "        vertical-align: top;\n",
       "    }\n",
       "\n",
       "    .dataframe thead th {\n",
       "        text-align: right;\n",
       "    }\n",
       "</style>\n",
       "<table border=\"1\" class=\"dataframe\">\n",
       "  <thead>\n",
       "    <tr style=\"text-align: right;\">\n",
       "      <th></th>\n",
       "      <th>Luxury</th>\n",
       "      <th>Regular</th>\n",
       "    </tr>\n",
       "  </thead>\n",
       "  <tbody>\n",
       "    <tr>\n",
       "      <th>Luxury</th>\n",
       "      <td>1.000000</td>\n",
       "      <td>-0.028968</td>\n",
       "    </tr>\n",
       "    <tr>\n",
       "      <th>Regular</th>\n",
       "      <td>-0.028968</td>\n",
       "      <td>1.000000</td>\n",
       "    </tr>\n",
       "  </tbody>\n",
       "</table>\n",
       "</div>"
      ],
      "text/plain": [
       "           Luxury   Regular\n",
       "Luxury   1.000000 -0.028968\n",
       "Regular -0.028968  1.000000"
      ]
     },
     "execution_count": 55,
     "metadata": {},
     "output_type": "execute_result"
    }
   ],
   "source": [
    "df_money[['Luxury','Regular']].corr()"
   ]
  },
  {
   "cell_type": "code",
   "execution_count": 56,
   "id": "a36826ae-18ab-4065-a76d-0daf6d27d915",
   "metadata": {},
   "outputs": [
    {
     "data": {
      "text/html": [
       "<div>\n",
       "<style scoped>\n",
       "    .dataframe tbody tr th:only-of-type {\n",
       "        vertical-align: middle;\n",
       "    }\n",
       "\n",
       "    .dataframe tbody tr th {\n",
       "        vertical-align: top;\n",
       "    }\n",
       "\n",
       "    .dataframe thead th {\n",
       "        text-align: right;\n",
       "    }\n",
       "</style>\n",
       "<table border=\"1\" class=\"dataframe\">\n",
       "  <thead>\n",
       "    <tr style=\"text-align: right;\">\n",
       "      <th></th>\n",
       "      <th>Luxury</th>\n",
       "      <th>Regular</th>\n",
       "    </tr>\n",
       "  </thead>\n",
       "  <tbody>\n",
       "    <tr>\n",
       "      <th>Luxury</th>\n",
       "      <td>403032.644792</td>\n",
       "      <td>-10381.056021</td>\n",
       "    </tr>\n",
       "    <tr>\n",
       "      <th>Regular</th>\n",
       "      <td>-10381.056021</td>\n",
       "      <td>315366.598195</td>\n",
       "    </tr>\n",
       "  </tbody>\n",
       "</table>\n",
       "</div>"
      ],
      "text/plain": [
       "                Luxury        Regular\n",
       "Luxury   403032.644792  -10381.056021\n",
       "Regular  -10381.056021  315366.598195"
      ]
     },
     "execution_count": 56,
     "metadata": {},
     "output_type": "execute_result"
    }
   ],
   "source": [
    "df_money[['Luxury','Regular']].cov()"
   ]
  },
  {
   "cell_type": "markdown",
   "id": "bfb85235-baf1-41f0-9dfb-bf8f3cf2b303",
   "metadata": {
    "_cell_guid": "cb6bfd1b-64d8-40ad-9f28-68312b884bac",
    "_uuid": "101c99e1-c084-42fa-8565-5721c2c40c88",
    "papermill": {
     "duration": 0.04204,
     "end_time": "2024-02-03T23:02:41.756509",
     "exception": false,
     "start_time": "2024-02-03T23:02:41.714469",
     "status": "completed"
    },
    "tags": []
   },
   "source": [
    "Using kNNImputer, we can impute NaN values using the kNN algorithm."
   ]
  },
  {
   "cell_type": "code",
   "execution_count": 57,
   "id": "f4fcf860",
   "metadata": {
    "_cell_guid": "967e9da8-94e7-4991-b8e4-ec5e24972a8f",
    "_uuid": "b64b158a-c564-42d3-9c77-a8614f7611cf",
    "collapsed": false,
    "jupyter": {
     "outputs_hidden": false
    },
    "papermill": {
     "duration": 0.051115,
     "end_time": "2024-02-03T23:02:41.851166",
     "exception": false,
     "start_time": "2024-02-03T23:02:41.800051",
     "status": "completed"
    },
    "tags": []
   },
   "outputs": [],
   "source": [
    "imp = KNNImputer(n_neighbors=5, weights='distance')"
   ]
  },
  {
   "cell_type": "code",
   "execution_count": 58,
   "id": "8657428b",
   "metadata": {
    "_cell_guid": "b29afccb-440c-453d-bc6f-4ff927b693ca",
    "_uuid": "53fa2529-a03f-4721-8fc6-e7724ee79525",
    "collapsed": false,
    "jupyter": {
     "outputs_hidden": false
    },
    "papermill": {
     "duration": 2.593336,
     "end_time": "2024-02-03T23:02:44.487092",
     "exception": false,
     "start_time": "2024-02-03T23:02:41.893756",
     "status": "completed"
    },
    "tags": []
   },
   "outputs": [],
   "source": [
    "cols_wo_class = list(df.columns)\n",
    "cols_wo_class.remove('Transported')\n",
    "\n",
    "df[cols_wo_class] = imp.fit_transform(df[cols_wo_class])"
   ]
  },
  {
   "cell_type": "markdown",
   "id": "f87c9b83-9c07-4ac7-9fa0-353ed2a4bd02",
   "metadata": {},
   "source": [
    "We export the dataframe as a csv"
   ]
  },
  {
   "cell_type": "code",
   "execution_count": 59,
   "id": "bd1c2eae-c322-4a3c-84c0-421fce5b84be",
   "metadata": {},
   "outputs": [],
   "source": [
    "df.to_csv('final.csv')"
   ]
  },
  {
   "cell_type": "markdown",
   "id": "84f33ffc",
   "metadata": {
    "_cell_guid": "c8250ccc-652e-416f-962d-2b1840b53182",
    "_uuid": "49e01de9-340a-4546-a7c3-d4b6e3f4a7fd",
    "papermill": {
     "duration": 0.041716,
     "end_time": "2024-02-03T23:02:44.570974",
     "exception": false,
     "start_time": "2024-02-03T23:02:44.529258",
     "status": "completed"
    },
    "tags": []
   },
   "source": [
    "# Modeling"
   ]
  },
  {
   "cell_type": "markdown",
   "id": "232cc38b",
   "metadata": {
    "_cell_guid": "ad2e9d3a-60b6-4701-b156-d8992b2439ad",
    "_uuid": "46740325-b8b5-450e-9feb-20f9c3059d8c",
    "papermill": {
     "duration": 0.041836,
     "end_time": "2024-02-03T23:02:44.654806",
     "exception": false,
     "start_time": "2024-02-03T23:02:44.612970",
     "status": "completed"
    },
    "tags": []
   },
   "source": [
    "We will now build our random forest, and perform a grid search to find the best parameters for it. I decided to search for optimal values for the max depth, criterion and class weight parameters."
   ]
  },
  {
   "cell_type": "code",
   "execution_count": 54,
   "id": "f7d244b6",
   "metadata": {
    "_cell_guid": "828f56c0-db3b-4369-a187-268b40ee68ac",
    "_uuid": "b51b1a20-172c-4aab-a552-27a521a74c9e",
    "collapsed": false,
    "jupyter": {
     "outputs_hidden": false
    },
    "papermill": {
     "duration": 0.057759,
     "end_time": "2024-02-03T23:02:44.754614",
     "exception": false,
     "start_time": "2024-02-03T23:02:44.696855",
     "status": "completed"
    },
    "tags": []
   },
   "outputs": [
    {
     "data": {
      "text/plain": [
       "((8693, 16), (4277, 16))"
      ]
     },
     "execution_count": 54,
     "metadata": {},
     "output_type": "execute_result"
    }
   ],
   "source": [
    "df_test = df[df['Transported'].isna()]\n",
    "df_train = df[df['Transported'].notna()]\n",
    "(df_train.shape, df_test.shape)"
   ]
  },
  {
   "cell_type": "code",
   "execution_count": 55,
   "id": "f0cf0645",
   "metadata": {
    "_cell_guid": "2fe3bcac-437d-4410-be90-084876e0ff84",
    "_uuid": "37e94959-4298-4e93-946b-cca278f9b314",
    "collapsed": false,
    "jupyter": {
     "outputs_hidden": false
    },
    "papermill": {
     "duration": 0.053071,
     "end_time": "2024-02-03T23:02:44.850196",
     "exception": false,
     "start_time": "2024-02-03T23:02:44.797125",
     "status": "completed"
    },
    "tags": []
   },
   "outputs": [],
   "source": [
    "x_train = df_train.drop('Transported', axis=1)\n",
    "y_train = df_train['Transported']"
   ]
  },
  {
   "cell_type": "code",
   "execution_count": 56,
   "id": "7c8dbb51",
   "metadata": {
    "_cell_guid": "0d477c84-8662-4471-b8c9-96f76ae32bf5",
    "_uuid": "a2bfd933-5600-496a-94b4-265093244f4d",
    "collapsed": false,
    "jupyter": {
     "outputs_hidden": false
    },
    "papermill": {
     "duration": 0.052748,
     "end_time": "2024-02-03T23:02:44.946267",
     "exception": false,
     "start_time": "2024-02-03T23:02:44.893519",
     "status": "completed"
    },
    "tags": []
   },
   "outputs": [],
   "source": [
    "df_test = df_test.drop('Transported', axis=1)"
   ]
  },
  {
   "cell_type": "markdown",
   "id": "7a64d04a",
   "metadata": {
    "_cell_guid": "596fa71c-d9ef-493b-8337-442078a3efad",
    "_uuid": "660d2f31-1cd0-4e69-bdfa-cfc6aa85601c",
    "papermill": {
     "duration": 0.04233,
     "end_time": "2024-02-03T23:02:45.032124",
     "exception": false,
     "start_time": "2024-02-03T23:02:44.989794",
     "status": "completed"
    },
    "tags": []
   },
   "source": [
    "## LGBM"
   ]
  },
  {
   "cell_type": "code",
   "execution_count": 57,
   "id": "985a7869",
   "metadata": {
    "_cell_guid": "4e2670ad-f8df-4295-b316-951f30c92feb",
    "_uuid": "42ce706d-cdc4-4d9f-9ba0-d92146c66394",
    "collapsed": false,
    "jupyter": {
     "outputs_hidden": false
    },
    "papermill": {
     "duration": 1.451775,
     "end_time": "2024-02-03T23:02:46.526588",
     "exception": false,
     "start_time": "2024-02-03T23:02:45.074813",
     "status": "completed"
    },
    "tags": []
   },
   "outputs": [],
   "source": [
    "from lightgbm import LGBMClassifier"
   ]
  },
  {
   "cell_type": "code",
   "execution_count": 58,
   "id": "01924c88",
   "metadata": {
    "_cell_guid": "ef277427-a6ad-4626-8d66-b158750114bf",
    "_uuid": "56547c15-7d4f-41ee-a69f-25ed70fc6598",
    "collapsed": false,
    "jupyter": {
     "outputs_hidden": false
    },
    "papermill": {
     "duration": 0.052157,
     "end_time": "2024-02-03T23:02:46.622522",
     "exception": false,
     "start_time": "2024-02-03T23:02:46.570365",
     "status": "completed"
    },
    "tags": []
   },
   "outputs": [],
   "source": [
    "booster = LGBMClassifier(random_state=0, n_jobs=-1)"
   ]
  },
  {
   "cell_type": "code",
   "execution_count": 59,
   "id": "7eda95d6",
   "metadata": {
    "papermill": {
     "duration": 0.052382,
     "end_time": "2024-02-03T23:02:46.718711",
     "exception": false,
     "start_time": "2024-02-03T23:02:46.666329",
     "status": "completed"
    },
    "tags": []
   },
   "outputs": [],
   "source": [
    "shuffle = ShuffleSplit(n_splits=10, test_size=0.4)"
   ]
  },
  {
   "cell_type": "code",
   "execution_count": 60,
   "id": "cffc1eb5",
   "metadata": {
    "_cell_guid": "c97804d3-2678-476a-8025-da75cc061be5",
    "_uuid": "60e72205-9763-4e07-86de-25190be94104",
    "collapsed": false,
    "jupyter": {
     "outputs_hidden": false
    },
    "papermill": {
     "duration": 7.216874,
     "end_time": "2024-02-03T23:02:53.978902",
     "exception": false,
     "start_time": "2024-02-03T23:02:46.762028",
     "status": "completed"
    },
    "tags": []
   },
   "outputs": [
    {
     "name": "stdout",
     "output_type": "stream",
     "text": [
      "[0.79614721 0.80189764 0.81282346 0.80017251 0.79442208 0.79700978\n",
      " 0.79298447 0.81052329 0.79528465 0.79902243]\n",
      "0.8000287521564117\n"
     ]
    }
   ],
   "source": [
    "scores = cross_val_score(booster, x_train, y_train, scoring='accuracy', n_jobs=-1, cv=shuffle)\n",
    "print(scores)\n",
    "print(np.mean(scores))"
   ]
  },
  {
   "cell_type": "markdown",
   "id": "bb9b152d",
   "metadata": {
    "_cell_guid": "8cff8b1c-144f-4daa-9143-11e35ead79fb",
    "_uuid": "a6b7c1aa-cb12-49e5-a030-977cfb31ac53",
    "papermill": {
     "duration": 0.043329,
     "end_time": "2024-02-03T23:02:54.070913",
     "exception": false,
     "start_time": "2024-02-03T23:02:54.027584",
     "status": "completed"
    },
    "tags": []
   },
   "source": [
    "We got 80%. Let's try grid_searching."
   ]
  },
  {
   "cell_type": "code",
   "execution_count": 61,
   "id": "2a5fc491",
   "metadata": {
    "_cell_guid": "a19ddd65-69b8-4067-8e49-15fdca3577b2",
    "_uuid": "ce6af477-7956-4f9d-a283-b841f8f2f2ea",
    "collapsed": false,
    "jupyter": {
     "outputs_hidden": false
    },
    "papermill": {
     "duration": 0.053004,
     "end_time": "2024-02-03T23:02:54.167980",
     "exception": false,
     "start_time": "2024-02-03T23:02:54.114976",
     "status": "completed"
    },
    "tags": []
   },
   "outputs": [],
   "source": [
    "gs = GridSearchCV(\n",
    "    booster,\n",
    "    {\n",
    "        \"n_estimators\":[100,50,10],\n",
    "        \"learning_rate\":[0.1, 1e-2, 1e-3],\n",
    "        \"num_leaves\":[2,10,30],\n",
    "        \"objective\":[\"binary\"]\n",
    "    },\n",
    "    scoring=\"accuracy\",\n",
    "    n_jobs=-1,\n",
    "    cv=shuffle\n",
    ")"
   ]
  },
  {
   "cell_type": "code",
   "execution_count": 62,
   "id": "7042a6df",
   "metadata": {
    "_cell_guid": "b83db0ba-788f-4717-90e5-f290aaa2c8ca",
    "_uuid": "8265bf49-c150-4377-b0c9-da663cf3b743",
    "papermill": {
     "duration": 16.161052,
     "end_time": "2024-02-03T23:03:10.372006",
     "exception": false,
     "start_time": "2024-02-03T23:02:54.210954",
     "status": "completed"
    },
    "tags": []
   },
   "outputs": [
    {
     "data": {
      "text/plain": [
       "0.8306683538479236"
      ]
     },
     "execution_count": 62,
     "metadata": {},
     "output_type": "execute_result"
    }
   ],
   "source": [
    "#This cell takes a minute to run\n",
    "gs.fit(x_train,y_train)\n",
    "gs.score(x_train,y_train)"
   ]
  },
  {
   "cell_type": "code",
   "execution_count": 63,
   "id": "e0498354",
   "metadata": {
    "_cell_guid": "ca69906f-e87c-4076-b4c8-29c71b678f94",
    "_uuid": "cea0b935-1e3b-439f-aaef-9740877c8887",
    "collapsed": false,
    "jupyter": {
     "outputs_hidden": false
    },
    "papermill": {
     "duration": 0.055984,
     "end_time": "2024-02-03T23:03:10.473744",
     "exception": false,
     "start_time": "2024-02-03T23:03:10.417760",
     "status": "completed"
    },
    "tags": []
   },
   "outputs": [
    {
     "data": {
      "text/plain": [
       "{'learning_rate': 0.1,\n",
       " 'n_estimators': 100,\n",
       " 'num_leaves': 10,\n",
       " 'objective': 'binary'}"
      ]
     },
     "execution_count": 63,
     "metadata": {},
     "output_type": "execute_result"
    }
   ],
   "source": [
    "gs.best_params_"
   ]
  },
  {
   "cell_type": "code",
   "execution_count": 64,
   "id": "9b72892b",
   "metadata": {
    "_cell_guid": "e502d4ec-a015-4397-a185-967ccc1943fa",
    "_uuid": "0b18d8fa-36e0-4b58-b046-f8bb77da7662",
    "collapsed": false,
    "jupyter": {
     "outputs_hidden": false
    },
    "papermill": {
     "duration": 0.053587,
     "end_time": "2024-02-03T23:03:10.574323",
     "exception": false,
     "start_time": "2024-02-03T23:03:10.520736",
     "status": "completed"
    },
    "tags": []
   },
   "outputs": [],
   "source": [
    "best_booster = gs.best_estimator_"
   ]
  },
  {
   "cell_type": "code",
   "execution_count": 65,
   "id": "e18a36ea",
   "metadata": {
    "_cell_guid": "bd020d9e-5d0f-4b92-86ef-0b9636bc0a7d",
    "_uuid": "88247853-3835-44bc-91e5-097a81bb4dfe",
    "papermill": {
     "duration": 1.16386,
     "end_time": "2024-02-03T23:03:11.784730",
     "exception": false,
     "start_time": "2024-02-03T23:03:10.620870",
     "status": "completed"
    },
    "tags": []
   },
   "outputs": [
    {
     "name": "stdout",
     "output_type": "stream",
     "text": [
      "[0.79873491 0.80333525 0.79758482 0.79844738 0.81224842 0.80362277\n",
      " 0.80161012 0.8013226  0.79442208 0.80448534]\n",
      "0.8015813686026453\n"
     ]
    }
   ],
   "source": [
    "scores = cross_val_score(booster, x_train, y_train, scoring='accuracy', n_jobs=-1, cv=shuffle)\n",
    "print(scores)\n",
    "print(np.mean(scores))"
   ]
  },
  {
   "cell_type": "code",
   "execution_count": 66,
   "id": "79fe1cd8",
   "metadata": {
    "_cell_guid": "fa2d2c5e-5890-4cc9-917f-3a763e12a4fc",
    "_uuid": "7240ce4e-a47f-4b34-bafa-a83d11ad0c4c",
    "collapsed": false,
    "jupyter": {
     "outputs_hidden": false
    },
    "papermill": {
     "duration": 0.073025,
     "end_time": "2024-02-03T23:03:11.904472",
     "exception": false,
     "start_time": "2024-02-03T23:03:11.831447",
     "status": "completed"
    },
    "tags": []
   },
   "outputs": [],
   "source": [
    "pred = best_booster.predict(df_test)"
   ]
  },
  {
   "cell_type": "markdown",
   "id": "3b3bfdf3",
   "metadata": {
    "_cell_guid": "d6874145-481a-4c58-8ed5-525011d81391",
    "_uuid": "bb6c5c1c-66c2-48b2-acd2-8355a85ef131",
    "jp-MarkdownHeadingCollapsed": true,
    "papermill": {
     "duration": 0.046499,
     "end_time": "2024-02-03T23:03:11.996983",
     "exception": false,
     "start_time": "2024-02-03T23:03:11.950484",
     "status": "completed"
    },
    "tags": []
   },
   "source": [
    "# Results"
   ]
  },
  {
   "cell_type": "markdown",
   "id": "c1640433",
   "metadata": {
    "_cell_guid": "30362dd2-e98d-46af-904f-19d3d0d37c5d",
    "_uuid": "ebca0769-5ec2-4165-b8fe-8684cb5e38b1",
    "papermill": {
     "duration": 0.045974,
     "end_time": "2024-02-03T23:03:12.089350",
     "exception": false,
     "start_time": "2024-02-03T23:03:12.043376",
     "status": "completed"
    },
    "tags": []
   },
   "source": [
    "We'll now write our results to a csv file and upload it to Kaggle"
   ]
  },
  {
   "cell_type": "code",
   "execution_count": 67,
   "id": "d51adbe7",
   "metadata": {
    "_cell_guid": "92ea17ce-664f-47eb-9fa3-4e79f7b6573a",
    "_uuid": "39017e25-22db-40be-8899-2b552fa25538",
    "papermill": {
     "duration": 0.076294,
     "end_time": "2024-02-03T23:03:12.212750",
     "exception": false,
     "start_time": "2024-02-03T23:03:12.136456",
     "status": "completed"
    },
    "tags": []
   },
   "outputs": [
    {
     "data": {
      "text/html": [
       "<div>\n",
       "<style scoped>\n",
       "    .dataframe tbody tr th:only-of-type {\n",
       "        vertical-align: middle;\n",
       "    }\n",
       "\n",
       "    .dataframe tbody tr th {\n",
       "        vertical-align: top;\n",
       "    }\n",
       "\n",
       "    .dataframe thead th {\n",
       "        text-align: right;\n",
       "    }\n",
       "</style>\n",
       "<table border=\"1\" class=\"dataframe\">\n",
       "  <thead>\n",
       "    <tr style=\"text-align: right;\">\n",
       "      <th></th>\n",
       "      <th>Transported</th>\n",
       "    </tr>\n",
       "    <tr>\n",
       "      <th>PassengerId</th>\n",
       "      <th></th>\n",
       "    </tr>\n",
       "  </thead>\n",
       "  <tbody>\n",
       "    <tr>\n",
       "      <th>0013_01</th>\n",
       "      <td>False</td>\n",
       "    </tr>\n",
       "    <tr>\n",
       "      <th>0018_01</th>\n",
       "      <td>False</td>\n",
       "    </tr>\n",
       "    <tr>\n",
       "      <th>0019_01</th>\n",
       "      <td>True</td>\n",
       "    </tr>\n",
       "    <tr>\n",
       "      <th>0021_01</th>\n",
       "      <td>True</td>\n",
       "    </tr>\n",
       "    <tr>\n",
       "      <th>0023_01</th>\n",
       "      <td>False</td>\n",
       "    </tr>\n",
       "    <tr>\n",
       "      <th>...</th>\n",
       "      <td>...</td>\n",
       "    </tr>\n",
       "    <tr>\n",
       "      <th>9266_02</th>\n",
       "      <td>True</td>\n",
       "    </tr>\n",
       "    <tr>\n",
       "      <th>9269_01</th>\n",
       "      <td>True</td>\n",
       "    </tr>\n",
       "    <tr>\n",
       "      <th>9271_01</th>\n",
       "      <td>True</td>\n",
       "    </tr>\n",
       "    <tr>\n",
       "      <th>9273_01</th>\n",
       "      <td>True</td>\n",
       "    </tr>\n",
       "    <tr>\n",
       "      <th>9277_01</th>\n",
       "      <td>True</td>\n",
       "    </tr>\n",
       "  </tbody>\n",
       "</table>\n",
       "<p>4277 rows × 1 columns</p>\n",
       "</div>"
      ],
      "text/plain": [
       "             Transported\n",
       "PassengerId             \n",
       "0013_01            False\n",
       "0018_01            False\n",
       "0019_01             True\n",
       "0021_01             True\n",
       "0023_01            False\n",
       "...                  ...\n",
       "9266_02             True\n",
       "9269_01             True\n",
       "9271_01             True\n",
       "9273_01             True\n",
       "9277_01             True\n",
       "\n",
       "[4277 rows x 1 columns]"
      ]
     },
     "execution_count": 67,
     "metadata": {},
     "output_type": "execute_result"
    }
   ],
   "source": [
    "results = pd.DataFrame(np.vectorize(lambda x:bool(x))(pred), index=df_test.index, columns=['Transported'])\n",
    "results.to_csv('submission.csv')\n",
    "results"
   ]
  },
  {
   "cell_type": "markdown",
   "id": "02594d84",
   "metadata": {
    "_cell_guid": "50bcade4-da52-493a-b9a1-116ae30a644e",
    "_uuid": "633d8389-c9e5-4d94-8a00-178d56fc36f6",
    "papermill": {
     "duration": 0.049192,
     "end_time": "2024-02-03T23:03:12.309590",
     "exception": false,
     "start_time": "2024-02-03T23:03:12.260398",
     "status": "completed"
    },
    "tags": []
   },
   "source": [
    "TODO : PCA, FS++, FE++, DNN, RandomizedSearchCV, HalvingSearchCV"
   ]
  }
 ],
 "metadata": {
  "kaggle": {
   "accelerator": "none",
   "dataSources": [
    {
     "databundleVersionId": 3220602,
     "sourceId": 34377,
     "sourceType": "competition"
    }
   ],
   "dockerImageVersionId": 30646,
   "isGpuEnabled": false,
   "isInternetEnabled": true,
   "language": "python",
   "sourceType": "notebook"
  },
  "kernelspec": {
   "display_name": "Python 3 (ipykernel)",
   "language": "python",
   "name": "python3"
  },
  "language_info": {
   "codemirror_mode": {
    "name": "ipython",
    "version": 3
   },
   "file_extension": ".py",
   "mimetype": "text/x-python",
   "name": "python",
   "nbconvert_exporter": "python",
   "pygments_lexer": "ipython3",
   "version": "3.11.7"
  },
  "papermill": {
   "default_parameters": {},
   "duration": 52.071657,
   "end_time": "2024-02-03T23:03:14.977264",
   "environment_variables": {},
   "exception": null,
   "input_path": "__notebook__.ipynb",
   "output_path": "__notebook__.ipynb",
   "parameters": {},
   "start_time": "2024-02-03T23:02:22.905607",
   "version": "2.5.0"
  }
 },
 "nbformat": 4,
 "nbformat_minor": 5
}
